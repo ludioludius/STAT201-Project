{
 "cells": [
  {
   "cell_type": "markdown",
   "id": "25dddd20",
   "metadata": {},
   "source": [
    "# Deliverable 4: Final Report"
   ]
  },
  {
   "cell_type": "markdown",
   "id": "4fc2469b",
   "metadata": {},
   "source": [
    "# 1. Introduction\n"
   ]
  },
  {
   "cell_type": "markdown",
   "id": "af36c55d",
   "metadata": {},
   "source": [
    "Since the beginning of the covid-19 pandemic in 2020, remote work has been on the rise globally (Brynjolfsson, E. et al., 2020). This drastic change in the way companies operate poses numerous challenges and opportunities for both employers and employees. Given the potential increases in productivity (Galanti, Teresa et al., 2021) among remote workers and the obvious decrease in operating costs for companies, it would be insightful to see if these factors point to a difference in salaries among data science professionals. Since the nature of most data science jobs allows fully remote work, it would be informative to look at salary differences between fully-remote and conventional work.\n",
    "\n",
    "This raises an interesting question: **does salary differ between full-remote and conventional positions for full-time data science professionals?** We will provide an estimate of the mean salary for both groups(remote and conventional workers) and conduct a two-sample t-test in an attepmt to provide evidence for there being a difference between the two groups. Given the skewed nature of the salaries in our dataset, we will use the inter-quartile range to quantify the spread of the data. \n",
    "\n",
    "\n",
    "To answer our question, we discovered a dataset originally aggregated by [ai-jobs.net](https://salaries.ai-jobs.net/) through [Kaggle](https://www.kaggle.com/datasets/ruchi798/data-science-job-salaries). This dataset includes 607 observations with 11 factors: year, experience level, full/part-time, job titles, salary values in different currencies, employees location, remote ratio, company locations, and company sizes (more detials see 2.2).  We take the `salary_in_usd` as our response variables and take `remote_ratio` as our explanatory variable."
   ]
  },
  {
   "cell_type": "code",
   "execution_count": 1,
   "id": "05667508",
   "metadata": {},
   "outputs": [
    {
     "name": "stderr",
     "output_type": "stream",
     "text": [
      "── \u001b[1mAttaching packages\u001b[22m ─────────────────────────────────────── tidyverse 1.3.0 ──\n",
      "\n",
      "\u001b[32m✔\u001b[39m \u001b[34mggplot2\u001b[39m 3.3.6     \u001b[32m✔\u001b[39m \u001b[34mdplyr  \u001b[39m 1.0.9\n",
      "\u001b[32m✔\u001b[39m \u001b[34mtibble \u001b[39m 3.1.7     \u001b[32m✔\u001b[39m \u001b[34mstringr\u001b[39m 1.4.0\n",
      "\u001b[32m✔\u001b[39m \u001b[34mpurrr  \u001b[39m 0.3.4     \u001b[32m✔\u001b[39m \u001b[34mforcats\u001b[39m 0.5.1\n",
      "\n",
      "── \u001b[1mConflicts\u001b[22m ────────────────────────────────────────── tidyverse_conflicts() ──\n",
      "\u001b[31m✖\u001b[39m \u001b[34mdplyr\u001b[39m::\u001b[32mfilter()\u001b[39m masks \u001b[34mstats\u001b[39m::filter()\n",
      "\u001b[31m✖\u001b[39m \u001b[34mdplyr\u001b[39m::\u001b[32mident()\u001b[39m  masks \u001b[34mdbplyr\u001b[39m::ident()\n",
      "\u001b[31m✖\u001b[39m \u001b[34mdplyr\u001b[39m::\u001b[32mlag()\u001b[39m    masks \u001b[34mstats\u001b[39m::lag()\n",
      "\u001b[31m✖\u001b[39m \u001b[34mdplyr\u001b[39m::\u001b[32msql()\u001b[39m    masks \u001b[34mdbplyr\u001b[39m::sql()\n",
      "\n",
      "\n",
      "Attaching package: ‘lubridate’\n",
      "\n",
      "\n",
      "The following object is masked from ‘package:cowplot’:\n",
      "\n",
      "    stamp\n",
      "\n",
      "\n",
      "The following objects are masked from ‘package:base’:\n",
      "\n",
      "    date, intersect, setdiff, union\n",
      "\n",
      "\n",
      "\n",
      "Attaching package: ‘scales’\n",
      "\n",
      "\n",
      "The following object is masked from ‘package:purrr’:\n",
      "\n",
      "    discard\n",
      "\n",
      "\n",
      "The following object is masked from ‘package:readr’:\n",
      "\n",
      "    col_factor\n",
      "\n",
      "\n"
     ]
    }
   ],
   "source": [
    "library(readr)\n",
    "library(tidyr)\n",
    "library(infer)\n",
    "library(repr)\n",
    "library(dbplyr)\n",
    "library(tidyverse)\n",
    "library(cowplot)\n",
    "library(ggplot2)\n",
    "library(digest)\n",
    "library(lubridate)\n",
    "library(scales)"
   ]
  },
  {
   "cell_type": "markdown",
   "id": "1a2b3c41",
   "metadata": {},
   "source": [
    "# 2. Methods and Results\n",
    "*Here is where you’ll include your work from the “Preliminary Results” in your proposal, along with the additional results you planned to conduct, as indicated in the “Methods: Plan” section of your proposal.* \n",
    "\n",
    "*Be sure to **incorporate feedback from the teaching team and your peers (as relevant)**, or **make any improvements based on your own improved understanding of the project** (now that more time has passed since the proposal).*\n",
    "\n"
   ]
  },
  {
   "cell_type": "markdown",
   "id": "9708eff9",
   "metadata": {},
   "source": [
    "### 2.1 Preliminary results and improvements in plan"
   ]
  },
  {
   "cell_type": "markdown",
   "id": "90de27ae",
   "metadata": {},
   "source": [
    "- Hi Ayush :)"
   ]
  },
  {
   "cell_type": "markdown",
   "id": "798f30b1",
   "metadata": {},
   "source": [
    "*Specifically, in addition to what is requested in the “Preliminary Results” section of the proposal, we are looking for the following components:*\n",
    "\n",
    "***Describe in written English the methods you used** to perform your analysis from beginning to end that **narrates the code** the does the analysis.*"
   ]
  },
  {
   "cell_type": "markdown",
   "id": "44198e9e-aa5d-40ad-81b7-51f7c8537c81",
   "metadata": {},
   "source": [
    "- choose only mean and given up median for normality condition  \n",
    "- take them as two groups/populations to compare the difference\n",
    "- is the overall sample mean still meaningful and indicative? "
   ]
  },
  {
   "cell_type": "markdown",
   "id": "f5281d08",
   "metadata": {},
   "source": [
    "### 2.2 Methods and analysis"
   ]
  },
  {
   "cell_type": "code",
   "execution_count": 2,
   "id": "3ae3ac3f-9b76-4d60-9b90-af6815041e21",
   "metadata": {},
   "outputs": [
    {
     "name": "stderr",
     "output_type": "stream",
     "text": [
      "\u001b[1m\u001b[22mNew names:\n",
      "\u001b[36m•\u001b[39m `` -> `...1`\n",
      "\u001b[1mRows: \u001b[22m\u001b[34m607\u001b[39m \u001b[1mColumns: \u001b[22m\u001b[34m12\u001b[39m\n",
      "\u001b[36m──\u001b[39m \u001b[1mColumn specification\u001b[22m \u001b[36m────────────────────────────────────────────────────────\u001b[39m\n",
      "\u001b[1mDelimiter:\u001b[22m \",\"\n",
      "\u001b[31mchr\u001b[39m (7): experience_level, employment_type, job_title, salary_currency, empl...\n",
      "\u001b[32mdbl\u001b[39m (5): ...1, work_year, salary, salary_in_usd, remote_ratio\n",
      "\n",
      "\u001b[36mℹ\u001b[39m Use `spec()` to retrieve the full column specification for this data.\n",
      "\u001b[36mℹ\u001b[39m Specify the column types or set `show_col_types = FALSE` to quiet this message.\n"
     ]
    },
    {
     "name": "stdout",
     "output_type": "stream",
     "text": [
      "Rows: 607\n",
      "Columns: 12\n",
      "$ ...1               \u001b[3m\u001b[90m<dbl>\u001b[39m\u001b[23m 0, 1, 2, 3, 4, 5, 6, 7, 8, 9, 10, 11, 12, 13, 14, 1…\n",
      "$ work_year          \u001b[3m\u001b[90m<dbl>\u001b[39m\u001b[23m 2020, 2020, 2020, 2020, 2020, 2020, 2020, 2020, 202…\n",
      "$ experience_level   \u001b[3m\u001b[90m<chr>\u001b[39m\u001b[23m \"MI\", \"SE\", \"SE\", \"MI\", \"SE\", \"EN\", \"SE\", \"MI\", \"MI…\n",
      "$ employment_type    \u001b[3m\u001b[90m<chr>\u001b[39m\u001b[23m \"FT\", \"FT\", \"FT\", \"FT\", \"FT\", \"FT\", \"FT\", \"FT\", \"FT…\n",
      "$ job_title          \u001b[3m\u001b[90m<chr>\u001b[39m\u001b[23m \"Data Scientist\", \"Machine Learning Scientist\", \"Bi…\n",
      "$ salary             \u001b[3m\u001b[90m<dbl>\u001b[39m\u001b[23m 70000, 260000, 85000, 20000, 150000, 72000, 190000,…\n",
      "$ salary_currency    \u001b[3m\u001b[90m<chr>\u001b[39m\u001b[23m \"EUR\", \"USD\", \"GBP\", \"USD\", \"USD\", \"USD\", \"USD\", \"H…\n",
      "$ salary_in_usd      \u001b[3m\u001b[90m<dbl>\u001b[39m\u001b[23m 79833, 260000, 109024, 20000, 150000, 72000, 190000…\n",
      "$ employee_residence \u001b[3m\u001b[90m<chr>\u001b[39m\u001b[23m \"DE\", \"JP\", \"GB\", \"HN\", \"US\", \"US\", \"US\", \"HU\", \"US…\n",
      "$ remote_ratio       \u001b[3m\u001b[90m<dbl>\u001b[39m\u001b[23m 0, 0, 50, 0, 50, 100, 100, 50, 100, 50, 0, 0, 0, 10…\n",
      "$ company_location   \u001b[3m\u001b[90m<chr>\u001b[39m\u001b[23m \"DE\", \"JP\", \"GB\", \"HN\", \"US\", \"US\", \"US\", \"HU\", \"US…\n",
      "$ company_size       \u001b[3m\u001b[90m<chr>\u001b[39m\u001b[23m \"L\", \"S\", \"M\", \"S\", \"L\", \"L\", \"S\", \"L\", \"L\", \"S\", \"…\n"
     ]
    }
   ],
   "source": [
    "# Given the absence of an official API for R language from Kaggle, \n",
    "# we had to transfer the .csv file to Github for the import process.\n",
    "\n",
    "ds_salaries <- read_csv(\"https://raw.githubusercontent.com/CalicoCalliope/ds_salaries_r/main/ds_salaries.csv\")\n",
    "\n",
    "glimpse(ds_salaries)"
   ]
  },
  {
   "cell_type": "code",
   "execution_count": 3,
   "id": "53f44a37-f30d-4190-89ae-fd84a4560cbb",
   "metadata": {},
   "outputs": [
    {
     "data": {
      "text/html": [
       "<table class=\"dataframe\">\n",
       "<caption>A tibble: 6 × 5</caption>\n",
       "<thead>\n",
       "\t<tr><th scope=col>salary_in_usd</th><th scope=col>remote_ratio</th><th scope=col>company_location</th><th scope=col>company_size</th><th scope=col>experience_level</th></tr>\n",
       "\t<tr><th scope=col>&lt;dbl&gt;</th><th scope=col>&lt;dbl&gt;</th><th scope=col>&lt;chr&gt;</th><th scope=col>&lt;chr&gt;</th><th scope=col>&lt;chr&gt;</th></tr>\n",
       "</thead>\n",
       "<tbody>\n",
       "\t<tr><td> 79833</td><td>  0</td><td>DE</td><td>L</td><td>MI</td></tr>\n",
       "\t<tr><td>260000</td><td>  0</td><td>JP</td><td>S</td><td>SE</td></tr>\n",
       "\t<tr><td>109024</td><td> 50</td><td>GB</td><td>M</td><td>SE</td></tr>\n",
       "\t<tr><td> 20000</td><td>  0</td><td>HN</td><td>S</td><td>MI</td></tr>\n",
       "\t<tr><td>150000</td><td> 50</td><td>US</td><td>L</td><td>SE</td></tr>\n",
       "\t<tr><td> 72000</td><td>100</td><td>US</td><td>L</td><td>EN</td></tr>\n",
       "</tbody>\n",
       "</table>\n"
      ],
      "text/latex": [
       "A tibble: 6 × 5\n",
       "\\begin{tabular}{lllll}\n",
       " salary\\_in\\_usd & remote\\_ratio & company\\_location & company\\_size & experience\\_level\\\\\n",
       " <dbl> & <dbl> & <chr> & <chr> & <chr>\\\\\n",
       "\\hline\n",
       "\t  79833 &   0 & DE & L & MI\\\\\n",
       "\t 260000 &   0 & JP & S & SE\\\\\n",
       "\t 109024 &  50 & GB & M & SE\\\\\n",
       "\t  20000 &   0 & HN & S & MI\\\\\n",
       "\t 150000 &  50 & US & L & SE\\\\\n",
       "\t  72000 & 100 & US & L & EN\\\\\n",
       "\\end{tabular}\n"
      ],
      "text/markdown": [
       "\n",
       "A tibble: 6 × 5\n",
       "\n",
       "| salary_in_usd &lt;dbl&gt; | remote_ratio &lt;dbl&gt; | company_location &lt;chr&gt; | company_size &lt;chr&gt; | experience_level &lt;chr&gt; |\n",
       "|---|---|---|---|---|\n",
       "|  79833 |   0 | DE | L | MI |\n",
       "| 260000 |   0 | JP | S | SE |\n",
       "| 109024 |  50 | GB | M | SE |\n",
       "|  20000 |   0 | HN | S | MI |\n",
       "| 150000 |  50 | US | L | SE |\n",
       "|  72000 | 100 | US | L | EN |\n",
       "\n"
      ],
      "text/plain": [
       "  salary_in_usd remote_ratio company_location company_size experience_level\n",
       "1  79833          0          DE               L            MI              \n",
       "2 260000          0          JP               S            SE              \n",
       "3 109024         50          GB               M            SE              \n",
       "4  20000          0          HN               S            MI              \n",
       "5 150000         50          US               L            SE              \n",
       "6  72000        100          US               L            EN              "
      ]
     },
     "metadata": {},
     "output_type": "display_data"
    }
   ],
   "source": [
    "df <- ds_salaries %>%\n",
    "\n",
    "    # filter only fulltime position to create sample for the targeted population:\n",
    "    filter(employment_type==\"FT\") %>% \n",
    "\n",
    "    select(salary_in_usd,  # select converted salaries so all values are on the same scale\n",
    "           remote_ratio,  # select remote ratio as the explanatory variable\n",
    "           \n",
    "           # include following potential indicators for more in-depth interests and future questions:\n",
    "           company_location,  # shown in ISO 3166 country code\n",
    "           company_size,  # S: < 50 employees, M: 50~250 employees, L: > 250 employees\n",
    "           experience_level)  # EN: Entry-level, MI: Mid-level, SE: Senior-level, EX: Executive-level\n",
    "\n",
    "head(df)"
   ]
  },
  {
   "cell_type": "code",
   "execution_count": 4,
   "id": "ec54c431-1212-447e-80fa-2e067a7ac07a",
   "metadata": {},
   "outputs": [
    {
     "data": {
      "text/html": [
       "113468.073129252"
      ],
      "text/latex": [
       "113468.073129252"
      ],
      "text/markdown": [
       "113468.073129252"
      ],
      "text/plain": [
       "[1] 113468.1"
      ]
     },
     "metadata": {},
     "output_type": "display_data"
    },
    {
     "data": {
      "text/html": [
       "104196.5"
      ],
      "text/latex": [
       "104196.5"
      ],
      "text/markdown": [
       "104196.5"
      ],
      "text/plain": [
       "[1] 104196.5"
      ]
     },
     "metadata": {},
     "output_type": "display_data"
    }
   ],
   "source": [
    "sample_stats <- df %>% \n",
    "    summarise(mean = mean(salary_in_usd),\n",
    "             median = median (salary_in_usd))\n",
    "\n",
    "mean_overall<- sample_stats[1] %>% pull()\n",
    "median_overall <- sample_stats[2] %>% pull()\n",
    "\n",
    "mean_overall\n",
    "median_overall"
   ]
  },
  {
   "cell_type": "code",
   "execution_count": 5,
   "id": "0707e9ee-d342-4523-8a2a-f362b8f10db8",
   "metadata": {},
   "outputs": [
    {
     "name": "stderr",
     "output_type": "stream",
     "text": [
      "Warning message:\n",
      "“Removed 2 rows containing missing values (geom_bar).”\n"
     ]
    },
    {
     "data": {
      "image/png": "[encoded data removed]",
      "text/plain": [
       "plot without title"
      ]
     },
     "metadata": {
      "image/png": {
       "height": 240,
       "width": 960
      }
     },
     "output_type": "display_data"
    }
   ],
   "source": [
    "options(repr.plot.width = 16, repr.plot.height = 4)\n",
    "options(\"scipen\"=10, \"digits\"=4)\n",
    "\n",
    "all_salary_plot  <- df %>% \n",
    "    ggplot(aes(x = salary_in_usd)) + \n",
    "    geom_histogram(binwidth = 10000, colour = 'blue', fill = 'light blue') +\n",
    "    labs(title = \"Sample Distribution of Global Data Science Annual Salaries (2020 - 2022, all 607 observations)\",\n",
    "         x = 'annual salary in USD',\n",
    "         y = 'counts') + \n",
    "        theme(text = element_text(size = 16)) +\n",
    "    \n",
    "    # add in sample mean and sample meadian as reference:\n",
    "    geom_vline(xintercept = 113468, colour = 'red', size = 1, linetype = \"solid\") +\n",
    "        annotate(\"text\", x = 113468, y = 45,label = \"sample mean = 113468\", color = \"red\", size=5, hjust = -0.1) +\n",
    "    geom_vline(xintercept = 104196, colour = 'dark green', alpha = 0.36, size = 1, linetype = \"longdash\") +\n",
    "        annotate(\"text\", x = 115717, y = 45, label = \"sample median = 115717\", color = \"dark green\", alpha = 0.36, size=5, hjust = 1.2)+ \n",
    "\n",
    "    # refine the limits and breaks of the x and y scales:\n",
    "    scale_y_continuous(limits = c(0, 45), breaks = seq(0, 45, 5)) +\n",
    "    scale_x_continuous(limits = c(0, 600001), breaks = seq(0, 600001, 30000)) \n",
    "\n",
    "\n",
    "all_salary_plot "
   ]
  },
  {
   "cell_type": "markdown",
   "id": "69940455-83ad-4bd3-9853-5b05a1d7b2ce",
   "metadata": {},
   "source": [
    "Given the purpose of the key question and the distribution of `remote_ratio` of this dataset:"
   ]
  },
  {
   "cell_type": "code",
   "execution_count": 6,
   "id": "b00179f2-6124-400d-a50c-495110aad619",
   "metadata": {},
   "outputs": [
    {
     "data": {
      "text/html": [
       "<table class=\"dataframe\">\n",
       "<caption>A tibble: 1 × 3</caption>\n",
       "<thead>\n",
       "\t<tr><th scope=col>onsite</th><th scope=col>hybrid</th><th scope=col>fully_remote</th></tr>\n",
       "\t<tr><th scope=col>&lt;int&gt;</th><th scope=col>&lt;int&gt;</th><th scope=col>&lt;int&gt;</th></tr>\n",
       "</thead>\n",
       "<tbody>\n",
       "\t<tr><td>126</td><td>92</td><td>370</td></tr>\n",
       "</tbody>\n",
       "</table>\n"
      ],
      "text/latex": [
       "A tibble: 1 × 3\n",
       "\\begin{tabular}{lll}\n",
       " onsite & hybrid & fully\\_remote\\\\\n",
       " <int> & <int> & <int>\\\\\n",
       "\\hline\n",
       "\t 126 & 92 & 370\\\\\n",
       "\\end{tabular}\n"
      ],
      "text/markdown": [
       "\n",
       "A tibble: 1 × 3\n",
       "\n",
       "| onsite &lt;int&gt; | hybrid &lt;int&gt; | fully_remote &lt;int&gt; |\n",
       "|---|---|---|\n",
       "| 126 | 92 | 370 |\n",
       "\n"
      ],
      "text/plain": [
       "  onsite hybrid fully_remote\n",
       "1 126    92     370         "
      ]
     },
     "metadata": {},
     "output_type": "display_data"
    }
   ],
   "source": [
    "# Although remote_ration is a double<dbl>, it has only three values: \n",
    "# 0%(onsite), 50%(hybrid), 100% (fully remote).  \n",
    "\n",
    "ratio_value_count <- df %>% \n",
    "    summarise(onsite = sum(remote_ratio == 0),\n",
    "              hybrid = sum(remote_ratio == 50),\n",
    "              fully_remote = sum(remote_ratio == 100))\n",
    "              \n",
    "ratio_value_count"
   ]
  },
  {
   "cell_type": "markdown",
   "id": "c2f5b2ba-9f78-4b3e-af3c-221fabe7bf78",
   "metadata": {},
   "source": [
    "From here onward, we divide the data into two groups:\n",
    "- `fully_remote`\n",
    "- `non_fully_remote` or \"conventional\""
   ]
  },
  {
   "cell_type": "code",
   "execution_count": 7,
   "id": "b8d5cf6f-e302-444f-bca6-4dd97d1b7f9d",
   "metadata": {},
   "outputs": [
    {
     "data": {
      "text/html": [
       "<table class=\"dataframe\">\n",
       "<caption>A tibble: 6 × 5</caption>\n",
       "<thead>\n",
       "\t<tr><th scope=col>salary_in_usd</th><th scope=col>company_location</th><th scope=col>company_size</th><th scope=col>experience_level</th><th scope=col>fully_remote</th></tr>\n",
       "\t<tr><th scope=col>&lt;dbl&gt;</th><th scope=col>&lt;chr&gt;</th><th scope=col>&lt;chr&gt;</th><th scope=col>&lt;chr&gt;</th><th scope=col>&lt;lgl&gt;</th></tr>\n",
       "</thead>\n",
       "<tbody>\n",
       "\t<tr><td> 79833</td><td>DE</td><td>L</td><td>MI</td><td>FALSE</td></tr>\n",
       "\t<tr><td>260000</td><td>JP</td><td>S</td><td>SE</td><td>FALSE</td></tr>\n",
       "\t<tr><td>109024</td><td>GB</td><td>M</td><td>SE</td><td>FALSE</td></tr>\n",
       "\t<tr><td> 20000</td><td>HN</td><td>S</td><td>MI</td><td>FALSE</td></tr>\n",
       "\t<tr><td>150000</td><td>US</td><td>L</td><td>SE</td><td>FALSE</td></tr>\n",
       "\t<tr><td> 72000</td><td>US</td><td>L</td><td>EN</td><td> TRUE</td></tr>\n",
       "</tbody>\n",
       "</table>\n"
      ],
      "text/latex": [
       "A tibble: 6 × 5\n",
       "\\begin{tabular}{lllll}\n",
       " salary\\_in\\_usd & company\\_location & company\\_size & experience\\_level & fully\\_remote\\\\\n",
       " <dbl> & <chr> & <chr> & <chr> & <lgl>\\\\\n",
       "\\hline\n",
       "\t  79833 & DE & L & MI & FALSE\\\\\n",
       "\t 260000 & JP & S & SE & FALSE\\\\\n",
       "\t 109024 & GB & M & SE & FALSE\\\\\n",
       "\t  20000 & HN & S & MI & FALSE\\\\\n",
       "\t 150000 & US & L & SE & FALSE\\\\\n",
       "\t  72000 & US & L & EN &  TRUE\\\\\n",
       "\\end{tabular}\n"
      ],
      "text/markdown": [
       "\n",
       "A tibble: 6 × 5\n",
       "\n",
       "| salary_in_usd &lt;dbl&gt; | company_location &lt;chr&gt; | company_size &lt;chr&gt; | experience_level &lt;chr&gt; | fully_remote &lt;lgl&gt; |\n",
       "|---|---|---|---|---|\n",
       "|  79833 | DE | L | MI | FALSE |\n",
       "| 260000 | JP | S | SE | FALSE |\n",
       "| 109024 | GB | M | SE | FALSE |\n",
       "|  20000 | HN | S | MI | FALSE |\n",
       "| 150000 | US | L | SE | FALSE |\n",
       "|  72000 | US | L | EN |  TRUE |\n",
       "\n"
      ],
      "text/plain": [
       "  salary_in_usd company_location company_size experience_level fully_remote\n",
       "1  79833        DE               L            MI               FALSE       \n",
       "2 260000        JP               S            SE               FALSE       \n",
       "3 109024        GB               M            SE               FALSE       \n",
       "4  20000        HN               S            MI               FALSE       \n",
       "5 150000        US               L            SE               FALSE       \n",
       "6  72000        US               L            EN                TRUE       "
      ]
     },
     "metadata": {},
     "output_type": "display_data"
    }
   ],
   "source": [
    "remote_binary <- df %>% \n",
    "    mutate(fully_remote = (remote_ratio == 100)) %>% \n",
    "    select(-remote_ratio) \n",
    "head(remote_binary)"
   ]
  },
  {
   "cell_type": "code",
   "execution_count": 8,
   "id": "fb0375b5-00fd-4618-b106-cdaaca05cb63",
   "metadata": {},
   "outputs": [
    {
     "data": {
      "text/html": [
       "<table class=\"dataframe\">\n",
       "<caption>A tibble: 6 × 5</caption>\n",
       "<thead>\n",
       "\t<tr><th scope=col>salary_in_usd</th><th scope=col>company_location</th><th scope=col>company_size</th><th scope=col>experience_level</th><th scope=col>fully_remote</th></tr>\n",
       "\t<tr><th scope=col>&lt;dbl&gt;</th><th scope=col>&lt;chr&gt;</th><th scope=col>&lt;chr&gt;</th><th scope=col>&lt;chr&gt;</th><th scope=col>&lt;lgl&gt;</th></tr>\n",
       "</thead>\n",
       "<tbody>\n",
       "\t<tr><td> 72000</td><td>US</td><td>L</td><td>EN</td><td>TRUE</td></tr>\n",
       "\t<tr><td>190000</td><td>US</td><td>S</td><td>SE</td><td>TRUE</td></tr>\n",
       "\t<tr><td>135000</td><td>US</td><td>L</td><td>MI</td><td>TRUE</td></tr>\n",
       "\t<tr><td> 87000</td><td>US</td><td>L</td><td>MI</td><td>TRUE</td></tr>\n",
       "\t<tr><td> 85000</td><td>US</td><td>L</td><td>MI</td><td>TRUE</td></tr>\n",
       "\t<tr><td> 41689</td><td>JP</td><td>S</td><td>EN</td><td>TRUE</td></tr>\n",
       "</tbody>\n",
       "</table>\n"
      ],
      "text/latex": [
       "A tibble: 6 × 5\n",
       "\\begin{tabular}{lllll}\n",
       " salary\\_in\\_usd & company\\_location & company\\_size & experience\\_level & fully\\_remote\\\\\n",
       " <dbl> & <chr> & <chr> & <chr> & <lgl>\\\\\n",
       "\\hline\n",
       "\t  72000 & US & L & EN & TRUE\\\\\n",
       "\t 190000 & US & S & SE & TRUE\\\\\n",
       "\t 135000 & US & L & MI & TRUE\\\\\n",
       "\t  87000 & US & L & MI & TRUE\\\\\n",
       "\t  85000 & US & L & MI & TRUE\\\\\n",
       "\t  41689 & JP & S & EN & TRUE\\\\\n",
       "\\end{tabular}\n"
      ],
      "text/markdown": [
       "\n",
       "A tibble: 6 × 5\n",
       "\n",
       "| salary_in_usd &lt;dbl&gt; | company_location &lt;chr&gt; | company_size &lt;chr&gt; | experience_level &lt;chr&gt; | fully_remote &lt;lgl&gt; |\n",
       "|---|---|---|---|---|\n",
       "|  72000 | US | L | EN | TRUE |\n",
       "| 190000 | US | S | SE | TRUE |\n",
       "| 135000 | US | L | MI | TRUE |\n",
       "|  87000 | US | L | MI | TRUE |\n",
       "|  85000 | US | L | MI | TRUE |\n",
       "|  41689 | JP | S | EN | TRUE |\n",
       "\n"
      ],
      "text/plain": [
       "  salary_in_usd company_location company_size experience_level fully_remote\n",
       "1  72000        US               L            EN               TRUE        \n",
       "2 190000        US               S            SE               TRUE        \n",
       "3 135000        US               L            MI               TRUE        \n",
       "4  87000        US               L            MI               TRUE        \n",
       "5  85000        US               L            MI               TRUE        \n",
       "6  41689        JP               S            EN               TRUE        "
      ]
     },
     "metadata": {},
     "output_type": "display_data"
    },
    {
     "data": {
      "text/html": [
       "<table class=\"dataframe\">\n",
       "<caption>A tibble: 6 × 5</caption>\n",
       "<thead>\n",
       "\t<tr><th scope=col>salary_in_usd</th><th scope=col>company_location</th><th scope=col>company_size</th><th scope=col>experience_level</th><th scope=col>fully_remote</th></tr>\n",
       "\t<tr><th scope=col>&lt;dbl&gt;</th><th scope=col>&lt;chr&gt;</th><th scope=col>&lt;chr&gt;</th><th scope=col>&lt;chr&gt;</th><th scope=col>&lt;lgl&gt;</th></tr>\n",
       "</thead>\n",
       "<tbody>\n",
       "\t<tr><td> 79833</td><td>DE</td><td>L</td><td>MI</td><td>FALSE</td></tr>\n",
       "\t<tr><td>260000</td><td>JP</td><td>S</td><td>SE</td><td>FALSE</td></tr>\n",
       "\t<tr><td>109024</td><td>GB</td><td>M</td><td>SE</td><td>FALSE</td></tr>\n",
       "\t<tr><td> 20000</td><td>HN</td><td>S</td><td>MI</td><td>FALSE</td></tr>\n",
       "\t<tr><td>150000</td><td>US</td><td>L</td><td>SE</td><td>FALSE</td></tr>\n",
       "\t<tr><td> 35735</td><td>HU</td><td>L</td><td>MI</td><td>FALSE</td></tr>\n",
       "</tbody>\n",
       "</table>\n"
      ],
      "text/latex": [
       "A tibble: 6 × 5\n",
       "\\begin{tabular}{lllll}\n",
       " salary\\_in\\_usd & company\\_location & company\\_size & experience\\_level & fully\\_remote\\\\\n",
       " <dbl> & <chr> & <chr> & <chr> & <lgl>\\\\\n",
       "\\hline\n",
       "\t  79833 & DE & L & MI & FALSE\\\\\n",
       "\t 260000 & JP & S & SE & FALSE\\\\\n",
       "\t 109024 & GB & M & SE & FALSE\\\\\n",
       "\t  20000 & HN & S & MI & FALSE\\\\\n",
       "\t 150000 & US & L & SE & FALSE\\\\\n",
       "\t  35735 & HU & L & MI & FALSE\\\\\n",
       "\\end{tabular}\n"
      ],
      "text/markdown": [
       "\n",
       "A tibble: 6 × 5\n",
       "\n",
       "| salary_in_usd &lt;dbl&gt; | company_location &lt;chr&gt; | company_size &lt;chr&gt; | experience_level &lt;chr&gt; | fully_remote &lt;lgl&gt; |\n",
       "|---|---|---|---|---|\n",
       "|  79833 | DE | L | MI | FALSE |\n",
       "| 260000 | JP | S | SE | FALSE |\n",
       "| 109024 | GB | M | SE | FALSE |\n",
       "|  20000 | HN | S | MI | FALSE |\n",
       "| 150000 | US | L | SE | FALSE |\n",
       "|  35735 | HU | L | MI | FALSE |\n",
       "\n"
      ],
      "text/plain": [
       "  salary_in_usd company_location company_size experience_level fully_remote\n",
       "1  79833        DE               L            MI               FALSE       \n",
       "2 260000        JP               S            SE               FALSE       \n",
       "3 109024        GB               M            SE               FALSE       \n",
       "4  20000        HN               S            MI               FALSE       \n",
       "5 150000        US               L            SE               FALSE       \n",
       "6  35735        HU               L            MI               FALSE       "
      ]
     },
     "metadata": {},
     "output_type": "display_data"
    },
    {
     "name": "stdout",
     "output_type": "stream",
     "text": [
      "The sample mean of the fully-remote group is 122875 USD, \n",
      " and the sample mean of the non-fully-remote group is 97502 USD."
     ]
    }
   ],
   "source": [
    "# 1. fully_remote: remote_ratio == 100, all 100%(fully-remote) \n",
    "fully_remote <- remote_binary %>% \n",
    "    filter(fully_remote == TRUE)\n",
    "head(fully_remote)\n",
    "\n",
    "fully_remote_mean <- fully_remote %>% \n",
    "    summarise(mean = mean(salary_in_usd)) %>% \n",
    "    pull()\n",
    "\n",
    "# 2. non_fully_remote:  remote_ratio != 100, combine both 0%(onsite) and 50%(hybrid),\n",
    "non_fully_remote <- remote_binary %>% \n",
    "    filter(fully_remote == FALSE)\n",
    "head(non_fully_remote)\n",
    "\n",
    "non_fully_remote_mean <- non_fully_remote %>% \n",
    "    summarise(mean = mean(salary_in_usd)) %>% \n",
    "    pull()\n",
    "\n",
    "# fully_remote_mean\n",
    "# non_fully_remote_mean\n",
    "\n",
    "cat(\"The sample mean of the fully-remote group is\", fully_remote_mean, \"USD,\",\"\\n\",\"and the sample mean of the non-fully-remote group is\", round(non_fully_remote_mean, 5), \"USD.\")"
   ]
  },
  {
   "cell_type": "code",
   "execution_count": null,
   "id": "4f2ef323-14f4-445f-abb2-f2e56fabea79",
   "metadata": {},
   "outputs": [],
   "source": []
  },
  {
   "cell_type": "code",
   "execution_count": 9,
   "id": "5393e916-f4f9-432a-9d51-2e5f371d21f2",
   "metadata": {},
   "outputs": [
    {
     "data": {
      "text/html": [
       "<table class=\"dataframe\">\n",
       "<caption>A tibble: 1 × 2</caption>\n",
       "<thead>\n",
       "\t<tr><th scope=col>lower_ci</th><th scope=col>upper_ci</th></tr>\n",
       "\t<tr><th scope=col>&lt;dbl&gt;</th><th scope=col>&lt;dbl&gt;</th></tr>\n",
       "</thead>\n",
       "<tbody>\n",
       "\t<tr><td>116098</td><td>130534</td></tr>\n",
       "</tbody>\n",
       "</table>\n"
      ],
      "text/latex": [
       "A tibble: 1 × 2\n",
       "\\begin{tabular}{ll}\n",
       " lower\\_ci & upper\\_ci\\\\\n",
       " <dbl> & <dbl>\\\\\n",
       "\\hline\n",
       "\t 116098 & 130534\\\\\n",
       "\\end{tabular}\n"
      ],
      "text/markdown": [
       "\n",
       "A tibble: 1 × 2\n",
       "\n",
       "| lower_ci &lt;dbl&gt; | upper_ci &lt;dbl&gt; |\n",
       "|---|---|\n",
       "| 116098 | 130534 |\n",
       "\n"
      ],
      "text/plain": [
       "  lower_ci upper_ci\n",
       "1 116098   130534  "
      ]
     },
     "metadata": {},
     "output_type": "display_data"
    },
    {
     "data": {
      "text/html": [
       "<table class=\"dataframe\">\n",
       "<caption>A tibble: 1 × 2</caption>\n",
       "<thead>\n",
       "\t<tr><th scope=col>lower_ci</th><th scope=col>upper_ci</th></tr>\n",
       "\t<tr><th scope=col>&lt;dbl&gt;</th><th scope=col>&lt;dbl&gt;</th></tr>\n",
       "</thead>\n",
       "<tbody>\n",
       "\t<tr><td>89285</td><td>107018</td></tr>\n",
       "</tbody>\n",
       "</table>\n"
      ],
      "text/latex": [
       "A tibble: 1 × 2\n",
       "\\begin{tabular}{ll}\n",
       " lower\\_ci & upper\\_ci\\\\\n",
       " <dbl> & <dbl>\\\\\n",
       "\\hline\n",
       "\t 89285 & 107018\\\\\n",
       "\\end{tabular}\n"
      ],
      "text/markdown": [
       "\n",
       "A tibble: 1 × 2\n",
       "\n",
       "| lower_ci &lt;dbl&gt; | upper_ci &lt;dbl&gt; |\n",
       "|---|---|\n",
       "| 89285 | 107018 |\n",
       "\n"
      ],
      "text/plain": [
       "  lower_ci upper_ci\n",
       "1 89285    107018  "
      ]
     },
     "metadata": {},
     "output_type": "display_data"
    },
    {
     "data": {
      "image/png": "[encoded data removed]",
      "text/plain": [
       "plot without title"
      ]
     },
     "metadata": {
      "image/png": {
       "height": 240,
       "width": 960
      }
     },
     "output_type": "display_data"
    },
    {
     "data": {
      "image/png": "[encoded data removed]",
      "text/plain": [
       "plot without title"
      ]
     },
     "metadata": {
      "image/png": {
       "height": 240,
       "width": 960
      }
     },
     "output_type": "display_data"
    }
   ],
   "source": [
    "# Construct 95% confidence intervals using percentile method with bootstraping\n",
    "\n",
    "# Fully-remote:\n",
    "\n",
    "fully_remote_resample  <-  fully_remote %>%\n",
    "    specify(response = salary_in_usd) %>%\n",
    "    generate(reps = 1000, type = \"bootstrap\") %>%                        \n",
    "    calculate(stat = \"mean\") \n",
    "# head(fully_remote_resample)\n",
    "\n",
    "fully_remote_percentile_ci <- fully_remote_resample %>% \n",
    "  get_confidence_interval(level = 0.95, type = \"percentile\") \n",
    "fully_remote_percentile_ci\n",
    "\n",
    "fully_remote_ci_plot <- \n",
    "    visualize(fully_remote_resample) + \n",
    "    shade_ci(endpoints = fully_remote_percentile_ci, color = \"hotpink\", fill = \"pink\", alpha = 0.66)\n",
    "fully_remote_ci_plot\n",
    "\n",
    "\n",
    "# Non-fully-remote:\n",
    "\n",
    "non_fully_remote_resample  <- non_fully_remote %>%\n",
    "    specify(response = salary_in_usd) %>%\n",
    "    generate(reps = 1000, type = \"bootstrap\") %>%                        \n",
    "    calculate(stat = \"mean\")    \n",
    "# head(non_fully_remote_resample)\n",
    "\n",
    "non_fully_remote_percentile_ci <- non_fully_remote_resample %>% \n",
    "  get_confidence_interval(level = 0.95, type = \"percentile\") \n",
    "non_fully_remote_percentile_ci\n",
    "\n",
    "non_fully_remote_ci_plot <- \n",
    "    visualize(non_fully_remote_resample) + \n",
    "    shade_ci(endpoints = non_fully_remote_percentile_ci, color = \"dark green\", fill = \"light green\", alpha = 0.48)\n",
    "non_fully_remote_ci_plot"
   ]
  },
  {
   "cell_type": "markdown",
   "id": "d28b9880-1770-4230-85b3-c09809b0497c",
   "metadata": {},
   "source": [
    "To improve:\n",
    "- covert to same scale with infer package\n",
    "- title and labels with infer package\n",
    "\n",
    "\n",
    "\n",
    "To write: \n",
    "- 95% confident that ...\n",
    "- However, \"Limitations of Confidence Interval:\" see notes."
   ]
  },
  {
   "cell_type": "markdown",
   "id": "0600431c-67bd-496c-8fb6-da99b35b410b",
   "metadata": {},
   "source": [
    "## Hypothesis Testing"
   ]
  },
  {
   "cell_type": "markdown",
   "id": "21aaabb3-b5b9-4f00-8722-11387fc59d17",
   "metadata": {},
   "source": [
    "### Boxplots"
   ]
  },
  {
   "cell_type": "code",
   "execution_count": 10,
   "id": "b03505aa-e930-408a-a9b3-4ddab448c995",
   "metadata": {},
   "outputs": [
    {
     "data": {
      "text/html": [
       "<table class=\"dataframe\">\n",
       "<caption>A tibble: 6 × 5</caption>\n",
       "<thead>\n",
       "\t<tr><th scope=col>salary_in_usd</th><th scope=col>company_location</th><th scope=col>company_size</th><th scope=col>experience_level</th><th scope=col>fully_remote</th></tr>\n",
       "\t<tr><th scope=col>&lt;dbl&gt;</th><th scope=col>&lt;chr&gt;</th><th scope=col>&lt;chr&gt;</th><th scope=col>&lt;chr&gt;</th><th scope=col>&lt;lgl&gt;</th></tr>\n",
       "</thead>\n",
       "<tbody>\n",
       "\t<tr><td> 79833</td><td>DE</td><td>L</td><td>MI</td><td>FALSE</td></tr>\n",
       "\t<tr><td>260000</td><td>JP</td><td>S</td><td>SE</td><td>FALSE</td></tr>\n",
       "\t<tr><td>109024</td><td>GB</td><td>M</td><td>SE</td><td>FALSE</td></tr>\n",
       "\t<tr><td> 20000</td><td>HN</td><td>S</td><td>MI</td><td>FALSE</td></tr>\n",
       "\t<tr><td>150000</td><td>US</td><td>L</td><td>SE</td><td>FALSE</td></tr>\n",
       "\t<tr><td> 72000</td><td>US</td><td>L</td><td>EN</td><td> TRUE</td></tr>\n",
       "</tbody>\n",
       "</table>\n"
      ],
      "text/latex": [
       "A tibble: 6 × 5\n",
       "\\begin{tabular}{lllll}\n",
       " salary\\_in\\_usd & company\\_location & company\\_size & experience\\_level & fully\\_remote\\\\\n",
       " <dbl> & <chr> & <chr> & <chr> & <lgl>\\\\\n",
       "\\hline\n",
       "\t  79833 & DE & L & MI & FALSE\\\\\n",
       "\t 260000 & JP & S & SE & FALSE\\\\\n",
       "\t 109024 & GB & M & SE & FALSE\\\\\n",
       "\t  20000 & HN & S & MI & FALSE\\\\\n",
       "\t 150000 & US & L & SE & FALSE\\\\\n",
       "\t  72000 & US & L & EN &  TRUE\\\\\n",
       "\\end{tabular}\n"
      ],
      "text/markdown": [
       "\n",
       "A tibble: 6 × 5\n",
       "\n",
       "| salary_in_usd &lt;dbl&gt; | company_location &lt;chr&gt; | company_size &lt;chr&gt; | experience_level &lt;chr&gt; | fully_remote &lt;lgl&gt; |\n",
       "|---|---|---|---|---|\n",
       "|  79833 | DE | L | MI | FALSE |\n",
       "| 260000 | JP | S | SE | FALSE |\n",
       "| 109024 | GB | M | SE | FALSE |\n",
       "|  20000 | HN | S | MI | FALSE |\n",
       "| 150000 | US | L | SE | FALSE |\n",
       "|  72000 | US | L | EN |  TRUE |\n",
       "\n"
      ],
      "text/plain": [
       "  salary_in_usd company_location company_size experience_level fully_remote\n",
       "1  79833        DE               L            MI               FALSE       \n",
       "2 260000        JP               S            SE               FALSE       \n",
       "3 109024        GB               M            SE               FALSE       \n",
       "4  20000        HN               S            MI               FALSE       \n",
       "5 150000        US               L            SE               FALSE       \n",
       "6  72000        US               L            EN                TRUE       "
      ]
     },
     "metadata": {},
     "output_type": "display_data"
    }
   ],
   "source": [
    "head(remote_binary)"
   ]
  },
  {
   "cell_type": "code",
   "execution_count": 11,
   "id": "bf928994-1d76-4bac-ac94-0eb2471c6d27",
   "metadata": {},
   "outputs": [
    {
     "data": {
      "image/png": "[encoded data removed]",
      "text/plain": [
       "plot without title"
      ]
     },
     "metadata": {
      "image/png": {
       "height": 600,
       "width": 960
      }
     },
     "output_type": "display_data"
    }
   ],
   "source": [
    "options(repr.plot.width = 16, repr.plot.height = 10)\n",
    "options(\"scipen\"=10, \"digits\"=4)\n",
    "\n",
    "boxplots_all <- remote_binary %>%  \n",
    "    ggplot(aes(x = fully_remote, y = salary_in_usd, fill = fully_remote)) + \n",
    "    geom_boxplot() + \n",
    "    ylab(\"salary in USD\") +\n",
    "    ggtitle(\"Boxplots of salary values in USD between fully-remote and non-fully_remote groups\") +\n",
    "    theme(text = element_text(size=18)) +\n",
    "    # geom_hline(yintercept = median_overall, color=\"red\", size = 1, linetype = \"longdash\") \n",
    "    geom_hline(yintercept = mean_overall, color=\"green\", size = 1, linetype = \"longdash\") \n",
    "\n",
    "boxplots_all"
   ]
  },
  {
   "cell_type": "markdown",
   "id": "1ee8dd5a-c408-4ee3-b5bb-7c273fad43e8",
   "metadata": {},
   "source": [
    "- notice a big outlier?\n",
    "    - may affect results?\n",
    "- executive position are not representative of population, would therefore remove?"
   ]
  },
  {
   "cell_type": "code",
   "execution_count": 12,
   "id": "0f331e7a-bee4-4be5-a8a2-cc64740e08c5",
   "metadata": {},
   "outputs": [
    {
     "data": {
      "text/html": [
       "<table class=\"dataframe\">\n",
       "<caption>A tibble: 1 × 1</caption>\n",
       "<thead>\n",
       "\t<tr><th scope=col>stat</th></tr>\n",
       "\t<tr><th scope=col>&lt;dbl&gt;</th></tr>\n",
       "</thead>\n",
       "<tbody>\n",
       "\t<tr><td>25373</td></tr>\n",
       "</tbody>\n",
       "</table>\n"
      ],
      "text/latex": [
       "A tibble: 1 × 1\n",
       "\\begin{tabular}{l}\n",
       " stat\\\\\n",
       " <dbl>\\\\\n",
       "\\hline\n",
       "\t 25373\\\\\n",
       "\\end{tabular}\n"
      ],
      "text/markdown": [
       "\n",
       "A tibble: 1 × 1\n",
       "\n",
       "| stat &lt;dbl&gt; |\n",
       "|---|\n",
       "| 25373 |\n",
       "\n"
      ],
      "text/plain": [
       "  stat \n",
       "1 25373"
      ]
     },
     "metadata": {},
     "output_type": "display_data"
    },
    {
     "data": {
      "text/html": [
       "<table class=\"dataframe\">\n",
       "<caption>A tibble: 6 × 2</caption>\n",
       "<thead>\n",
       "\t<tr><th scope=col>replicate</th><th scope=col>stat</th></tr>\n",
       "\t<tr><th scope=col>&lt;int&gt;</th><th scope=col>&lt;dbl&gt;</th></tr>\n",
       "</thead>\n",
       "<tbody>\n",
       "\t<tr><td>1</td><td> -2955.0</td></tr>\n",
       "\t<tr><td>2</td><td> 10107.5</td></tr>\n",
       "\t<tr><td>3</td><td>   602.4</td></tr>\n",
       "\t<tr><td>4</td><td> -2455.2</td></tr>\n",
       "\t<tr><td>5</td><td>-13209.8</td></tr>\n",
       "\t<tr><td>6</td><td>  4321.9</td></tr>\n",
       "</tbody>\n",
       "</table>\n"
      ],
      "text/latex": [
       "A tibble: 6 × 2\n",
       "\\begin{tabular}{ll}\n",
       " replicate & stat\\\\\n",
       " <int> & <dbl>\\\\\n",
       "\\hline\n",
       "\t 1 &  -2955.0\\\\\n",
       "\t 2 &  10107.5\\\\\n",
       "\t 3 &    602.4\\\\\n",
       "\t 4 &  -2455.2\\\\\n",
       "\t 5 & -13209.8\\\\\n",
       "\t 6 &   4321.9\\\\\n",
       "\\end{tabular}\n"
      ],
      "text/markdown": [
       "\n",
       "A tibble: 6 × 2\n",
       "\n",
       "| replicate &lt;int&gt; | stat &lt;dbl&gt; |\n",
       "|---|---|\n",
       "| 1 |  -2955.0 |\n",
       "| 2 |  10107.5 |\n",
       "| 3 |    602.4 |\n",
       "| 4 |  -2455.2 |\n",
       "| 5 | -13209.8 |\n",
       "| 6 |   4321.9 |\n",
       "\n"
      ],
      "text/plain": [
       "  replicate stat    \n",
       "1 1          -2955.0\n",
       "2 2          10107.5\n",
       "3 3            602.4\n",
       "4 4          -2455.2\n",
       "5 5         -13209.8\n",
       "6 6           4321.9"
      ]
     },
     "metadata": {},
     "output_type": "display_data"
    },
    {
     "name": "stderr",
     "output_type": "stream",
     "text": [
      "Warning message:\n",
      "“Please be cautious in reporting a p-value of 0. This result is an approximation based on the number of `reps` chosen in the `generate()` step. See `?get_p_value()` for more information.”\n"
     ]
    },
    {
     "data": {
      "text/html": [
       "<table class=\"dataframe\">\n",
       "<caption>A tibble: 1 × 1</caption>\n",
       "<thead>\n",
       "\t<tr><th scope=col>p_value</th></tr>\n",
       "\t<tr><th scope=col>&lt;dbl&gt;</th></tr>\n",
       "</thead>\n",
       "<tbody>\n",
       "\t<tr><td>0</td></tr>\n",
       "</tbody>\n",
       "</table>\n"
      ],
      "text/latex": [
       "A tibble: 1 × 1\n",
       "\\begin{tabular}{l}\n",
       " p\\_value\\\\\n",
       " <dbl>\\\\\n",
       "\\hline\n",
       "\t 0\\\\\n",
       "\\end{tabular}\n"
      ],
      "text/markdown": [
       "\n",
       "A tibble: 1 × 1\n",
       "\n",
       "| p_value &lt;dbl&gt; |\n",
       "|---|\n",
       "| 0 |\n",
       "\n"
      ],
      "text/plain": [
       "  p_value\n",
       "1 0      "
      ]
     },
     "metadata": {},
     "output_type": "display_data"
    }
   ],
   "source": [
    "## Yvonne's Orignal \n",
    "\n",
    "# hypothesis test (two group)\n",
    "# make the remote_ratio column two categories, so that it is easier to work with\n",
    "# remote_binary <- df %>% \n",
    "#     mutate(full_remote = (remote_ratio == 100)) %>% \n",
    "#     select(-remote_ratio)\n",
    "# head(remote_binary)\n",
    "\n",
    "#calculate observed test statistic \n",
    "obs_diff_in_means <- \n",
    "    remote_binary %>% \n",
    "    specify(formula = salary_in_usd ~ fully_remote) %>%\n",
    "    calculate(stat = \"diff in means\", order = c(\"TRUE\", \"FALSE\"))\n",
    "obs_diff_in_means\n",
    "\n",
    "# build the null distribution\n",
    "null_dist <-remote_binary  %>%\n",
    "    specify(formula = salary_in_usd ~ fully_remote) %>% \n",
    "    hypothesize(null = \"independence\") %>% \n",
    "    generate(reps = 10000, type = \"permute\") %>% \n",
    "    calculate(stat=\"diff in means\", order = c(\"TRUE\", \"FALSE\"))\n",
    "head(null_dist)\n",
    "\n",
    "# # visualization \n",
    "# options(repr.plot.width = 16, repr.plot.height = 6)\n",
    "# options(\"scipen\"=10, \"digits\"=4)\n",
    "\n",
    "# diff_in_medians_plot <-\n",
    "#     visualize(null_dist, bins = 10) + \n",
    "#     shade_p_value(obs_stat = obs_diff_in_means, direction = \"right\") +\n",
    "#     xlab(\"Difference in mean\") +\n",
    "#     theme(text = element_text(size = 20))\n",
    "# diff_in_medians_plot\n",
    "\n",
    "# get p value\n",
    "p_value <- null_dist %>% \n",
    "    get_p_value(obs_stat = obs_diff_in_means, direction = \"right\")\n",
    "p_value\n"
   ]
  },
  {
   "cell_type": "code",
   "execution_count": 19,
   "id": "29647248-4662-40ae-97a7-837142ef85db",
   "metadata": {},
   "outputs": [
    {
     "data": {
      "text/html": [
       "<table class=\"dataframe\">\n",
       "<caption>A tibble: 1 × 1</caption>\n",
       "<thead>\n",
       "\t<tr><th scope=col>stat</th></tr>\n",
       "\t<tr><th scope=col>&lt;dbl&gt;</th></tr>\n",
       "</thead>\n",
       "<tbody>\n",
       "\t<tr><td>21943</td></tr>\n",
       "</tbody>\n",
       "</table>\n"
      ],
      "text/latex": [
       "A tibble: 1 × 1\n",
       "\\begin{tabular}{l}\n",
       " stat\\\\\n",
       " <dbl>\\\\\n",
       "\\hline\n",
       "\t 21943\\\\\n",
       "\\end{tabular}\n"
      ],
      "text/markdown": [
       "\n",
       "A tibble: 1 × 1\n",
       "\n",
       "| stat &lt;dbl&gt; |\n",
       "|---|\n",
       "| 21943 |\n",
       "\n"
      ],
      "text/plain": [
       "  stat \n",
       "1 21943"
      ]
     },
     "metadata": {},
     "output_type": "display_data"
    },
    {
     "data": {
      "text/html": [
       "<table class=\"dataframe\">\n",
       "<caption>A tibble: 6 × 2</caption>\n",
       "<thead>\n",
       "\t<tr><th scope=col>replicate</th><th scope=col>stat</th></tr>\n",
       "\t<tr><th scope=col>&lt;int&gt;</th><th scope=col>&lt;dbl&gt;</th></tr>\n",
       "</thead>\n",
       "<tbody>\n",
       "\t<tr><td>1</td><td>-2266.3</td></tr>\n",
       "\t<tr><td>2</td><td>-5828.0</td></tr>\n",
       "\t<tr><td>3</td><td> -724.9</td></tr>\n",
       "\t<tr><td>4</td><td>-3681.0</td></tr>\n",
       "\t<tr><td>5</td><td>  370.2</td></tr>\n",
       "\t<tr><td>6</td><td> 8225.7</td></tr>\n",
       "</tbody>\n",
       "</table>\n"
      ],
      "text/latex": [
       "A tibble: 6 × 2\n",
       "\\begin{tabular}{ll}\n",
       " replicate & stat\\\\\n",
       " <int> & <dbl>\\\\\n",
       "\\hline\n",
       "\t 1 & -2266.3\\\\\n",
       "\t 2 & -5828.0\\\\\n",
       "\t 3 &  -724.9\\\\\n",
       "\t 4 & -3681.0\\\\\n",
       "\t 5 &   370.2\\\\\n",
       "\t 6 &  8225.7\\\\\n",
       "\\end{tabular}\n"
      ],
      "text/markdown": [
       "\n",
       "A tibble: 6 × 2\n",
       "\n",
       "| replicate &lt;int&gt; | stat &lt;dbl&gt; |\n",
       "|---|---|\n",
       "| 1 | -2266.3 |\n",
       "| 2 | -5828.0 |\n",
       "| 3 |  -724.9 |\n",
       "| 4 | -3681.0 |\n",
       "| 5 |   370.2 |\n",
       "| 6 |  8225.7 |\n",
       "\n"
      ],
      "text/plain": [
       "  replicate stat   \n",
       "1 1         -2266.3\n",
       "2 2         -5828.0\n",
       "3 3          -724.9\n",
       "4 4         -3681.0\n",
       "5 5           370.2\n",
       "6 6          8225.7"
      ]
     },
     "metadata": {},
     "output_type": "display_data"
    },
    {
     "name": "stderr",
     "output_type": "stream",
     "text": [
      "Warning message:\n",
      "“Please be cautious in reporting a p-value of 0. This result is an approximation based on the number of `reps` chosen in the `generate()` step. See `?get_p_value()` for more information.”\n"
     ]
    },
    {
     "data": {
      "text/html": [
       "<table class=\"dataframe\">\n",
       "<caption>A tibble: 1 × 1</caption>\n",
       "<thead>\n",
       "\t<tr><th scope=col>p_value</th></tr>\n",
       "\t<tr><th scope=col>&lt;dbl&gt;</th></tr>\n",
       "</thead>\n",
       "<tbody>\n",
       "\t<tr><td>0</td></tr>\n",
       "</tbody>\n",
       "</table>\n"
      ],
      "text/latex": [
       "A tibble: 1 × 1\n",
       "\\begin{tabular}{l}\n",
       " p\\_value\\\\\n",
       " <dbl>\\\\\n",
       "\\hline\n",
       "\t 0\\\\\n",
       "\\end{tabular}\n"
      ],
      "text/markdown": [
       "\n",
       "A tibble: 1 × 1\n",
       "\n",
       "| p_value &lt;dbl&gt; |\n",
       "|---|\n",
       "| 0 |\n",
       "\n"
      ],
      "text/plain": [
       "  p_value\n",
       "1 0      "
      ]
     },
     "metadata": {},
     "output_type": "display_data"
    }
   ],
   "source": [
    "# # take out outlier?\n",
    "remote_binary_outlier_remove <- remote_binary %>%\n",
    "    filter(salary_in_usd <= 200000)\n",
    "\n",
    "#calculate observed test statistic \n",
    "obs_diff_in_means_outlier_remove <- remote_binary_outlier_remove %>% \n",
    "    specify(formula = salary_in_usd ~ fully_remote) %>%\n",
    "    calculate(stat = \"diff in means\", order = c(\"TRUE\", \"FALSE\"))\n",
    "obs_diff_in_means_outlier_remove\n",
    "\n",
    "# build the null distribution\n",
    "null_dist_outlier_remove <- remote_binary_outlier_remove %>%\n",
    "    specify(formula = salary_in_usd ~ fully_remote) %>% \n",
    "    hypothesize(null = \"independence\") %>% \n",
    "    generate(reps = 10000, type = \"permute\") %>% \n",
    "    calculate(stat = \"diff in means\", order = c(\"TRUE\", \"FALSE\"))\n",
    "head(null_dist_outlier_remove)\n",
    "\n",
    "# # visualization \n",
    "# options(repr.plot.width = 16, repr.plot.height = 6)\n",
    "# options(\"scipen\"=10, \"digits\"=4)\n",
    "\n",
    "# diff_in_medians_plot <-\n",
    "#     visualize(null_dist, bins = 10) + \n",
    "#     shade_p_value(obs_stat = obs_diff_in_means, direction = \"right\") +\n",
    "#     xlab(\"Difference in mean\") +\n",
    "#     theme(text = element_text(size = 20))\n",
    "# diff_in_medians_plot\n",
    "\n",
    "# get p value\n",
    "p_value_outlier_remove <- null_dist_outlier_remove %>% \n",
    "    get_p_value(obs_stat = obs_diff_in_means_outlier_remove, direction = \"right\")\n",
    "p_value_outlier_remove\n"
   ]
  },
  {
   "cell_type": "code",
   "execution_count": 14,
   "id": "06e3efb8-1314-4a54-8b39-a35e21d671bf",
   "metadata": {},
   "outputs": [],
   "source": [
    "# ## change mean to median \n",
    "\n",
    "# # hypothesis test (two group)\n",
    "# # make the remote_ratio column two categories, so that it is easier to work with\n",
    "# # remote_binary <- df %>% \n",
    "# #     mutate(full_remote = (remote_ratio == 100)) %>% \n",
    "# #     select(-remote_ratio)\n",
    "# # head(remote_binary)\n",
    "\n",
    "# #calculate observed test statistic \n",
    "# obs_diff_in_meds <- remote_binary %>% \n",
    "#     specify(formula = salary_in_usd ~ fully_remote) %>%\n",
    "#     calculate(stat = \"diff in medians\", order = c(\"TRUE\", \"FALSE\"))\n",
    "# obs_diff_in_meds\n",
    "\n",
    "# # build the null distribution\n",
    "# null_dist_meds <- remote_binary  %>%\n",
    "#     specify(formula = salary_in_usd ~ fully_remote) %>% \n",
    "#     hypothesize(null = \"independence\") %>% \n",
    "#     generate(reps = 10000, type = \"permute\") %>% \n",
    "#     calculate(stat = \"diff in medians\", order = c(\"TRUE\", \"FALSE\"))\n",
    "# head(null_dist_meds)\n",
    "\n",
    "# # # visualization \n",
    "# # diff_in_medians_plot <-\n",
    "# #     visualize(null_dist, bins = 10) + \n",
    "# #     shade_p_value(obs_stat = obs_diff_in_means, direction = \"right\") +\n",
    "# #     xlab(\"Difference in mean\") +\n",
    "# #     theme(text = element_text(size = 20))\n",
    "# # diff_in_medians_plot\n",
    "\n",
    "# # get p value\n",
    "# p_value_meds <- null_dist_meds %>% \n",
    "#     get_p_value(obs_stat = obs_diff_in_meds, direction = \"right\")\n",
    "# p_value_meds\n"
   ]
  },
  {
   "cell_type": "code",
   "execution_count": 15,
   "id": "0fe4a1b3-29e3-4db5-a1f9-b578246e414e",
   "metadata": {},
   "outputs": [],
   "source": [
    "# # within country cross remote - WRONG\n",
    "\n",
    "# us_remote_binary <-\n",
    "#     remote_binary %>% \n",
    "#     filter(company_location == \"US\")\n",
    "# head(us_remote_binary)\n",
    "\n",
    "\n",
    "# ca_remote_binary <-\n",
    "#     remote_binary %>% \n",
    "#     filter(company_location == \"CA\")\n",
    "# head(ca_remote_binary)\n",
    "\n",
    "\n",
    "# other_remote_binary <-\n",
    "#     remote_binary %>% \n",
    "#     filter(company_location != \"CA\", \n",
    "#            company_location !=\"US\")\n",
    "# head(other_remote_binary)\n"
   ]
  },
  {
   "cell_type": "code",
   "execution_count": 16,
   "id": "8807bff8-38dd-4e52-85bc-fb95271cf282",
   "metadata": {},
   "outputs": [],
   "source": [
    "# ## original country means cross population - wrong\n",
    "\n",
    "# #calculate observed test statistic \n",
    "# us_obs_diff_in_means <- \n",
    "#     us_remote_binary %>% \n",
    "#     specify(formula = salary_in_usd ~ fully_remote) %>%\n",
    "#     calculate(stat = \"diff in means\", order = c(\"TRUE\", \"FALSE\"))\n",
    "# # obs_diff_in_means\n",
    "\n",
    "# # build the null distribution\n",
    "# us_null_dist <- us_remote_binary %>%\n",
    "#     specify(formula = salary_in_usd ~ fully_remote) %>% \n",
    "#     hypothesize(null = \"independence\") %>% \n",
    "#     generate(reps = 10000, type = \"permute\") %>% \n",
    "#     calculate(stat=\"diff in means\", order = c(\"TRUE\", \"FALSE\"))\n",
    "# head(null_dist)\n",
    "\n",
    "# # # visualization \n",
    "# # diff_in_medians_plot <-\n",
    "# #     visualize(null_dist, bins = 10) + \n",
    "# #     shade_p_value(obs_stat = obs_diff_in_means, direction = \"right\") +\n",
    "# #     xlab(\"Difference in mean\") +\n",
    "# #     theme(text = element_text(size = 20))\n",
    "# # diff_in_medians_plot\n",
    "\n",
    "# # get p value\n",
    "# us_p_value <- us_null_dist %>% \n",
    "#     get_p_value(obs_stat = us_obs_diff_in_means, direction = \"right\")\n",
    "# us_p_value\n",
    "\n",
    "\n",
    "# #calculate observed test statistic \n",
    "# ca_obs_diff_in_means <- \n",
    "#     ca_remote_binary %>% \n",
    "#     specify(formula = salary_in_usd ~ fully_remote) %>%\n",
    "#     calculate(stat = \"diff in means\", order = c(\"TRUE\", \"FALSE\"))\n",
    "# # obs_diff_in_means\n",
    "\n",
    "# # build the null distribution\n",
    "# ca_null_dist <- ca_remote_binary %>%\n",
    "#     specify(formula = salary_in_usd ~ fully_remote) %>% \n",
    "#     hypothesize(null = \"independence\") %>% \n",
    "#     generate(reps = 10000, type = \"permute\") %>% \n",
    "#     calculate(stat=\"diff in means\", order = c(\"TRUE\", \"FALSE\"))\n",
    "# head(ca_null_dist)\n",
    "\n",
    "# # # visualization \n",
    "# # diff_in_medians_plot <-\n",
    "# #     visualize(null_dist, bins = 10) + \n",
    "# #     shade_p_value(obs_stat = obs_diff_in_means, direction = \"right\") +\n",
    "# #     xlab(\"Difference in mean\") +\n",
    "# #     theme(text = element_text(size = 20))\n",
    "# # diff_in_medians_plot\n",
    "\n",
    "# # get p value\n",
    "# ca_p_value <- ca_null_dist %>% \n",
    "#     get_p_value(obs_stat = ca_obs_diff_in_means, direction = \"right\")\n",
    "# ca_p_value\n",
    "\n",
    "\n",
    "# #calculate observed test statistic \n",
    "# other_obs_diff_in_means <- \n",
    "#     other_remote_binary %>% \n",
    "#     specify(formula = salary_in_usd ~ fully_remote) %>%\n",
    "#     calculate(stat = \"diff in means\", order = c(\"TRUE\", \"FALSE\"))\n",
    "# # obs_diff_in_means\n",
    "\n",
    "# # build the null distribution\n",
    "# other_null_dist <- other_remote_binary %>%\n",
    "#     specify(formula = salary_in_usd ~ fully_remote) %>% \n",
    "#     hypothesize(null = \"independence\") %>% \n",
    "#     generate(reps = 10000, type = \"permute\") %>% \n",
    "#     calculate(stat=\"diff in means\", order = c(\"TRUE\", \"FALSE\"))\n",
    "# head(other_null_dist)\n",
    "\n",
    "# # # visualization \n",
    "# # diff_in_medians_plot <-\n",
    "# #     visualize(null_dist, bins = 10) + \n",
    "# #     shade_p_value(obs_stat = obs_diff_in_means, direction = \"right\") +\n",
    "# #     xlab(\"Difference in mean\") +\n",
    "# #     theme(text = element_text(size = 20))\n",
    "# # diff_in_medians_plot\n",
    "\n",
    "# # get p value\n",
    "# other_p_value <- other_null_dist %>% \n",
    "#     get_p_value(obs_stat = other_obs_diff_in_means, direction = \"right\")\n",
    "# other_p_value"
   ]
  },
  {
   "cell_type": "code",
   "execution_count": 17,
   "id": "3f3852dc-b270-432d-b248-810fea1688c0",
   "metadata": {},
   "outputs": [],
   "source": [
    "# ## change country mean to median\n",
    "\n",
    "# #calculate observed test statistic \n",
    "# us_obs_diff_in_meds <- \n",
    "#     us_remote_binary %>% \n",
    "#     specify(formula = salary_in_usd ~ fully_remote) %>%\n",
    "#     calculate(stat = \"diff in medians\", order = c(\"TRUE\", \"FALSE\"))\n",
    "# # us_obs_diff_in_meds\n",
    "\n",
    "# # build the null distribution\n",
    "# us_null_dist_meds <- us_remote_binary %>%\n",
    "#     specify(formula = salary_in_usd ~ fully_remote) %>% \n",
    "#     hypothesize(null = \"independence\") %>% \n",
    "#     generate(reps = 10000, type = \"permute\") %>% \n",
    "#     calculate(stat=\"diff in medians\", order = c(\"TRUE\", \"FALSE\"))\n",
    "# head(us_null_dist_meds)\n",
    "\n",
    "# # # visualization \n",
    "# # diff_in_medians_plot <-\n",
    "# #     visualize(null_dist, bins = 10) + \n",
    "# #     shade_p_value(obs_stat = obs_diff_in_means, direction = \"right\") +\n",
    "# #     xlab(\"Difference in mean\") +\n",
    "# #     theme(text = element_text(size = 20))\n",
    "# # diff_in_medians_plot\n",
    "\n",
    "# # get p value\n",
    "# us_p_value_meds <- us_null_dist_meds %>% \n",
    "#     get_p_value(obs_stat = us_obs_diff_in_meds, direction = \"right\")\n",
    "# us_p_value_meds\n",
    "\n",
    "\n",
    "# #calculate observed test statistic \n",
    "# ca_obs_diff_in_meds <- \n",
    "#     ca_remote_binary %>% \n",
    "#     specify(formula = salary_in_usd ~ fully_remote) %>%\n",
    "#     calculate(stat = \"diff in medians\", order = c(\"TRUE\", \"FALSE\"))\n",
    "# # ca_obs_diff_in_meds\n",
    "\n",
    "# # build the null distribution\n",
    "# ca_null_dist_meds <- ca_remote_binary %>%\n",
    "#     specify(formula = salary_in_usd ~ fully_remote) %>% \n",
    "#     hypothesize(null = \"independence\") %>% \n",
    "#     generate(reps = 10000, type = \"permute\") %>% \n",
    "#     calculate(stat=\"diff in medians\", order = c(\"TRUE\", \"FALSE\"))\n",
    "# head(ca_null_dist_meds)\n",
    "\n",
    "# # # visualization \n",
    "# # diff_in_medians_plot <-\n",
    "# #     visualize(null_dist, bins = 10) + \n",
    "# #     shade_p_value(obs_stat = obs_diff_in_means, direction = \"right\") +\n",
    "# #     xlab(\"Difference in mean\") +\n",
    "# #     theme(text = element_text(size = 20))\n",
    "# # diff_in_medians_plot\n",
    "\n",
    "# # get p value\n",
    "# ca_p_value_meds <- ca_null_dist_meds %>% \n",
    "#     get_p_value(obs_stat = ca_obs_diff_in_meds, direction = \"right\")\n",
    "# ca_p_value_meds\n",
    "\n",
    "# #calculate observed test statistic \n",
    "# other_obs_diff_in_meds <- \n",
    "#     other_remote_binary %>% \n",
    "#     specify(formula = salary_in_usd ~ fully_remote) %>%\n",
    "#     calculate(stat = \"diff in medians\", order = c(\"TRUE\", \"FALSE\"))\n",
    "# # other_obs_diff_in_meds\n",
    "\n",
    "# # build the null distribution\n",
    "# other_null_dist_meds <- other_remote_binary %>%\n",
    "#     specify(formula = salary_in_usd ~ fully_remote) %>% \n",
    "#     hypothesize(null = \"independence\") %>% \n",
    "#     generate(reps = 10000, type = \"permute\") %>% \n",
    "#     calculate(stat = \"diff in medians\", order = c(\"TRUE\", \"FALSE\"))\n",
    "# head(other_null_dist_meds)\n",
    "\n",
    "# # # visualization \n",
    "# # diff_in_medians_plot <-\n",
    "# #     visualize(null_dist, bins = 10) + \n",
    "# #     shade_p_value(obs_stat = obs_diff_in_means, direction = \"right\") +\n",
    "# #     xlab(\"Difference in mean\") +\n",
    "# #     theme(text = element_text(size = 20))\n",
    "# # diff_in_medians_plot\n",
    "\n",
    "# # get p value\n",
    "# other_p_value_meds <- other_null_dist_meds %>% \n",
    "#     get_p_value(obs_stat = other_obs_diff_in_meds, direction = \"right\")\n",
    "# other_p_value_meds"
   ]
  },
  {
   "cell_type": "code",
   "execution_count": 18,
   "id": "4e58b20b-5dec-4071-877d-513fd7e0c4ea",
   "metadata": {},
   "outputs": [],
   "source": [
    "# # changing order \n",
    "\n",
    "# #calculate observed test statistic \n",
    "# us_obs_diff_in_means <- \n",
    "#     us_remote_binary %>% \n",
    "#     specify(formula = salary_in_usd ~ fully_remote) %>%\n",
    "#     calculate(stat = \"diff in means\", order = c(\"FALSE\", \"TRUE\"))\n",
    "# # obs_diff_in_means\n",
    "\n",
    "# # build the null distribution\n",
    "# us_null_dist <- us_remote_binary %>%\n",
    "#     specify(formula = salary_in_usd ~ fully_remote) %>% \n",
    "#     hypothesize(null = \"independence\") %>% \n",
    "#     generate(reps = 10000, type = \"permute\") %>% \n",
    "#     calculate(stat=\"diff in means\", order = c(\"FALSE\", \"TRUE\"))\n",
    "# head(null_dist)\n",
    "\n",
    "# # # visualization \n",
    "# # diff_in_medians_plot <-\n",
    "# #     visualize(null_dist, bins = 10) + \n",
    "# #     shade_p_value(obs_stat = obs_diff_in_means, direction = \"right\") +\n",
    "# #     xlab(\"Difference in mean\") +\n",
    "# #     theme(text = element_text(size = 20))\n",
    "# # diff_in_medians_plot\n",
    "\n",
    "# # get p value\n",
    "# us_p_value <- us_null_dist %>% \n",
    "#     get_p_value(obs_stat = us_obs_diff_in_means, direction = \"right\")\n",
    "# us_p_value\n",
    "\n",
    "\n",
    "# #calculate observed test statistic \n",
    "# ca_obs_diff_in_means <- \n",
    "#     ca_remote_binary %>% \n",
    "#     specify(formula = salary_in_usd ~ fully_remote) %>%\n",
    "#     calculate(stat = \"diff in means\", order = c(\"FALSE\",\"TRUE\"))\n",
    "# # obs_diff_in_means\n",
    "\n",
    "# # build the null distribution\n",
    "# ca_null_dist <- ca_remote_binary %>%\n",
    "#     specify(formula = salary_in_usd ~ fully_remote) %>% \n",
    "#     hypothesize(null = \"independence\") %>% \n",
    "#     generate(reps = 10000, type = \"permute\") %>% \n",
    "#     calculate(stat=\"diff in means\", order = c(\"FALSE\", \"TRUE\"))\n",
    "# head(ca_null_dist)\n",
    "\n",
    "# # # visualization \n",
    "# # diff_in_medians_plot <-\n",
    "# #     visualize(null_dist, bins = 10) + \n",
    "# #     shade_p_value(obs_stat = obs_diff_in_means, direction = \"right\") +\n",
    "# #     xlab(\"Difference in mean\") +\n",
    "# #     theme(text = element_text(size = 20))\n",
    "# # diff_in_medians_plot\n",
    "\n",
    "# # get p value\n",
    "# ca_p_value <- ca_null_dist %>% \n",
    "#     get_p_value(obs_stat = ca_obs_diff_in_means, direction = \"right\")\n",
    "# ca_p_value\n",
    "\n",
    "\n",
    "# #calculate observed test statistic \n",
    "# other_obs_diff_in_means <- \n",
    "#     other_remote_binary %>% \n",
    "#     specify(formula = salary_in_usd ~ fully_remote) %>%\n",
    "#     calculate(stat = \"diff in means\", order = c(\"FALSE\", \"TRUE\"))\n",
    "# # obs_diff_in_means\n",
    "\n",
    "# # build the null distribution\n",
    "# other_null_dist <- other_remote_binary %>%\n",
    "#     specify(formula = salary_in_usd ~ fully_remote) %>% \n",
    "#     hypothesize(null = \"independence\") %>% \n",
    "#     generate(reps = 10000, type = \"permute\") %>% \n",
    "#     calculate(stat=\"diff in means\", order = c(\"FALSE\", \"TRUE\"))\n",
    "# head(other_null_dist)\n",
    "\n",
    "# # # visualization \n",
    "# # diff_in_medians_plot <-\n",
    "# #     visualize(null_dist, bins = 10) + \n",
    "# #     shade_p_value(obs_stat = obs_diff_in_means, direction = \"right\") +\n",
    "# #     xlab(\"Difference in mean\") +\n",
    "# #     theme(text = element_text(size = 20))\n",
    "# # diff_in_medians_plot\n",
    "\n",
    "# # get p value\n",
    "# other_p_value <- other_null_dist %>% \n",
    "#     get_p_value(obs_stat = other_obs_diff_in_means, direction = \"right\")\n",
    "# other_p_value"
   ]
  },
  {
   "cell_type": "markdown",
   "id": "ed0ad3b4",
   "metadata": {
    "tags": []
   },
   "source": [
    "### 2.3 Visualizations"
   ]
  },
  {
   "cell_type": "code",
   "execution_count": null,
   "id": "309f21ca-d3ee-495c-9443-5876143e11ac",
   "metadata": {},
   "outputs": [],
   "source": []
  },
  {
   "cell_type": "markdown",
   "id": "3c53adac",
   "metadata": {},
   "source": [
    "- Hi Ziya :)"
   ]
  },
  {
   "cell_type": "markdown",
   "id": "827b46d7",
   "metadata": {},
   "source": [
    "*Make sure to **interpret the results you obtain**. It’s not enough to just state what a 90% confidence interval is, for example.*\n",
    "\n",
    "*Ensure your tables and/or figures are labeled with a figure/table number.\n",
    "**Do you think one of bootstrapping or asymptotics is more appropriate than the other? Why or why not?** Explain why you think both methods gave you similar/different results, and whether you think one is more trustworthy than the other.*"
   ]
  },
  {
   "cell_type": "markdown",
   "id": "31ca8925",
   "metadata": {},
   "source": [
    "### 2.4 Results and interpretations"
   ]
  },
  {
   "cell_type": "markdown",
   "id": "977d7970",
   "metadata": {},
   "source": [
    "- Z & Y"
   ]
  },
  {
   "cell_type": "markdown",
   "id": "01d5cd87",
   "metadata": {},
   "source": [
    "# 3. Discussion\n",
    "*In this section, you’ll **interpret the results** you obtained in the previous section*\n",
    "***with respect to the main question/goal of your project.***\n",
    "- *Summarize what you found, and the implications/impact of your findings.*\n",
    "- *If relevant, discuss whether your results were what you expected to find.*\n",
    "- *Discuss future questions/research this study could lead to.*"
   ]
  },
  {
   "cell_type": "markdown",
   "id": "94dc9133",
   "metadata": {},
   "source": [
    "### 3.1 Findings and implications"
   ]
  },
  {
   "cell_type": "markdown",
   "id": "9130d50a",
   "metadata": {},
   "source": [
    "### 3.2 Expectations "
   ]
  },
  {
   "cell_type": "markdown",
   "id": "e0d24798",
   "metadata": {},
   "source": [
    "### 3.3 Future questions and research"
   ]
  },
  {
   "cell_type": "markdown",
   "id": "ddb9cba3",
   "metadata": {},
   "source": [
    "# 4. References\n",
    "*The same instructions for your proposal also applies here. You only need to **make changes if necessary (e.g., if feedback indicates so).***"
   ]
  },
  {
   "cell_type": "markdown",
   "id": "fb8399b1",
   "metadata": {},
   "source": [
    "“Ai-Jobs.net Salaries.” Salaries.ai, https://salaries.ai-jobs.net/. \n",
    "\n",
    "Bhatia, Ruchi. “Data Science Job Salaries.” Kaggle, 15 June 2022, https://www.kaggle.com/datasets/ruchi798/data-science-job-salaries. \n",
    "\n",
    "Brynjolfsson, Erik, et al. “Covid-19 and Remote Work: An Early Look at US Data.” 2020, https://doi.org/10.3386/w27344.\n",
    "\n",
    "Galanti, Teresa et al. “Work From Home During the COVID-19 Outbreak: The Impact on Employees' Remote Work Productivity, Engagement, and Stress.” Journal of occupational and environmental medicine vol. 63,7 (2021): e426-e432. doi:10.1097/JOM.0000000000002236"
   ]
  },
  {
   "cell_type": "code",
   "execution_count": null,
   "id": "67ced0be",
   "metadata": {},
   "outputs": [],
   "source": []
  }
 ],
 "metadata": {
  "kernelspec": {
   "display_name": "R",
   "language": "R",
   "name": "ir"
  },
  "language_info": {
   "codemirror_mode": "r",
   "file_extension": ".r",
   "mimetype": "text/x-r-source",
   "name": "R",
   "pygments_lexer": "r",
   "version": "4.0.5"
  }
 },
 "nbformat": 4,
 "nbformat_minor": 5
}
