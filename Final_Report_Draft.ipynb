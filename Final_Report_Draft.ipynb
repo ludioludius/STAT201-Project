{
 "cells": [
  {
   "cell_type": "markdown",
   "id": "25dddd20",
   "metadata": {},
   "source": [
    "# Deliverable 4: Final Report"
   ]
  },
  {
   "cell_type": "markdown",
   "id": "4fc2469b",
   "metadata": {},
   "source": [
    "## 1. Introduction"
   ]
  },
  {
   "cell_type": "markdown",
   "id": "af36c55d",
   "metadata": {},
   "source": [
    "Since the beginning of the covid-19 pandemic in 2020, remote work has been on the rise globally (Brynjolfsson, E. et al., 2020). This drastic change in the way companies operate poses numerous challenges and opportunities for both employers and employees. Given the potential increase in productivity (Galanti, Teresa et al., 2021) among remote workers and the obvious decrease in operating costs for companies, it would be insightful to see if these factors point to a difference in salaries among data science professionals. Since the nature of most data science jobs allows fully remote work, it would be informative to look at salary differences between fully remote and conventional work.\n",
    "\n",
    "This raises an interesting question: **does salary differ between fully remote and conventional positions for full-time data science professionals?** We will provide an estimate of the ***mean salary*** for both groups(remote and conventional). We will then conduct both ***simulation-based(bootstrapping)*** and ***theory-based(asymptotics)*** tests in an attempt to provide evidence for the difference between the two groups. Given the skewed nature of the salaries in our dataset, we will use the ***inter-quartile range*** to quantify the spread of the data. \n",
    "\n",
    "To answer our question, we discovered a dataset originally aggregated by [ai-jobs.net](https://salaries.ai-jobs.net/) through [Kaggle](https://www.kaggle.com/datasets/ruchi798/data-science-job-salaries). This dataset includes 607 observations with 11 factors: year, experience level, full/part-time, job titles, salary values in different currencies and converted in USD, employees location, remote ratio, company locations, and company sizes (more details see 2.2).  We take the `salary_in_usd` as our ***response variable*** and `remote_ratio` as our ***explanatory variable***.\n"
   ]
  },
  {
   "cell_type": "code",
   "execution_count": 1,
   "id": "05667508",
   "metadata": {},
   "outputs": [
    {
     "name": "stderr",
     "output_type": "stream",
     "text": [
      "── \u001b[1mAttaching packages\u001b[22m ─────────────────────────────────────── tidyverse 1.3.0 ──\n",
      "\n",
      "\u001b[32m✔\u001b[39m \u001b[34mggplot2\u001b[39m 3.3.6     \u001b[32m✔\u001b[39m \u001b[34mdplyr  \u001b[39m 1.0.9\n",
      "\u001b[32m✔\u001b[39m \u001b[34mtibble \u001b[39m 3.1.7     \u001b[32m✔\u001b[39m \u001b[34mstringr\u001b[39m 1.4.0\n",
      "\u001b[32m✔\u001b[39m \u001b[34mpurrr  \u001b[39m 0.3.4     \u001b[32m✔\u001b[39m \u001b[34mforcats\u001b[39m 0.5.1\n",
      "\n",
      "── \u001b[1mConflicts\u001b[22m ────────────────────────────────────────── tidyverse_conflicts() ──\n",
      "\u001b[31m✖\u001b[39m \u001b[34mdplyr\u001b[39m::\u001b[32mfilter()\u001b[39m masks \u001b[34mstats\u001b[39m::filter()\n",
      "\u001b[31m✖\u001b[39m \u001b[34mdplyr\u001b[39m::\u001b[32mident()\u001b[39m  masks \u001b[34mdbplyr\u001b[39m::ident()\n",
      "\u001b[31m✖\u001b[39m \u001b[34mdplyr\u001b[39m::\u001b[32mlag()\u001b[39m    masks \u001b[34mstats\u001b[39m::lag()\n",
      "\u001b[31m✖\u001b[39m \u001b[34mdplyr\u001b[39m::\u001b[32msql()\u001b[39m    masks \u001b[34mdbplyr\u001b[39m::sql()\n",
      "\n",
      "\n",
      "Attaching package: ‘lubridate’\n",
      "\n",
      "\n",
      "The following object is masked from ‘package:cowplot’:\n",
      "\n",
      "    stamp\n",
      "\n",
      "\n",
      "The following objects are masked from ‘package:base’:\n",
      "\n",
      "    date, intersect, setdiff, union\n",
      "\n",
      "\n",
      "\n",
      "Attaching package: ‘scales’\n",
      "\n",
      "\n",
      "The following object is masked from ‘package:purrr’:\n",
      "\n",
      "    discard\n",
      "\n",
      "\n",
      "The following object is masked from ‘package:readr’:\n",
      "\n",
      "    col_factor\n",
      "\n",
      "\n"
     ]
    }
   ],
   "source": [
    "library(readr)\n",
    "library(tidyr)\n",
    "library(infer)\n",
    "library(repr)\n",
    "library(dbplyr)\n",
    "library(tidyverse)\n",
    "library(cowplot)\n",
    "library(ggplot2)\n",
    "library(digest)\n",
    "library(lubridate)\n",
    "library(scales)\n",
    "library(broom)"
   ]
  },
  {
   "cell_type": "markdown",
   "id": "1a2b3c41",
   "metadata": {},
   "source": [
    "## 2. Methods and Results"
   ]
  },
  {
   "cell_type": "markdown",
   "id": "25af8ab6-2b2c-49f2-b031-cb8e12aa6407",
   "metadata": {},
   "source": [
    "### 2.1 Data import"
   ]
  },
  {
   "cell_type": "code",
   "execution_count": 2,
   "id": "3ae3ac3f-9b76-4d60-9b90-af6815041e21",
   "metadata": {},
   "outputs": [
    {
     "name": "stderr",
     "output_type": "stream",
     "text": [
      "\u001b[1m\u001b[22mNew names:\n",
      "\u001b[36m•\u001b[39m `` -> `...1`\n",
      "\u001b[1mRows: \u001b[22m\u001b[34m607\u001b[39m \u001b[1mColumns: \u001b[22m\u001b[34m12\u001b[39m\n",
      "\u001b[36m──\u001b[39m \u001b[1mColumn specification\u001b[22m \u001b[36m────────────────────────────────────────────────────────\u001b[39m\n",
      "\u001b[1mDelimiter:\u001b[22m \",\"\n",
      "\u001b[31mchr\u001b[39m (7): experience_level, employment_type, job_title, salary_currency, empl...\n",
      "\u001b[32mdbl\u001b[39m (5): ...1, work_year, salary, salary_in_usd, remote_ratio\n",
      "\n",
      "\u001b[36mℹ\u001b[39m Use `spec()` to retrieve the full column specification for this data.\n",
      "\u001b[36mℹ\u001b[39m Specify the column types or set `show_col_types = FALSE` to quiet this message.\n"
     ]
    },
    {
     "name": "stdout",
     "output_type": "stream",
     "text": [
      "Rows: 607\n",
      "Columns: 12\n",
      "$ ...1               \u001b[3m\u001b[90m<dbl>\u001b[39m\u001b[23m 0, 1, 2, 3, 4, 5, 6, 7, 8, 9, 10, 11, 12, 13, 14, 1…\n",
      "$ work_year          \u001b[3m\u001b[90m<dbl>\u001b[39m\u001b[23m 2020, 2020, 2020, 2020, 2020, 2020, 2020, 2020, 202…\n",
      "$ experience_level   \u001b[3m\u001b[90m<chr>\u001b[39m\u001b[23m \"MI\", \"SE\", \"SE\", \"MI\", \"SE\", \"EN\", \"SE\", \"MI\", \"MI…\n",
      "$ employment_type    \u001b[3m\u001b[90m<chr>\u001b[39m\u001b[23m \"FT\", \"FT\", \"FT\", \"FT\", \"FT\", \"FT\", \"FT\", \"FT\", \"FT…\n",
      "$ job_title          \u001b[3m\u001b[90m<chr>\u001b[39m\u001b[23m \"Data Scientist\", \"Machine Learning Scientist\", \"Bi…\n",
      "$ salary             \u001b[3m\u001b[90m<dbl>\u001b[39m\u001b[23m 70000, 260000, 85000, 20000, 150000, 72000, 190000,…\n",
      "$ salary_currency    \u001b[3m\u001b[90m<chr>\u001b[39m\u001b[23m \"EUR\", \"USD\", \"GBP\", \"USD\", \"USD\", \"USD\", \"USD\", \"H…\n",
      "$ salary_in_usd      \u001b[3m\u001b[90m<dbl>\u001b[39m\u001b[23m 79833, 260000, 109024, 20000, 150000, 72000, 190000…\n",
      "$ employee_residence \u001b[3m\u001b[90m<chr>\u001b[39m\u001b[23m \"DE\", \"JP\", \"GB\", \"HN\", \"US\", \"US\", \"US\", \"HU\", \"US…\n",
      "$ remote_ratio       \u001b[3m\u001b[90m<dbl>\u001b[39m\u001b[23m 0, 0, 50, 0, 50, 100, 100, 50, 100, 50, 0, 0, 0, 10…\n",
      "$ company_location   \u001b[3m\u001b[90m<chr>\u001b[39m\u001b[23m \"DE\", \"JP\", \"GB\", \"HN\", \"US\", \"US\", \"US\", \"HU\", \"US…\n",
      "$ company_size       \u001b[3m\u001b[90m<chr>\u001b[39m\u001b[23m \"L\", \"S\", \"M\", \"S\", \"L\", \"L\", \"S\", \"L\", \"L\", \"S\", \"…\n"
     ]
    }
   ],
   "source": [
    "# Given the absence of an official API for R language from Kaggle, \n",
    "# we had to transfer the .csv file to Github for the required direct import process.\n",
    "ds_salaries <- read_csv(\"https://raw.githubusercontent.com/CalicoCalliope/ds_salaries_r/main/ds_salaries.csv\")\n",
    "glimpse(ds_salaries)"
   ]
  },
  {
   "cell_type": "markdown",
   "id": "82bd1b46-c48d-4d4c-8c52-2cbbee89b9be",
   "metadata": {},
   "source": [
    "### 2.2 Data cleaning and wrangling"
   ]
  },
  {
   "cell_type": "markdown",
   "id": "0d31aedc-980e-4b2a-afab-d6377ad57274",
   "metadata": {},
   "source": [
    "Since our interests are in **remote work** and **salaries** for **all full-time** data science professionals **globally**, we cleaned the data as follows:"
   ]
  },
  {
   "cell_type": "code",
   "execution_count": 3,
   "id": "53f44a37-f30d-4190-89ae-fd84a4560cbb",
   "metadata": {},
   "outputs": [
    {
     "name": "stdout",
     "output_type": "stream",
     "text": [
      "Rows: 588\n",
      "Columns: 4\n",
      "$ salary_in_usd    \u001b[3m\u001b[90m<dbl>\u001b[39m\u001b[23m 79833, 260000, 109024, 20000, 150000, 72000, 190000, …\n",
      "$ remote_ratio     \u001b[3m\u001b[90m<dbl>\u001b[39m\u001b[23m 0, 0, 50, 0, 50, 100, 100, 50, 100, 50, 0, 0, 0, 100,…\n",
      "$ company_location \u001b[3m\u001b[90m<chr>\u001b[39m\u001b[23m \"DE\", \"JP\", \"GB\", \"HN\", \"US\", \"US\", \"US\", \"HU\", \"US\",…\n",
      "$ experience_level \u001b[3m\u001b[90m<chr>\u001b[39m\u001b[23m \"MI\", \"SE\", \"SE\", \"MI\", \"SE\", \"EN\", \"SE\", \"MI\", \"MI\",…\n"
     ]
    }
   ],
   "source": [
    "df <- ds_salaries %>%\n",
    "\n",
    "    # filter only fulltime position to create a sample for the targeted population:\n",
    "    filter(employment_type==\"FT\") %>% \n",
    "\n",
    "    select(salary_in_usd,  # select converted salaries so all values are on the same scale\n",
    "           remote_ratio,  # explanatory variable\n",
    "           \n",
    "           # include only the following potential indicators for more in-depth interests and future questions:\n",
    "           company_location,  # shown in ISO 3166 country code\n",
    "           experience_level)  # EN: Entry-level, MI: Mid-level, SE: Senior-level, EX: Executive-level\n",
    "glimpse(df)"
   ]
  },
  {
   "cell_type": "markdown",
   "id": "69940455-83ad-4bd3-9853-5b05a1d7b2ce",
   "metadata": {},
   "source": [
    "Although `remote_ration`  is a `double<dbl>`, it has only three values: `0`%(onsite), `50` %(hybrid),`100`% (fully remote).  \n",
    "\n",
    "Given the purpose of the key question and the distribution of `remote_ratio` as shown below:\n"
   ]
  },
  {
   "cell_type": "code",
   "execution_count": 4,
   "id": "b00179f2-6124-400d-a50c-495110aad619",
   "metadata": {},
   "outputs": [
    {
     "data": {
      "text/html": [
       "<table class=\"dataframe\">\n",
       "<caption>A tibble: 1 × 3</caption>\n",
       "<thead>\n",
       "\t<tr><th scope=col>onsite</th><th scope=col>hybrid</th><th scope=col>fully_remote</th></tr>\n",
       "\t<tr><th scope=col>&lt;int&gt;</th><th scope=col>&lt;int&gt;</th><th scope=col>&lt;int&gt;</th></tr>\n",
       "</thead>\n",
       "<tbody>\n",
       "\t<tr><td>126</td><td>92</td><td>370</td></tr>\n",
       "</tbody>\n",
       "</table>\n"
      ],
      "text/latex": [
       "A tibble: 1 × 3\n",
       "\\begin{tabular}{lll}\n",
       " onsite & hybrid & fully\\_remote\\\\\n",
       " <int> & <int> & <int>\\\\\n",
       "\\hline\n",
       "\t 126 & 92 & 370\\\\\n",
       "\\end{tabular}\n"
      ],
      "text/markdown": [
       "\n",
       "A tibble: 1 × 3\n",
       "\n",
       "| onsite &lt;int&gt; | hybrid &lt;int&gt; | fully_remote &lt;int&gt; |\n",
       "|---|---|---|\n",
       "| 126 | 92 | 370 |\n",
       "\n"
      ],
      "text/plain": [
       "  onsite hybrid fully_remote\n",
       "1 126    92     370         "
      ]
     },
     "metadata": {},
     "output_type": "display_data"
    }
   ],
   "source": [
    "ratio_value_count <- df %>% \n",
    "    summarise(onsite = sum(remote_ratio == 0),\n",
    "              hybrid = sum(remote_ratio == 50),\n",
    "              fully_remote = sum(remote_ratio == 100))\n",
    "ratio_value_count"
   ]
  },
  {
   "cell_type": "markdown",
   "id": "c2f5b2ba-9f78-4b3e-af3c-221fabe7bf78",
   "metadata": {},
   "source": [
    "from here onward, we **divide the data into two groups**:\n",
    "- 1. `fully_remote`:   `remote_ratio == 100`, all `100`% \n",
    "- 2. `non_fully_remote` or \"conventional\":    `remote_ratio != 100`, combine both `0`%(onsite) and `50`%(hybrid),"
   ]
  },
  {
   "cell_type": "code",
   "execution_count": 5,
   "id": "b8d5cf6f-e302-444f-bca6-4dd97d1b7f9d",
   "metadata": {},
   "outputs": [
    {
     "data": {
      "text/html": [
       "<table class=\"dataframe\">\n",
       "<caption>A tibble: 6 × 4</caption>\n",
       "<thead>\n",
       "\t<tr><th scope=col>salary_in_usd</th><th scope=col>company_location</th><th scope=col>experience_level</th><th scope=col>fully_remote</th></tr>\n",
       "\t<tr><th scope=col>&lt;dbl&gt;</th><th scope=col>&lt;chr&gt;</th><th scope=col>&lt;chr&gt;</th><th scope=col>&lt;lgl&gt;</th></tr>\n",
       "</thead>\n",
       "<tbody>\n",
       "\t<tr><td> 79833</td><td>DE</td><td>MI</td><td>FALSE</td></tr>\n",
       "\t<tr><td>260000</td><td>JP</td><td>SE</td><td>FALSE</td></tr>\n",
       "\t<tr><td>109024</td><td>GB</td><td>SE</td><td>FALSE</td></tr>\n",
       "\t<tr><td> 20000</td><td>HN</td><td>MI</td><td>FALSE</td></tr>\n",
       "\t<tr><td>150000</td><td>US</td><td>SE</td><td>FALSE</td></tr>\n",
       "\t<tr><td> 72000</td><td>US</td><td>EN</td><td> TRUE</td></tr>\n",
       "</tbody>\n",
       "</table>\n"
      ],
      "text/latex": [
       "A tibble: 6 × 4\n",
       "\\begin{tabular}{llll}\n",
       " salary\\_in\\_usd & company\\_location & experience\\_level & fully\\_remote\\\\\n",
       " <dbl> & <chr> & <chr> & <lgl>\\\\\n",
       "\\hline\n",
       "\t  79833 & DE & MI & FALSE\\\\\n",
       "\t 260000 & JP & SE & FALSE\\\\\n",
       "\t 109024 & GB & SE & FALSE\\\\\n",
       "\t  20000 & HN & MI & FALSE\\\\\n",
       "\t 150000 & US & SE & FALSE\\\\\n",
       "\t  72000 & US & EN &  TRUE\\\\\n",
       "\\end{tabular}\n"
      ],
      "text/markdown": [
       "\n",
       "A tibble: 6 × 4\n",
       "\n",
       "| salary_in_usd &lt;dbl&gt; | company_location &lt;chr&gt; | experience_level &lt;chr&gt; | fully_remote &lt;lgl&gt; |\n",
       "|---|---|---|---|\n",
       "|  79833 | DE | MI | FALSE |\n",
       "| 260000 | JP | SE | FALSE |\n",
       "| 109024 | GB | SE | FALSE |\n",
       "|  20000 | HN | MI | FALSE |\n",
       "| 150000 | US | SE | FALSE |\n",
       "|  72000 | US | EN |  TRUE |\n",
       "\n"
      ],
      "text/plain": [
       "  salary_in_usd company_location experience_level fully_remote\n",
       "1  79833        DE               MI               FALSE       \n",
       "2 260000        JP               SE               FALSE       \n",
       "3 109024        GB               SE               FALSE       \n",
       "4  20000        HN               MI               FALSE       \n",
       "5 150000        US               SE               FALSE       \n",
       "6  72000        US               EN                TRUE       "
      ]
     },
     "metadata": {},
     "output_type": "display_data"
    },
    {
     "name": "stdout",
     "output_type": "stream",
     "text": [
      "Rows: 370\n",
      "Columns: 4\n",
      "$ salary_in_usd    \u001b[3m\u001b[90m<dbl>\u001b[39m\u001b[23m 72000, 190000, 135000, 87000, 85000, 41689, 114047, 5…\n",
      "$ company_location \u001b[3m\u001b[90m<chr>\u001b[39m\u001b[23m \"US\", \"US\", \"US\", \"US\", \"US\", \"JP\", \"GB\", \"US\", \"IN\",…\n",
      "$ experience_level \u001b[3m\u001b[90m<chr>\u001b[39m\u001b[23m \"EN\", \"SE\", \"MI\", \"MI\", \"MI\", \"EN\", \"SE\", \"MI\", \"MI\",…\n",
      "$ fully_remote     \u001b[3m\u001b[90m<lgl>\u001b[39m\u001b[23m TRUE, TRUE, TRUE, TRUE, TRUE, TRUE, TRUE, TRUE, TRUE,…\n",
      "Rows: 218\n",
      "Columns: 4\n",
      "$ salary_in_usd    \u001b[3m\u001b[90m<dbl>\u001b[39m\u001b[23m 79833, 260000, 109024, 20000, 150000, 35735, 125000, …\n",
      "$ company_location \u001b[3m\u001b[90m<chr>\u001b[39m\u001b[23m \"DE\", \"JP\", \"GB\", \"HN\", \"US\", \"HU\", \"NZ\", \"FR\", \"IN\",…\n",
      "$ experience_level \u001b[3m\u001b[90m<chr>\u001b[39m\u001b[23m \"MI\", \"SE\", \"SE\", \"MI\", \"SE\", \"MI\", \"SE\", \"EN\", \"MI\",…\n",
      "$ fully_remote     \u001b[3m\u001b[90m<lgl>\u001b[39m\u001b[23m FALSE, FALSE, FALSE, FALSE, FALSE, FALSE, FALSE, FALS…\n"
     ]
    }
   ],
   "source": [
    "remote_binary <- df %>% \n",
    "    mutate(fully_remote = (remote_ratio == 100)) %>% \n",
    "    select(-remote_ratio) \n",
    "head(remote_binary)\n",
    "\n",
    "# 1. fully_remote: \n",
    "fully_remote <- remote_binary %>% \n",
    "    filter(fully_remote == TRUE)\n",
    "glimpse(fully_remote)\n",
    "\n",
    "# 2. non_fully_remote:  \n",
    "non_fully_remote <- remote_binary %>% \n",
    "    filter(fully_remote == FALSE)\n",
    "glimpse(non_fully_remote)"
   ]
  },
  {
   "cell_type": "markdown",
   "id": "e8b67a2a-13fb-47ae-803f-78faedddeb44",
   "metadata": {},
   "source": [
    "### 2.3 Data Exploration"
   ]
  },
  {
   "cell_type": "markdown",
   "id": "7c006f15-4127-4443-b85f-0d5953ab8f7d",
   "metadata": {},
   "source": [
    "#### 2.3.1 Raw data of the whole sample"
   ]
  },
  {
   "cell_type": "markdown",
   "id": "a3cd4322-5426-40cb-9b82-99a8964454e3",
   "metadata": {},
   "source": [
    "With the calculation of the **sample mean** (and sample median as extra reference), we plotted the raw data："
   ]
  },
  {
   "cell_type": "code",
   "execution_count": 6,
   "id": "0707e9ee-d342-4523-8a2a-f362b8f10db8",
   "metadata": {},
   "outputs": [
    {
     "name": "stderr",
     "output_type": "stream",
     "text": [
      "Warning message:\n",
      "“Removed 2 rows containing missing values (geom_bar).”\n"
     ]
    },
    {
     "data": {
      "image/png": "[encoded data removed]",
      "text/plain": [
       "plot without title"
      ]
     },
     "metadata": {
      "image/png": {
       "height": 240,
       "width": 960
      }
     },
     "output_type": "display_data"
    }
   ],
   "source": [
    "sample_stats <- df %>% \n",
    "    summarise(mean = mean(salary_in_usd),\n",
    "             median = median (salary_in_usd))\n",
    "mean_overall<- sample_stats[1] %>% pull()\n",
    "median_overall <- sample_stats[2] %>% pull()\n",
    "\n",
    "options(repr.plot.width = 16, repr.plot.height = 4)\n",
    "options(\"scipen\"=10, \"digits\"=4)\n",
    "\n",
    "all_salary_plot  <- df %>% \n",
    "    ggplot(aes(x = salary_in_usd)) + \n",
    "    geom_histogram(binwidth = 10000, colour = 'blue', fill = 'light blue') +\n",
    "    labs(title = \"Sample Distribution of Global Data Science Annual Salaries (2020 - 2022)\",\n",
    "         x = 'annual salary in USD',\n",
    "         y = 'counts') + \n",
    "        theme(text = element_text(size = 16)) +\n",
    "    \n",
    "    # add in sample mean and sample meadian as reference:\n",
    "    geom_vline(xintercept = mean_overall, colour = 'red', size = 1, linetype = \"solid\") +\n",
    "        annotate(\"text\", x = mean_overall, y = 45,label = \"sample mean ≈ 113468\", color = \"red\", size=5, hjust = -0.1) +\n",
    "    geom_vline(xintercept = median_overall, colour = 'dark green', alpha = 0.66, size = 1, linetype = \"longdash\") +\n",
    "        annotate(\"text\", x = median_overall, y = 45, label = \"sample median ≈ 104197\", color = \"dark green\", alpha = 0.66, size=5, hjust = 1.2)+ \n",
    "\n",
    "    # refine the limits and breaks of the x and y scales:\n",
    "    scale_y_continuous(limits = c(0, 45), breaks = seq(0, 45, 5)) +\n",
    "    scale_x_continuous(limits = c(0, 600001), breaks = seq(0, 600001, 30000)) \n",
    "\n",
    "all_salary_plot "
   ]
  },
  {
   "cell_type": "code",
   "execution_count": 7,
   "id": "b81f423d-e234-4b9e-acf3-8d0182f3e967",
   "metadata": {},
   "outputs": [
    {
     "name": "stdout",
     "output_type": "stream",
     "text": [
      " The over all sample mean is 113468 USD, \n",
      " and the over all sample median is 104196 USD."
     ]
    }
   ],
   "source": [
    "cat(\" The over all sample mean is\", mean_overall, \"USD,\",\"\\n\",\"and the over all sample median is\", median_overall, \"USD.\")"
   ]
  },
  {
   "cell_type": "markdown",
   "id": "151079ef-b3a0-451b-bbf1-015f9abc26be",
   "metadata": {},
   "source": [
    "The sample distribution is right-skewed. Two of the largest outliers are hidden by `geom_bar`(see warning message), but their values are included in the adjusted range of the x-axis using `scale_x_continuous`. The actual two rows are not removed or affected in the data frame."
   ]
  },
  {
   "cell_type": "markdown",
   "id": "bda5dc57-6770-43e6-91c0-9238c60992fa",
   "metadata": {},
   "source": [
    "#### 2.3.2 Point Estimates and Confidence Intervals for both Groups\n",
    "\n",
    "Since our interests are in the differences, we look into both groups for their group mean salaries:"
   ]
  },
  {
   "cell_type": "code",
   "execution_count": 8,
   "id": "b90dd7a6-9fbb-4595-b9b8-9aac3aa8110e",
   "metadata": {},
   "outputs": [
    {
     "name": "stderr",
     "output_type": "stream",
     "text": [
      "Warning message:\n",
      "“Removed 2 rows containing missing values (geom_bar).”\n",
      "Warning message:\n",
      "“Removed 2 rows containing missing values (geom_bar).”\n"
     ]
    },
    {
     "data": {
      "image/png": "[encoded data removed]",
      "text/plain": [
       "plot without title"
      ]
     },
     "metadata": {
      "image/png": {
       "height": 240,
       "width": 960
      }
     },
     "output_type": "display_data"
    },
    {
     "data": {
      "image/png": "[encoded data removed]",
      "text/plain": [
       "plot without title"
      ]
     },
     "metadata": {
      "image/png": {
       "height": 240,
       "width": 960
      }
     },
     "output_type": "display_data"
    }
   ],
   "source": [
    "options(repr.plot.width = 16, repr.plot.height = 4)\n",
    "options(\"scipen\"=10, \"digits\"=4)\n",
    "\n",
    "# 1. Fully_remote: \n",
    "fully_remote_mean <- fully_remote %>% \n",
    "    summarise(mean = mean(salary_in_usd)) %>% \n",
    "    pull()\n",
    "\n",
    "remote_plot <- df %>%\n",
    "    filter(remote_ratio == 100) %>%\n",
    "    ggplot(aes(x = salary_in_usd)) +\n",
    "    geom_histogram(binwidth = 5000, color = 'blue', fill = 'light blue') +\n",
    "    labs(title = \"Distribution of Fully remote Data Science Annual Salaries (2020 - 2022)\",\n",
    "         x = 'annual salary in USD',\n",
    "         y = 'counts') + \n",
    "        theme(text = element_text(size = 16)) +\n",
    "\n",
    "    # add in coloured vertical lines with labels for group mean:\n",
    "    geom_vline(xintercept = fully_remote_mean, colour = 'hot pink', size = 1, linetype = \"solid\") +\n",
    "        annotate(\"text\", x = fully_remote_mean, y = 20, label = \"group mean ≈ 122874.89\", color = \"hot pink\", size = 5, hjust = -0.02) +\n",
    "\n",
    "    # add grey vertical lines for sample mean from sections above:\n",
    "    geom_vline(xintercept = mean_overall, colour = 'grey', size = 1, linetype = \"longdash\") +\n",
    "        annotate(\"text\", x = mean_overall, y = 19, label = \"sample mean ≈ 113468\", color = \"grey\", size = 5, hjust = -0.02, vjust = 2) +\n",
    "\n",
    "    # refine the limits and breaks of the x and y scales:\n",
    "    scale_y_continuous(limits = c(0, 20), breaks = seq(0, 20, 5)) +\n",
    "    scale_x_continuous(limits = c(0, 600001), breaks = seq(0, 600001, 30000)) \n",
    "\n",
    "remote_plot\n",
    "\n",
    "\n",
    "# 2. Non_fully_remote:  \n",
    "non_fully_remote_mean <- non_fully_remote %>% \n",
    "    summarise(mean = mean(salary_in_usd)) %>% \n",
    "    pull()\n",
    "\n",
    "conventional_plot <- df %>%\n",
    "    filter(remote_ratio == 0 & 50) %>%\n",
    "    ggplot(aes(x = salary_in_usd)) +\n",
    "    geom_histogram(binwidth = 5000, color = 'blue', fill = 'light blue') +\n",
    "    labs(title = \"Distribution of Conventional Data Science Annual Salaries (2020 - 2022)\",\n",
    "         x = 'annual salary in USD',\n",
    "         y = 'counts') + \n",
    "        theme(text = element_text(size = 16)) +\n",
    "\n",
    "    # add in coloured vertical lines with labels for group mean:\n",
    "    geom_vline(xintercept = non_fully_remote_mean, colour = 'hot pink', size = 1, linetype = \"solid\") +\n",
    "        annotate(\"text\", x = non_fully_remote_mean, y = 15, label = \"group mean ≈ 97502.38\", color = \"hot pink\", size = 5, hjust = -0.02) +\n",
    "    \n",
    "    # add grey vertical lines for overall sample mean from sections above:\n",
    "    geom_vline(xintercept = mean_overall, colour = 'grey', size = 1, linetype = \"longdash\") +\n",
    "        annotate(\"text\", x = mean_overall, y = 14, label = \"sample mean ≈ 113468\", color = \"grey\", size = 5, hjust = -0.02, vjust = 2) +\n",
    "\n",
    "    # refine the limits and breaks of the x and y scales:\n",
    "    scale_y_continuous(limits = c(0, 15), breaks = seq(0, 15, 5)) +\n",
    "    scale_x_continuous(limits = c(0, 600001), breaks = seq(0, 600001, 30000)) \n",
    "\n",
    "conventional_plot\n"
   ]
  },
  {
   "cell_type": "code",
   "execution_count": 9,
   "id": "60253db7-594a-4817-99cf-c7b77c0648ec",
   "metadata": {},
   "outputs": [
    {
     "name": "stdout",
     "output_type": "stream",
     "text": [
      " The sample mean of the fully remote group is 122875 USD, \n",
      " and the sample mean of the non-fully remote group is 97502 USD."
     ]
    }
   ],
   "source": [
    "cat(\" The sample mean of the fully remote group is\", fully_remote_mean, \"USD,\",\"\\n\",\"and the sample mean of the non-fully remote group is\", round(non_fully_remote_mean, 5), \"USD.\")"
   ]
  },
  {
   "cell_type": "markdown",
   "id": "3e3272d6-4979-46c2-acf0-913b8aa51988",
   "metadata": {},
   "source": [
    "The mean of the *fully remote* group is higher than the overall sample mean, whereas the mean of the conventional group is lower than the overall sample mean. \n",
    "\n",
    "To depict the **uncertainty** in these point estimates, we construct **95% confidence intervals** for both group's sample means using the percentile method with bootstrapping:\n"
   ]
  },
  {
   "cell_type": "code",
   "execution_count": null,
   "id": "5393e916-f4f9-432a-9d51-2e5f371d21f2",
   "metadata": {},
   "outputs": [
    {
     "data": {
      "text/html": [
       "<table class=\"dataframe\">\n",
       "<caption>A tibble: 1 × 2</caption>\n",
       "<thead>\n",
       "\t<tr><th scope=col>lower_ci</th><th scope=col>upper_ci</th></tr>\n",
       "\t<tr><th scope=col>&lt;dbl&gt;</th><th scope=col>&lt;dbl&gt;</th></tr>\n",
       "</thead>\n",
       "<tbody>\n",
       "\t<tr><td>115910</td><td>130404</td></tr>\n",
       "</tbody>\n",
       "</table>\n"
      ],
      "text/latex": [
       "A tibble: 1 × 2\n",
       "\\begin{tabular}{ll}\n",
       " lower\\_ci & upper\\_ci\\\\\n",
       " <dbl> & <dbl>\\\\\n",
       "\\hline\n",
       "\t 115910 & 130404\\\\\n",
       "\\end{tabular}\n"
      ],
      "text/markdown": [
       "\n",
       "A tibble: 1 × 2\n",
       "\n",
       "| lower_ci &lt;dbl&gt; | upper_ci &lt;dbl&gt; |\n",
       "|---|---|\n",
       "| 115910 | 130404 |\n",
       "\n"
      ],
      "text/plain": [
       "  lower_ci upper_ci\n",
       "1 115910   130404  "
      ]
     },
     "metadata": {},
     "output_type": "display_data"
    }
   ],
   "source": [
    "set.seed(6666)\n",
    "\n",
    "# 1. Fully remote:\n",
    "fully_remote_resample  <-  fully_remote %>%\n",
    "    specify(response = salary_in_usd) %>%\n",
    "    generate(reps = 1000, type = \"bootstrap\") %>%                        \n",
    "    calculate(stat = \"mean\") \n",
    "\n",
    "fully_remote_percentile_ci <- fully_remote_resample %>% \n",
    "    get_confidence_interval(level = 0.95, type = \"percentile\") \n",
    "fully_remote_percentile_ci\n",
    "\n",
    "fully_remote_ci_plot <- \n",
    "    visualize(fully_remote_resample) + \n",
    "    shade_ci(endpoints = fully_remote_percentile_ci, color = \"hotpink\", fill = \"pink\", alpha = 0.66)\n",
    "fully_remote_ci_plot"
   ]
  },
  {
   "cell_type": "markdown",
   "id": "4201af8e-3633-493f-9056-d1ba6f4004d9",
   "metadata": {},
   "source": [
    "We are 95% confident that the true mean salary for **fully remote** full-time data science professionals is captured by the confidence interval $(115910, 130404)$."
   ]
  },
  {
   "cell_type": "code",
   "execution_count": null,
   "id": "77ddc221-9094-4c44-9bf1-8d54ee37a491",
   "metadata": {},
   "outputs": [],
   "source": [
    "set.seed(6666)\n",
    "\n",
    "# 2. Non-fully remote:\n",
    "non_fully_remote_resample  <- non_fully_remote %>%\n",
    "    specify(response = salary_in_usd) %>%\n",
    "    generate(reps = 1000, type = \"bootstrap\") %>%                        \n",
    "    calculate(stat = \"mean\")    \n",
    "\n",
    "non_fully_remote_percentile_ci <- non_fully_remote_resample %>% \n",
    "    get_confidence_interval(level = 0.95, type = \"percentile\") \n",
    "non_fully_remote_percentile_ci\n",
    "\n",
    "non_fully_remote_ci_plot <- \n",
    "    visualize(non_fully_remote_resample) + \n",
    "    shade_ci(endpoints = non_fully_remote_percentile_ci, color = \"dark green\", fill = \"light green\", alpha = 0.48)\n",
    "non_fully_remote_ci_plot"
   ]
  },
  {
   "cell_type": "markdown",
   "id": "83971f57-fb9b-47d5-8095-fb4c6b420312",
   "metadata": {},
   "source": [
    "We are 95% confident that the true mean salary for **non-fully remote** full-time data science professionals is captured by the confidence interval $(88600, 105566)$.\n"
   ]
  },
  {
   "cell_type": "markdown",
   "id": "0dc2a827-c348-4195-95d1-cc9346eefeb4",
   "metadata": {},
   "source": [
    "However, confidence intervals **do not quantify variation**. There could be bias in the sampling or an inability to obtain data from a certain subset of the population. We need to look further into the data for a better understanding."
   ]
  },
  {
   "cell_type": "markdown",
   "id": "4f62776e-9efe-4f38-995c-a60bc43dfd9b",
   "metadata": {},
   "source": [
    "#### 2.3.3 Variation and Scale Parameter for both Groups"
   ]
  },
  {
   "cell_type": "markdown",
   "id": "2361c77c-0a46-4301-948c-e521100aa4dc",
   "metadata": {},
   "source": [
    "Considering there are various potential indicators for the means, we need to know more about the **variation**. Given the heavy right tail, we calculated **inter-quartile range** instead of standard deviation:"
   ]
  },
  {
   "cell_type": "code",
   "execution_count": null,
   "id": "c6f32244-f629-43db-ae87-19d03ea5163b",
   "metadata": {},
   "outputs": [],
   "source": [
    "options(repr.plot.width = 16, repr.plot.height = 4)\n",
    "options(\"scipen\"=10, \"digits\"=4)\n",
    "\n",
    "# 1. fully remote group:\n",
    "lower_quantile_fully_remote <- \n",
    "    fully_remote %>% \n",
    "    pull(salary_in_usd) %>% \n",
    "    quantile(0.25)\n",
    "\n",
    "upper_quantile_fully_remote <- \n",
    "    fully_remote %>% \n",
    "    pull(salary_in_usd) %>% \n",
    "    quantile(0.75)\n",
    "\n",
    "median_fully_remote <- fully_remote %>% \n",
    "    summarise(median = median(salary_in_usd)) %>% \n",
    "    pull()\n",
    "\n",
    "plot_IQR_fully_remote <- fully_remote %>%\n",
    "    ggplot(aes(x = salary_in_usd)) +\n",
    "    geom_histogram(binwidth = 5000, color = 'blue', fill = 'light blue') +\n",
    "    labs(title = \"IQR of Annual Salaries for Fully Remote Data Science(2020 - 2022)\",\n",
    "         x = 'annual salary in USD',\n",
    "         y = 'counts') + \n",
    "        theme(text = element_text(size = 16)) +\n",
    "\n",
    "    geom_vline(xintercept = lower_quantile_fully_remote, colour = 'aquamarine3', size = 1, linetype = \"longdash\") +\n",
    "        annotate(\"text\", x = lower_quantile_fully_remote, y = 18, label = \"Q1: 76944\", color = 'aquamarine3', size = 5, hjust = 1.1) +\n",
    "    geom_vline(xintercept = upper_quantile_fully_remote, colour = 'aquamarine3', size = 1, linetype = \"longdash\") +\n",
    "        annotate(\"text\", x = upper_quantile_fully_remote, y = 18, label = \"Q3: 160000\", color = 'aquamarine3', size = 5, hjust = -0.1) +\n",
    "    annotate(\"rect\", xmin = lower_quantile_fully_remote, xmax = upper_quantile_fully_remote, ymin = 0, ymax = Inf,\n",
    "             fill = \"aquamarine\",\n",
    "             alpha = 0.3) +\n",
    "    geom_vline(xintercept = median_fully_remote, colour = 'aquamarine4', size = 1, linetype = \"solid\") +\n",
    "        annotate(\"text\", x = median_fully_remote, y = 20, label = \"median: 115717\", color = 'aquamarine4', size=5, hjust = -0.1) +\n",
    "\n",
    "    # refine the limits and breaks of the x and y scales:\n",
    "    scale_y_continuous(limits = c(0, 20), breaks = seq(0, 20, 5)) +\n",
    "    scale_x_continuous(limits = c(0, 600001), breaks = seq(0, 600001, 30000)) \n",
    "\n",
    "\n",
    "# 2. non fully remote group:\n",
    "lower_quantile_non_fully_remote <- \n",
    "    non_fully_remote %>% \n",
    "    pull(salary_in_usd) %>% \n",
    "    quantile(0.25)\n",
    "\n",
    "upper_quantile_non_fully_remote <- \n",
    "    non_fully_remote %>% \n",
    "    pull(salary_in_usd) %>% \n",
    "    quantile(0.75)\n",
    "\n",
    "median_non_fully_remote <- non_fully_remote %>% \n",
    "    summarise(median = median(salary_in_usd)) %>% \n",
    "    pull()\n",
    "\n",
    "plot_IQR_non_fully_remote <- non_fully_remote %>%\n",
    "    ggplot(aes(x = salary_in_usd)) +\n",
    "    geom_histogram(binwidth = 5000, color = 'blue', fill = 'light blue') +\n",
    "    labs(title = \"IQR of Annual Salaries for Conventional Data Science (2020 - 2022)\",\n",
    "         x = 'annual salary in USD',\n",
    "         y = 'counts') + \n",
    "        theme(text = element_text(size = 16)) +\n",
    "\n",
    "    geom_vline(xintercept = lower_quantile_non_fully_remote, colour = 'aquamarine3', size = 1, linetype = \"longdash\") +\n",
    "        annotate(\"text\", x = lower_quantile_non_fully_remote, y = 13, label = \" Q1: 55314\", color = 'aquamarine3', size = 5, hjust = 1.1) +\n",
    "    geom_vline(xintercept = upper_quantile_non_fully_remote, colour = 'aquamarine3', size = 1, linetype = \"longdash\") +\n",
    "        annotate(\"text\", x = upper_quantile_non_fully_remote, y = 13, label = \" Q3: 124833\", color = 'aquamarine3', size = 5, hjust = -0.1) +\n",
    "    annotate(\"rect\", xmin = lower_quantile_non_fully_remote, xmax = upper_quantile_non_fully_remote, ymin = 0, ymax = Inf,\n",
    "             fill = \"aquamarine\",\n",
    "             alpha = 0.3) +\n",
    "    geom_vline(xintercept = median_non_fully_remote, colour = 'aquamarine4', size = 1, linetype = \"solid\") +\n",
    "        annotate(\"text\", x = median_non_fully_remote, y = 15, label = \"median: 85000\", color = 'aquamarine4', size=5, hjust = -0.1) +\n",
    "    \n",
    "    # refine the limits and breaks of the x and y scales:\n",
    "    scale_y_continuous(limits = c(0, 15), breaks = seq(0, 15, 5)) +\n",
    "    scale_x_continuous(limits = c(0, 600001), breaks = seq(0, 600001, 30000)) "
   ]
  },
  {
   "cell_type": "code",
   "execution_count": null,
   "id": "48081fdc-6e35-4fc4-ba38-1d1761e3cb8e",
   "metadata": {},
   "outputs": [],
   "source": [
    "cat(\"Fully remote Group:\", \n",
    "    \"\\n\", \"Q1: \", lower_quantile_fully_remote, \n",
    "    \"\\n\", \"median: \", median_fully_remote,\n",
    "    \"\\n\", \"Q3: \", upper_quantile_fully_remote,\n",
    "    \"\\n\")  \n",
    "\n",
    "cat(\"\\n\",\n",
    "    \"Non-fully remote Group:\", \n",
    "    \"\\n\", \"Q1: \", lower_quantile_non_fully_remote, \n",
    "    \"\\n\", \"median: \", median_non_fully_remote,\n",
    "    \"\\n\", \"Q3: \", upper_quantile_non_fully_remote)\n",
    "\n",
    "plot_IQR_fully_remote\n",
    "plot_IQR_non_fully_remote"
   ]
  },
  {
   "cell_type": "markdown",
   "id": "00dddac9-d280-42c8-a1a3-44e93116bf71",
   "metadata": {},
   "source": [
    "The *fully remote* group has a larger (also higher) inter-quartile range, which indicates a relatively larger variation."
   ]
  },
  {
   "cell_type": "markdown",
   "id": "21aaabb3-b5b9-4f00-8722-11387fc59d17",
   "metadata": {},
   "source": [
    "#### 2.3.3 Fully remote v.s. Non-fully remote Groups\n",
    "\n",
    "To investigate the actual salary difference, with calculated IQR, we start by comparing the two groups side by side using **boxplots**:"
   ]
  },
  {
   "cell_type": "code",
   "execution_count": null,
   "id": "bf928994-1d76-4bac-ac94-0eb2471c6d27",
   "metadata": {},
   "outputs": [],
   "source": [
    "options(repr.plot.width = 16, repr.plot.height = 6)\n",
    "options(\"scipen\"=10, \"digits\"=4)\n",
    "\n",
    "boxplots_all <- remote_binary %>%  \n",
    "    ggplot(aes(x = fully_remote, y = salary_in_usd, fill = fully_remote)) + \n",
    "    scale_fill_brewer(palette = \"BuGn\") +\n",
    "    geom_boxplot() + \n",
    "    ylab(\"salary in USD\") +\n",
    "    xlab(\"fully remote\") +\n",
    "    ggtitle(\"Boxplots of annual salary values in USD between fully remote and non-fully remote groups\") +\n",
    "    theme(text = element_text(size=16)) +\n",
    "    geom_hline(yintercept = mean_overall, color = \"pink\", size = 1, linetype = \"longdash\") +\n",
    "        annotate(\"text\", x = 0, y = mean_overall,label = \"overall sample mean\", color = \"pink\", size = 5, hjust = -0.05, vjust = -0.5) +\n",
    "    geom_hline(yintercept = median_overall, color = \"hotpink\", size = 1, linetype = \"solid\", alpha = 0.86) +\n",
    "        annotate(\"text\", x = 0, y = median_overall,label = \"overall sample median\", color = \"hotpink\", size = 5, hjust = -0.05, vjust = 1.1, alpha = 0.86)+\n",
    "\n",
    "    # refine the limits and breaks of the y scales:\n",
    "    scale_y_continuous(limits = c(0, 600000), breaks = seq(0, 600000, 50000)) \n",
    "\n",
    "boxplots_all"
   ]
  },
  {
   "cell_type": "markdown",
   "id": "7e055125-f364-4c20-8734-ed8f1c493988",
   "metadata": {},
   "source": [
    "In this boxplot, we see there is indeed a difference in the sample. The fully remote group shows a higher salary."
   ]
  },
  {
   "cell_type": "markdown",
   "id": "0600431c-67bd-496c-8fb6-da99b35b410b",
   "metadata": {},
   "source": [
    "### 2.4 Data Analysis\n"
   ]
  },
  {
   "cell_type": "markdown",
   "id": "263110fc-0937-419c-81aa-8874fce2d266",
   "metadata": {},
   "source": [
    "To answer our question about the salary difference for the population, we conduct **hypothesis testings** using both **bootstrapping** and **asymptotics** methods:\n",
    "\n",
    "Given the boxplot above, we define our hypothesis at $\\alpha = 0.10$ as below:\n",
    "- $H_0$: $\\mu_r$ - $\\mu_n$ = 0\n",
    "- $H_a$: $\\mu_r$ - $\\mu_n$ > 0\n",
    "\n",
    "where $\\mu_r$ is the true salary mean for fully remote group (`fully_remote == TRUE`), and $\\mu_n$ is the true salary mean for the conventional group(`fully_remote == FALSE`).\n"
   ]
  },
  {
   "cell_type": "markdown",
   "id": "eff1823b-fda4-4654-a570-6ceb5775545c",
   "metadata": {},
   "source": [
    "#### 2.4.1 Simulation-based Hypothesis Testing (Bootstrapping)"
   ]
  },
  {
   "cell_type": "code",
   "execution_count": null,
   "id": "0f331e7a-bee4-4be5-a8a2-cc64740e08c5",
   "metadata": {},
   "outputs": [],
   "source": [
    "set.seed(6666)\n",
    "\n",
    "# calculate observed test statistic \n",
    "obs_diff_in_means <- \n",
    "    remote_binary %>% \n",
    "    specify(formula = salary_in_usd ~ fully_remote) %>%\n",
    "    calculate(stat = \"diff in means\", order = c(\"TRUE\", \"FALSE\"))\n",
    "obs_diff_in_means\n",
    "\n",
    "# build the null distribution\n",
    "null_dist <-remote_binary  %>%\n",
    "    specify(formula = salary_in_usd ~ fully_remote) %>% \n",
    "    hypothesize(null = \"independence\") %>% \n",
    "    generate(reps = 10000, type = \"permute\") %>% \n",
    "    calculate(stat=\"diff in means\", order = c(\"TRUE\", \"FALSE\"))\n",
    "\n",
    "# visualization \n",
    "options(repr.plot.width = 16, repr.plot.height = 4)\n",
    "options(\"scipen\" = 10, \"digits\" = 4)\n",
    "\n",
    "diff_in_medians_plot <-\n",
    "    visualize(null_dist, bins = 10) + \n",
    "    shade_p_value(obs_stat = obs_diff_in_means, direction = \"right\") +\n",
    "    xlab(\"Difference in mean\") +\n",
    "    theme(text = element_text(size = 20))\n",
    "diff_in_medians_plot\n",
    "\n",
    "# get p value\n",
    "p_value <- null_dist %>% \n",
    "    get_p_value(obs_stat = obs_diff_in_means, direction = \"right\")\n",
    "p_value\n"
   ]
  },
  {
   "cell_type": "markdown",
   "id": "f2c3f6a6-697c-4e3c-8fbe-92fd6007cca3",
   "metadata": {},
   "source": [
    "As shown in the warning message, a $0$ for p-value, in this case, is merely an approximation based on the number of `reps` chosen in the `generate()` step.  That means, we can only report $p ≈ 0$, and this extremely low p-value indicates that it is extremely unlikely to get the observed test statistic if  $H_0$  were true. This suggests that $H_0$ is likely to be false. Therefore, $H_0$ should be rejected at $\\alpha = 0.10$. "
   ]
  },
  {
   "cell_type": "markdown",
   "id": "4cd1cecb-469d-450c-a551-b4f069e5dc5e",
   "metadata": {},
   "source": [
    "#### 2.4.2 Theory-based Hypothesis Testing (Asymptotics)"
   ]
  },
  {
   "cell_type": "code",
   "execution_count": null,
   "id": "e8412e10-4452-4b94-84f8-52c3d71fa99c",
   "metadata": {},
   "outputs": [],
   "source": [
    "# Check sample size for both groups:\n",
    "size_fully_remote <- fully_remote %>%\n",
    "    summarise(count = n()) %>%\n",
    "    pull()\n",
    "\n",
    "size_non_fully_remote <- non_fully_remote %>%\n",
    "    summarise(count = n()) %>%\n",
    "    pull()\n",
    "\n",
    "cat(\" Fully remote: n =\", size_fully_remote, \"\\n\", \"Non-fully remote: n =\", size_non_fully_remote, \"\\n\") "
   ]
  },
  {
   "cell_type": "markdown",
   "id": "d74a086a-2e6b-4a12-9a38-b92d95d95ef9",
   "metadata": {},
   "source": [
    "Given the sample size of both groups are large enough for the t-distribution to converge to the normal distribution, the difference between using the z-distribution instead of the t-distribution diminishes. We, therefore, choose to conduct a t-test using `broom::tidy()` for tidier and more organized results."
   ]
  },
  {
   "cell_type": "code",
   "execution_count": null,
   "id": "050d3e15-54ae-4583-89e4-4f1451e25516",
   "metadata": {},
   "outputs": [],
   "source": [
    "t_test_results <- tidy(t.test(x = remote_binary %>% filter(fully_remote == \"TRUE\") %>% pull(salary_in_usd), \n",
    "                              y = remote_binary %>% filter(fully_remote == \"FALSE\") %>% pull(salary_in_usd),\n",
    "                              alternative = \"greater\"))\n",
    "t_test_results"
   ]
  },
  {
   "cell_type": "markdown",
   "id": "1b2c3401-a81d-41fe-adaa-e4a91b8eb5f0",
   "metadata": {},
   "source": [
    "This very small p-value ($p= 0.000005279$) indicates that it is quite unlikely to get the observed test statistic if $H_0$ were true, which also suggests that $H_0$ is more likely to be false. Therefore, $H_0$ should also be rejected at $\\alpha = 0.10$. "
   ]
  },
  {
   "cell_type": "markdown",
   "id": "87c8e941-8141-49c4-abf8-4a96da838fff",
   "metadata": {},
   "source": [
    "Although both bootstrapping and asymptotic methods gave us similar results to reject $H_0$, the **asymptotics** method is **more appropriate** for this data set. This is because:\n",
    "1. Compared to asymptotics, the precision of bootstrapping much more depends on the original observations. In this sample, although the sample size is large enough, the distribution is not very well balanced, and it contains large outliers. Either of these could affect the resampling results and therefore provide a less indicative (very extreme, in this case) p-value. On the other hand, when the sample size is big enough, the asymptotics has no such dependency on the original sample.\n",
    "2. The p-value of the bootstrapping result is only an approximation based on the number of `reps` chosen in the `generate()` step. In this case, when the actual p-value is very small, we can only interpret it as $p ≈ 0$ with bootstrapping, but asymptotic results tell us more precisely about how small the p-value could be ($p ≈ 0.000005279$).\n"
   ]
  },
  {
   "cell_type": "markdown",
   "id": "01d5cd87",
   "metadata": {},
   "source": [
    "## 3. Discussion"
   ]
  },
  {
   "cell_type": "markdown",
   "id": "94dc9133",
   "metadata": {},
   "source": [
    "### 3.1 Findings and implications"
   ]
  },
  {
   "cell_type": "markdown",
   "id": "73377ac4-f72c-478b-84c4-98db9328e0c2",
   "metadata": {},
   "source": [
    "The results from both bootstrapping and asymptotics are consistent, which provided us with enough evidence to reject $H_0$ in favour of $H_a$. That suggests **the fully-remote group is more prone to higher salaries than the conventional group**.\n",
    "\n",
    "However, does this result truly applicable to all data science professionals **globally**? Is there truly a universally shared trend for **all regions**? Meanwhile, not only did we notice the data might not be well-balanced, but we were also aware that the salary values we used were all different currencies converted to USD without standardization.  \n",
    "\n",
    "With all these known complications in our sample, just knowing this general difference given by small p-values is not fully trustworthy or informative enough for our true inquisitiveness about the salary difference.\n"
   ]
  },
  {
   "cell_type": "markdown",
   "id": "0facf702-06da-430b-8ce3-db3dfe844a46",
   "metadata": {},
   "source": [
    "#### 3.1.1  Reliability check for US v.s. Others"
   ]
  },
  {
   "cell_type": "markdown",
   "id": "3f408e2d-f20b-4c57-b8dd-cf4aee05010c",
   "metadata": {},
   "source": [
    "We dig deeper to sanity-check potential regional differences. \n",
    "\n",
    "In addition to the USD conversion, given the nature of survey-based data collection, we suspect US data may play a bigger role than we expected in this sample. We, therefore, single out the US as one group and combine the rest of the countries as the other group for comparison. \n"
   ]
  },
  {
   "cell_type": "code",
   "execution_count": null,
   "id": "bda28cf4-a881-451e-a5af-cb3839bbd4b2",
   "metadata": {},
   "outputs": [],
   "source": [
    "# Duplicate original cleaned dataframe to re-assign region groups\n",
    "remote_binary_region_groups <- remote_binary\n",
    "\n",
    "# Re-categorize countries into US and Others\n",
    "remote_binary_region_groups[\"company_location\"][remote_binary_region_groups[\"company_location\"] != \"US\"] <- \"Others\"\n",
    "# head(remote_binary_region_groups)\n",
    "\n",
    "# Visualization in boxplots\n",
    "options(repr.plot.width = 16, repr.plot.height = 6)\n",
    "options(\"scipen\"=10, \"digits\"=4)\n",
    "\n",
    "boxplots_regions_remote <- remote_binary_region_groups %>%  \n",
    "    ggplot(aes(x = company_location, y = salary_in_usd, fill = fully_remote)) + \n",
    "    scale_fill_brewer(palette = \"BuGn\") +\n",
    "    geom_boxplot() + \n",
    "    xlab(\"regions\") +\n",
    "    ylab(\"salary in USD\") +\n",
    "    ggtitle(\"Boxplots of salary values in USD between remote groups for US v.s. other countries\") +\n",
    "    theme(text = element_text(size=18)) +\n",
    "    \n",
    "    # add overall mean and median for reference\n",
    "    geom_hline(yintercept = mean_overall, color = \"pink\", size = 1, linetype = \"longdash\") +\n",
    "        annotate(\"text\", x = 0, y = mean_overall,label = \"overall sample mean\", color = \"pink\", size=5, hjust = -0.05, vjust = -0.5) +\n",
    "    geom_hline(yintercept = median_overall, color = \"hotpink\", size = 1, linetype = \"solid\", alpha = 0.86) +\n",
    "        annotate(\"text\", x = 0, y = median_overall,label = \"overall sample median\", color = \"hotpink\", size=5, hjust = -0.05, vjust = 1.4, alpha = 0.86) +\n",
    "    \n",
    "    # refine the limits and breaks of the x and y scales:\n",
    "    scale_y_continuous(limits = c(0, 600001), breaks = seq(0, 600001, 50000)) \n",
    "\n",
    "boxplots_regions_remote"
   ]
  },
  {
   "cell_type": "markdown",
   "id": "6e2e97b9-0b29-4a08-8b3a-779a6f6e0bd2",
   "metadata": {},
   "source": [
    "This boxplot brings our attention to the opposite trends outside of the US and how the outliers scatter in each group. We dive back into the original sample to see how the data is clustered."
   ]
  },
  {
   "cell_type": "code",
   "execution_count": null,
   "id": "a8981181-359c-445c-9fe0-cbc543348622",
   "metadata": {},
   "outputs": [],
   "source": [
    "total_count <- remote_binary_region_groups %>% summarise(total_count = length(salary_in_usd))\n",
    "\n",
    "options(repr.plot.width = 16, repr.plot.height = 6)\n",
    "options(\"scipen\"=10, \"digits\"=4)\n",
    "\n",
    "tally_four_groups <- remote_binary_region_groups %>%\n",
    "    group_by(company_location, fully_remote) %>%\n",
    "    summarise(count = length(company_location),\n",
    "              proportion = count / 588)\n",
    "tally_four_groups\n",
    "\n",
    "stack_four_groups_count <- tally_four_groups %>%\n",
    "    ggplot(aes(x = company_location, y = count, fill = fully_remote)) + \n",
    "    scale_fill_brewer(palette = \"BuGn\") +\n",
    "    geom_bar(position='stack', stat='identity') +\n",
    "    geom_col(position=\"stack\") +\n",
    "    xlab(\"country\") +\n",
    "    ylab(\"counts\") +\n",
    "    geom_text(aes(label = round(proportion,2)), position = position_stack(0.9), vjust = 4, size = 6, color=\"darkseagreen4\")\n",
    " \n",
    "stack_four_groups_count\n",
    "\n",
    "\n",
    "# ggplot(diamonds, aes(clarity)) + \n",
    "#     geom_bar(aes( fill=cut), position=\"fill\") +\n",
    "#     scale_y_continuous(name=\"proportion\") + \n",
    "    "
   ]
  },
  {
   "cell_type": "markdown",
   "id": "f50601e1-705f-4941-aab5-0c20245b31bd",
   "metadata": {},
   "source": [
    "We observe, that as one single country, the US not only occupies the majority of data (*15% + 44% =* ***59%***), the US fully remote group alone (biggest rectangle) has a larger proportion (***44%***) than both remote groups combined in all other counties (*22% + 19% =* ***41%***).  The US also has much more fully remote data collected than non-fully remote (*0.44/(0.44+0.15) =* ***74%*** fully remote) than other countries (*0.19/(0.19+0.22) =* ***46%*** fully remote).  This could be some newly emerging remote work trend unique to the US, but without further proof, it may just be due to the nature of survey-based data collection. \n",
    "\n",
    "Knowing that the US has a higher overall pay scale than other countries, this heavy portion of the 44% US-fully-remote group in our sample may have a greater impact on our previous inference analysis than we expected. Those extremely small p-values could be just weighted down by this unbalance of US data."
   ]
  },
  {
   "cell_type": "markdown",
   "id": "3f17226e-af9e-41b8-b4fa-39a4c991ed02",
   "metadata": {},
   "source": [
    "#### 3.1.2  Zoom into the unbalance and re-test\n",
    "Would the result still be the same if we just look into the US? \n",
    "\n",
    "We re-run the hypothesis testing at $\\alpha = 0.10$, but only on US data:\n",
    "- $H_0$: $\\mu_r$ - $\\mu_n$ = 0\n",
    "- $H_a$: $\\mu_r$ - $\\mu_n$ > 0"
   ]
  },
  {
   "cell_type": "code",
   "execution_count": null,
   "id": "8807bff8-38dd-4e52-85bc-fb95271cf282",
   "metadata": {},
   "outputs": [],
   "source": [
    "set.seed(6666)\n",
    "\n",
    "# Seperate US from the data:\n",
    "us_remote_binary <- remote_binary %>% \n",
    "    filter(company_location == \"US\")\n",
    "\n",
    "# Same bootstraping:\n",
    "# calculate observed test statistic \n",
    "us_obs_diff_in_means <- \n",
    "    us_remote_binary %>% \n",
    "    specify(formula = salary_in_usd ~ fully_remote) %>%\n",
    "    calculate(stat = \"diff in means\", order = c(\"TRUE\", \"FALSE\"))\n",
    "\n",
    "# build the null distribution\n",
    "us_null_dist <- us_remote_binary %>%\n",
    "    specify(formula = salary_in_usd ~ fully_remote) %>% \n",
    "    hypothesize(null = \"independence\") %>% \n",
    "    generate(reps = 10000, type = \"permute\") %>% \n",
    "    calculate(stat=\"diff in means\", order = c(\"TRUE\", \"FALSE\"))\n",
    "\n",
    "# visualization \n",
    "us_diff_in_means_plot <-\n",
    "    visualize(us_null_dist, bins = 10) + \n",
    "    shade_p_value(obs_stat = us_obs_diff_in_means, direction = \"right\") +\n",
    "    xlab(\"Difference in mean within US\") +\n",
    "    theme(text = element_text(size = 16))\n",
    "us_diff_in_means_plot\n",
    "\n",
    "# get p value\n",
    "us_p_value <- us_null_dist %>% \n",
    "    get_p_value(obs_stat = us_obs_diff_in_means, direction = \"right\") %>%\n",
    "    pull()\n",
    "cat(\"p-value for US region with bootstrapping:\", us_p_value, \"\\n\")\n",
    "\n",
    "\n",
    "# Same t-test:\n",
    "us_t_test_results <- tidy(t.test(x = us_remote_binary %>% filter(fully_remote == \"TRUE\") %>% pull(salary_in_usd), \n",
    "                              y = us_remote_binary %>% filter(fully_remote == \"FALSE\") %>% pull(salary_in_usd),\n",
    "                              alternative = \"greater\"))\n",
    "cat(\"p-value for US region with t-test:\", pull(us_t_test_results[5]), \"\\n\")\n"
   ]
  },
  {
   "cell_type": "markdown",
   "id": "f9006c85-ea16-47ce-b357-052d5f0a98d2",
   "metadata": {},
   "source": [
    "This time, both bootstrapping and asymptotic results consistently indicate we **fail to reject $H_0$ at $\\alpha = 0.10$** in the US."
   ]
  },
  {
   "cell_type": "markdown",
   "id": "5400cfef-9f08-4235-be33-b0dec00675f6",
   "metadata": {},
   "source": [
    "### 3.2 Expectations and actual findings"
   ]
  },
  {
   "cell_type": "markdown",
   "id": "0f436cf4-73cb-435e-afbd-ffa7dfd0bcb3",
   "metadata": {},
   "source": [
    "Based on what we found in the literature and what we observed in all the preliminary results, we expected to see the salaries would be higher for fully remote positions. We did find what we expected when we conducted the analysis on the given sample directly and credulously. \n",
    "\n",
    "However, once we investigated further and observed the unbalance in data, we discovered how our p-values could be affected by the original sample and therefore not as indicative. While $H_0$ might still be false globally for our population, with this specific sample, we don’t have strong enough evidence to say so. In other words, there is an absence of enough proof. However, the absence of proof is not proof of absence. \n",
    "\n",
    "At this point, the only conclusion we could have would be *we do not have enough evidence to reject the null hypothesis: there is no difference in salaries between fully remote and non-fully remote groups **within the US*** ($H_0$: $\\mu_r$ - $\\mu_n$ = 0), but still with some potential risk of Type II error."
   ]
  },
  {
   "cell_type": "markdown",
   "id": "e0d24798",
   "metadata": {},
   "source": [
    "### 3.3 Future questions and research\n",
    "\n",
    "#### 3.3.1 Strategies for unbalanced data\n"
   ]
  },
  {
   "cell_type": "markdown",
   "id": "175f9baf-8d66-45c9-8662-c36acd63751a",
   "metadata": {},
   "source": [
    "The primary question for the next step would be how to reduce the impact of the unbalance of US data; for instance, by balancing out the sample size of each group, optimizing the data collection, etc."
   ]
  },
  {
   "cell_type": "markdown",
   "id": "701d2059-5595-4661-a056-b0e3291cdac7",
   "metadata": {},
   "source": [
    "#### 3.3.2 Other indicators\n",
    "More interestingly, there are still many more potential indicators for salaries in this dataset that could affect the difference. It could be as intriguing to investigate their influences. For instance, we looked into experience levels, and there are many compelling patterns to explore just by visualizing using the boxplots as shown below."
   ]
  },
  {
   "cell_type": "code",
   "execution_count": null,
   "id": "42e4c800-3924-4916-9d9a-eec33f285c79",
   "metadata": {},
   "outputs": [],
   "source": [
    "options(repr.plot.width = 16, repr.plot.height = 5)\n",
    "options(\"scipen\"=10, \"digits\"=4)\n",
    "\n",
    "#Within US between remote groups among 4 exprience levels:\n",
    "boxplots_US <- us_remote_binary %>%  \n",
    "    ggplot(aes(x = fully_remote, y = salary_in_usd, fill = experience_level)) + \n",
    "    geom_boxplot() + \n",
    "    scale_fill_brewer(palette = \"Pastel2\") +\n",
    "    ylab(\"salary in USD\") +\n",
    "    ggtitle(\"Boxplots of salary values in USD for US between remote groups\") +\n",
    "    theme(text = element_text(size=18)) +\n",
    "    geom_hline(yintercept = mean_overall, color = \"darkslategray3\", size = 1, linetype = \"longdash\", alpha = 0.86) +\n",
    "        annotate(\"text\", x = 0, y = mean_overall,label = \"overall sample mean\", color = \"darkslategray3\", size=5, hjust = -0.05, vjust = -0.5, alpha = 0.86) +\n",
    "    geom_hline(yintercept = median_overall, color = \"darkslategray4\", size = 1, linetype = \"solid\", alpha = 0.66) +\n",
    "        annotate(\"text\", x = 0, y = median_overall,label = \"overall sample median\", color = \"darkslategray4\", size=5, hjust = -0.05, vjust = 1.1, alpha = 0.66) +\n",
    "    scale_y_continuous(limits = c(0, 600000), breaks = seq(0, 600000, 50000)) \n",
    "boxplots_US\n",
    "\n",
    "# Within other countries between remote groups among 4 exprience levels:\n",
    "others_remote_binary <-\n",
    "    remote_binary %>% \n",
    "    filter(company_location !=\"US\")\n",
    "\n",
    "boxplots_Others <- others_remote_binary %>%  \n",
    "    ggplot(aes(x = fully_remote, y = salary_in_usd, fill = experience_level)) + \n",
    "    geom_boxplot() + \n",
    "    scale_fill_brewer(palette = \"Pastel2\") +\n",
    "    ylab(\"salary in USD\") +\n",
    "    ggtitle(\"Boxplots of salary values in USD for other countries between remote groups\") +\n",
    "    theme(text = element_text(size=18)) +\n",
    "    geom_hline(yintercept = mean_overall, color = \"darkslategray3\", size = 1, linetype = \"longdash\", alpha = 0.86) +\n",
    "        annotate(\"text\", x = 0, y = mean_overall,label = \"overall sample mean\", color = \"darkslategray3\", size=5, hjust = -0.05, vjust = -0.5, alpha = 0.86) +\n",
    "    geom_hline(yintercept = median_overall, color = \"darkslategray4\", size = 1, linetype = \"solid\", alpha = 0.66) +\n",
    "        annotate(\"text\", x = 0, y = median_overall,label = \"overall sample median\", color = \"darkslategray4\", size=5, hjust = -0.05, vjust = 1.1, alpha = 0.66) +\n",
    "    scale_y_continuous(limits = c(0, 600000), breaks = seq(0, 600000, 50000)) \n",
    "    \n",
    "boxplots_Others\n"
   ]
  },
  {
   "cell_type": "markdown",
   "id": "ddb9cba3",
   "metadata": {
    "tags": []
   },
   "source": [
    "## 4. References"
   ]
  },
  {
   "cell_type": "markdown",
   "id": "fb8399b1",
   "metadata": {},
   "source": [
    "“Ai-Jobs.net Salaries.” Salaries.ai, https://salaries.ai-jobs.net/. \n",
    "\n",
    "Bhatia, Ruchi. “Data Science Job Salaries.” Kaggle, 15 June 2022, https://www.kaggle.com/datasets/ruchi798/data-science-job-salaries. \n",
    "\n",
    "Brynjolfsson, Erik, et al. “Covid-19 and Remote Work: An Early Look at US Data.” 2020, https://doi.org/10.3386/w27344.\n",
    "\n",
    "Galanti, Teresa et al. “Work From Home During the COVID-19 Outbreak: The Impact on Employees' Remote Work Productivity, Engagement, and Stress.” Journal of occupational and environmental medicine vol. 63,7 (2021): e426-e432. doi:10.1097/JOM.0000000000002236"
   ]
  }
 ],
 "metadata": {
  "kernelspec": {
   "display_name": "R",
   "language": "R",
   "name": "ir"
  },
  "language_info": {
   "codemirror_mode": "r",
   "file_extension": ".r",
   "mimetype": "text/x-r-source",
   "name": "R",
   "pygments_lexer": "r",
   "version": "4.0.5"
  }
 },
 "nbformat": 4,
 "nbformat_minor": 5
}
