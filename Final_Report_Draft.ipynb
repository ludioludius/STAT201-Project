{
 "cells": [
  {
   "cell_type": "markdown",
   "id": "25dddd20",
   "metadata": {},
   "source": [
    "# Deliverable 4: Final Report"
   ]
  },
  {
   "cell_type": "markdown",
   "id": "4fc2469b",
   "metadata": {},
   "source": [
    "# 1. Introduction\n"
   ]
  },
  {
   "cell_type": "markdown",
   "id": "af36c55d",
   "metadata": {},
   "source": [
    "Since the beginning of the covid-19 pandemic in 2020, remote work has been on the rise globally (Brynjolfsson, E. et al., 2020). This drastic change in the way companies operate poses numerous challenges and opportunities for both employers and employees. Given the potential increases in productivity (Galanti, Teresa et al., 2021) among remote workers and the obvious decrease in operating costs for companies, it would be insightful to see if these factors point to a difference in salaries among data science professionals. Since the nature of most data science jobs allows fully remote work, it would be informative to look at salary differences between fully-remote and conventional work.\n",
    "\n",
    "This raises an interesting question: **does salary differ between full-remote and conventional positions for full-time data science professionals?** We will provide an estimate of the mean salary for both groups(remote and conventional workers) and conduct a two-sample t-test in an attepmt to provide evidence for there being a difference between the two groups. Given the skewed nature of the salaries in our dataset, we will use the inter-quartile range to quantify the spread of the data. \n",
    "\n",
    "\n",
    "To answer our question, we discovered a dataset originally aggregated by [ai-jobs.net](https://salaries.ai-jobs.net/) through [Kaggle](https://www.kaggle.com/datasets/ruchi798/data-science-job-salaries). This dataset includes 607 observations with 11 factors: year, experience level, full/part-time, job titles, salary values in different currencies, employees location, remote ratio, company locations, and company sizes (more detials see 2.2).  We take the `salary_in_usd` as our response variables and take `remote_ratio` as our explanatory variable."
   ]
  },
  {
   "cell_type": "code",
   "execution_count": 3,
   "id": "05667508",
   "metadata": {},
   "outputs": [
    {
     "name": "stderr",
     "output_type": "stream",
     "text": [
      "── \u001b[1mAttaching packages\u001b[22m ─────────────────────────────────────── tidyverse 1.3.0 ──\n",
      "\n",
      "\u001b[32m✔\u001b[39m \u001b[34mggplot2\u001b[39m 3.3.6     \u001b[32m✔\u001b[39m \u001b[34mdplyr  \u001b[39m 1.0.9\n",
      "\u001b[32m✔\u001b[39m \u001b[34mtibble \u001b[39m 3.1.7     \u001b[32m✔\u001b[39m \u001b[34mstringr\u001b[39m 1.4.0\n",
      "\u001b[32m✔\u001b[39m \u001b[34mpurrr  \u001b[39m 0.3.4     \u001b[32m✔\u001b[39m \u001b[34mforcats\u001b[39m 0.5.1\n",
      "\n",
      "── \u001b[1mConflicts\u001b[22m ────────────────────────────────────────── tidyverse_conflicts() ──\n",
      "\u001b[31m✖\u001b[39m \u001b[34mdplyr\u001b[39m::\u001b[32mfilter()\u001b[39m masks \u001b[34mstats\u001b[39m::filter()\n",
      "\u001b[31m✖\u001b[39m \u001b[34mdplyr\u001b[39m::\u001b[32mident()\u001b[39m  masks \u001b[34mdbplyr\u001b[39m::ident()\n",
      "\u001b[31m✖\u001b[39m \u001b[34mdplyr\u001b[39m::\u001b[32mlag()\u001b[39m    masks \u001b[34mstats\u001b[39m::lag()\n",
      "\u001b[31m✖\u001b[39m \u001b[34mdplyr\u001b[39m::\u001b[32msql()\u001b[39m    masks \u001b[34mdbplyr\u001b[39m::sql()\n",
      "\n",
      "\n",
      "Attaching package: ‘lubridate’\n",
      "\n",
      "\n",
      "The following object is masked from ‘package:cowplot’:\n",
      "\n",
      "    stamp\n",
      "\n",
      "\n",
      "The following objects are masked from ‘package:base’:\n",
      "\n",
      "    date, intersect, setdiff, union\n",
      "\n",
      "\n",
      "\n",
      "Attaching package: ‘scales’\n",
      "\n",
      "\n",
      "The following object is masked from ‘package:purrr’:\n",
      "\n",
      "    discard\n",
      "\n",
      "\n",
      "The following object is masked from ‘package:readr’:\n",
      "\n",
      "    col_factor\n",
      "\n",
      "\n"
     ]
    }
   ],
   "source": [
    "library(readr)\n",
    "library(tidyr)\n",
    "library(infer)\n",
    "library(repr)\n",
    "library(dbplyr)\n",
    "library(tidyverse)\n",
    "library(cowplot)\n",
    "library(ggplot2)\n",
    "library(digest)\n",
    "library(lubridate)\n",
    "library(scales)"
   ]
  },
  {
   "cell_type": "markdown",
   "id": "1a2b3c41",
   "metadata": {},
   "source": [
    "# 2. Methods and Results\n",
    "*Here is where you’ll include your work from the “Preliminary Results” in your proposal, along with the additional results you planned to conduct, as indicated in the “Methods: Plan” section of your proposal.* \n",
    "\n",
    "*Be sure to **incorporate feedback from the teaching team and your peers (as relevant)**, or **make any improvements based on your own improved understanding of the project** (now that more time has passed since the proposal).*\n",
    "\n"
   ]
  },
  {
   "cell_type": "markdown",
   "id": "9708eff9",
   "metadata": {},
   "source": [
    "### 2.1 Preliminary results and improvements in plan"
   ]
  },
  {
   "cell_type": "markdown",
   "id": "90de27ae",
   "metadata": {},
   "source": [
    "- Hi Ayush :)"
   ]
  },
  {
   "cell_type": "markdown",
   "id": "798f30b1",
   "metadata": {},
   "source": [
    "*Specifically, in addition to what is requested in the “Preliminary Results” section of the proposal, we are looking for the following components:*\n",
    "\n",
    "***Describe in written English the methods you used** to perform your analysis from beginning to end that **narrates the code** the does the analysis.*"
   ]
  },
  {
   "cell_type": "markdown",
   "id": "44198e9e-aa5d-40ad-81b7-51f7c8537c81",
   "metadata": {},
   "source": [
    "- choose only mean and given up median for normality condition  \n",
    "- take them as two groups/populations to compare the difference\n",
    "- is the overall sample mean still meaningful and indicative? "
   ]
  },
  {
   "cell_type": "markdown",
   "id": "f5281d08",
   "metadata": {},
   "source": [
    "### 2.2 Methods and analysis"
   ]
  },
  {
   "cell_type": "code",
   "execution_count": 5,
   "id": "3ae3ac3f-9b76-4d60-9b90-af6815041e21",
   "metadata": {},
   "outputs": [
    {
     "name": "stderr",
     "output_type": "stream",
     "text": [
      "\u001b[1m\u001b[22mNew names:\n",
      "\u001b[36m•\u001b[39m `` -> `...1`\n",
      "\u001b[1mRows: \u001b[22m\u001b[34m607\u001b[39m \u001b[1mColumns: \u001b[22m\u001b[34m12\u001b[39m\n",
      "\u001b[36m──\u001b[39m \u001b[1mColumn specification\u001b[22m \u001b[36m────────────────────────────────────────────────────────\u001b[39m\n",
      "\u001b[1mDelimiter:\u001b[22m \",\"\n",
      "\u001b[31mchr\u001b[39m (7): experience_level, employment_type, job_title, salary_currency, empl...\n",
      "\u001b[32mdbl\u001b[39m (5): ...1, work_year, salary, salary_in_usd, remote_ratio\n",
      "\n",
      "\u001b[36mℹ\u001b[39m Use `spec()` to retrieve the full column specification for this data.\n",
      "\u001b[36mℹ\u001b[39m Specify the column types or set `show_col_types = FALSE` to quiet this message.\n"
     ]
    },
    {
     "name": "stdout",
     "output_type": "stream",
     "text": [
      "Rows: 607\n",
      "Columns: 12\n",
      "$ ...1               \u001b[3m\u001b[90m<dbl>\u001b[39m\u001b[23m 0, 1, 2, 3, 4, 5, 6, 7, 8, 9, 10, 11, 12, 13, 14, 1…\n",
      "$ work_year          \u001b[3m\u001b[90m<dbl>\u001b[39m\u001b[23m 2020, 2020, 2020, 2020, 2020, 2020, 2020, 2020, 202…\n",
      "$ experience_level   \u001b[3m\u001b[90m<chr>\u001b[39m\u001b[23m \"MI\", \"SE\", \"SE\", \"MI\", \"SE\", \"EN\", \"SE\", \"MI\", \"MI…\n",
      "$ employment_type    \u001b[3m\u001b[90m<chr>\u001b[39m\u001b[23m \"FT\", \"FT\", \"FT\", \"FT\", \"FT\", \"FT\", \"FT\", \"FT\", \"FT…\n",
      "$ job_title          \u001b[3m\u001b[90m<chr>\u001b[39m\u001b[23m \"Data Scientist\", \"Machine Learning Scientist\", \"Bi…\n",
      "$ salary             \u001b[3m\u001b[90m<dbl>\u001b[39m\u001b[23m 70000, 260000, 85000, 20000, 150000, 72000, 190000,…\n",
      "$ salary_currency    \u001b[3m\u001b[90m<chr>\u001b[39m\u001b[23m \"EUR\", \"USD\", \"GBP\", \"USD\", \"USD\", \"USD\", \"USD\", \"H…\n",
      "$ salary_in_usd      \u001b[3m\u001b[90m<dbl>\u001b[39m\u001b[23m 79833, 260000, 109024, 20000, 150000, 72000, 190000…\n",
      "$ employee_residence \u001b[3m\u001b[90m<chr>\u001b[39m\u001b[23m \"DE\", \"JP\", \"GB\", \"HN\", \"US\", \"US\", \"US\", \"HU\", \"US…\n",
      "$ remote_ratio       \u001b[3m\u001b[90m<dbl>\u001b[39m\u001b[23m 0, 0, 50, 0, 50, 100, 100, 50, 100, 50, 0, 0, 0, 10…\n",
      "$ company_location   \u001b[3m\u001b[90m<chr>\u001b[39m\u001b[23m \"DE\", \"JP\", \"GB\", \"HN\", \"US\", \"US\", \"US\", \"HU\", \"US…\n",
      "$ company_size       \u001b[3m\u001b[90m<chr>\u001b[39m\u001b[23m \"L\", \"S\", \"M\", \"S\", \"L\", \"L\", \"S\", \"L\", \"L\", \"S\", \"…\n"
     ]
    }
   ],
   "source": [
    "# Given the absence of an official API for R language from Kaggle, \n",
    "# we had to transfer the .csv file to Github for the import process.\n",
    "\n",
    "ds_salaries <- read_csv(\"https://raw.githubusercontent.com/CalicoCalliope/ds_salaries_r/main/ds_salaries.csv\")\n",
    "\n",
    "glimpse(ds_salaries)"
   ]
  },
  {
   "cell_type": "code",
   "execution_count": 6,
   "id": "53f44a37-f30d-4190-89ae-fd84a4560cbb",
   "metadata": {},
   "outputs": [
    {
     "data": {
      "text/html": [
       "<table class=\"dataframe\">\n",
       "<caption>A tibble: 6 × 5</caption>\n",
       "<thead>\n",
       "\t<tr><th scope=col>salary_in_usd</th><th scope=col>remote_ratio</th><th scope=col>company_location</th><th scope=col>company_size</th><th scope=col>experience_level</th></tr>\n",
       "\t<tr><th scope=col>&lt;dbl&gt;</th><th scope=col>&lt;dbl&gt;</th><th scope=col>&lt;chr&gt;</th><th scope=col>&lt;chr&gt;</th><th scope=col>&lt;chr&gt;</th></tr>\n",
       "</thead>\n",
       "<tbody>\n",
       "\t<tr><td> 79833</td><td>  0</td><td>DE</td><td>L</td><td>MI</td></tr>\n",
       "\t<tr><td>260000</td><td>  0</td><td>JP</td><td>S</td><td>SE</td></tr>\n",
       "\t<tr><td>109024</td><td> 50</td><td>GB</td><td>M</td><td>SE</td></tr>\n",
       "\t<tr><td> 20000</td><td>  0</td><td>HN</td><td>S</td><td>MI</td></tr>\n",
       "\t<tr><td>150000</td><td> 50</td><td>US</td><td>L</td><td>SE</td></tr>\n",
       "\t<tr><td> 72000</td><td>100</td><td>US</td><td>L</td><td>EN</td></tr>\n",
       "</tbody>\n",
       "</table>\n"
      ],
      "text/latex": [
       "A tibble: 6 × 5\n",
       "\\begin{tabular}{lllll}\n",
       " salary\\_in\\_usd & remote\\_ratio & company\\_location & company\\_size & experience\\_level\\\\\n",
       " <dbl> & <dbl> & <chr> & <chr> & <chr>\\\\\n",
       "\\hline\n",
       "\t  79833 &   0 & DE & L & MI\\\\\n",
       "\t 260000 &   0 & JP & S & SE\\\\\n",
       "\t 109024 &  50 & GB & M & SE\\\\\n",
       "\t  20000 &   0 & HN & S & MI\\\\\n",
       "\t 150000 &  50 & US & L & SE\\\\\n",
       "\t  72000 & 100 & US & L & EN\\\\\n",
       "\\end{tabular}\n"
      ],
      "text/markdown": [
       "\n",
       "A tibble: 6 × 5\n",
       "\n",
       "| salary_in_usd &lt;dbl&gt; | remote_ratio &lt;dbl&gt; | company_location &lt;chr&gt; | company_size &lt;chr&gt; | experience_level &lt;chr&gt; |\n",
       "|---|---|---|---|---|\n",
       "|  79833 |   0 | DE | L | MI |\n",
       "| 260000 |   0 | JP | S | SE |\n",
       "| 109024 |  50 | GB | M | SE |\n",
       "|  20000 |   0 | HN | S | MI |\n",
       "| 150000 |  50 | US | L | SE |\n",
       "|  72000 | 100 | US | L | EN |\n",
       "\n"
      ],
      "text/plain": [
       "  salary_in_usd remote_ratio company_location company_size experience_level\n",
       "1  79833          0          DE               L            MI              \n",
       "2 260000          0          JP               S            SE              \n",
       "3 109024         50          GB               M            SE              \n",
       "4  20000          0          HN               S            MI              \n",
       "5 150000         50          US               L            SE              \n",
       "6  72000        100          US               L            EN              "
      ]
     },
     "metadata": {},
     "output_type": "display_data"
    }
   ],
   "source": [
    "df <- ds_salaries %>%\n",
    "\n",
    "    # filter only fulltime position to create sample for the targeted population:\n",
    "    filter(employment_type==\"FT\") %>% \n",
    "\n",
    "    select(salary_in_usd,  # select converted salaries so all values are on the same scale\n",
    "           remote_ratio,  # select remote ratio as the explanatory variable\n",
    "           \n",
    "           # include following potential indicators for more in-depth interests and future questions:\n",
    "           company_location,  # shown in ISO 3166 country code\n",
    "           company_size,  # S: < 50 employees, M: 50~250 employees, L: > 250 employees\n",
    "           experience_level)  # EN: Entry-level, MI: Mid-level, SE: Senior-level, EX: Executive-level\n",
    "\n",
    "head(df)"
   ]
  },
  {
   "cell_type": "code",
   "execution_count": 7,
   "id": "0707e9ee-d342-4523-8a2a-f362b8f10db8",
   "metadata": {},
   "outputs": [
    {
     "name": "stderr",
     "output_type": "stream",
     "text": [
      "Warning message:\n",
      "“Removed 2 rows containing missing values (geom_bar).”\n"
     ]
    },
    {
     "data": {
      "image/png": "[encoded data removed]",
      "text/plain": [
       "plot without title"
      ]
     },
     "metadata": {
      "image/png": {
       "height": 240,
       "width": 960
      }
     },
     "output_type": "display_data"
    }
   ],
   "source": [
    "options(repr.plot.width = 16, repr.plot.height = 4)\n",
    "options(\"scipen\"=10, \"digits\"=4)\n",
    "\n",
    "all_salary_plot  <- df %>% \n",
    "    ggplot(aes(x = salary_in_usd)) + \n",
    "    geom_histogram(binwidth = 10000, colour = 'blue', fill = 'light blue') +\n",
    "    labs(title = \"Sample Distribution of Global Data Science Annual Salaries (2020 - 2022, all 607 observations)\",\n",
    "         x = 'annual salary in USD',\n",
    "         y = 'counts') + \n",
    "        theme(text = element_text(size = 16)) +\n",
    "\n",
    "    # refine the limits and breaks of the x and y scales:\n",
    "    scale_y_continuous(limits = c(0, 45), breaks = seq(0, 45, 5)) +\n",
    "    scale_x_continuous(limits = c(0, 600001), breaks = seq(0, 600001, 30000)) \n",
    "\n",
    "\n",
    "all_salary_plot "
   ]
  },
  {
   "cell_type": "code",
   "execution_count": 8,
   "id": "b00179f2-6124-400d-a50c-495110aad619",
   "metadata": {},
   "outputs": [
    {
     "data": {
      "text/html": [
       "<table class=\"dataframe\">\n",
       "<caption>A tibble: 1 × 3</caption>\n",
       "<thead>\n",
       "\t<tr><th scope=col>onsite</th><th scope=col>hybrid</th><th scope=col>fully_remote</th></tr>\n",
       "\t<tr><th scope=col>&lt;int&gt;</th><th scope=col>&lt;int&gt;</th><th scope=col>&lt;int&gt;</th></tr>\n",
       "</thead>\n",
       "<tbody>\n",
       "\t<tr><td>126</td><td>92</td><td>370</td></tr>\n",
       "</tbody>\n",
       "</table>\n"
      ],
      "text/latex": [
       "A tibble: 1 × 3\n",
       "\\begin{tabular}{lll}\n",
       " onsite & hybrid & fully\\_remote\\\\\n",
       " <int> & <int> & <int>\\\\\n",
       "\\hline\n",
       "\t 126 & 92 & 370\\\\\n",
       "\\end{tabular}\n"
      ],
      "text/markdown": [
       "\n",
       "A tibble: 1 × 3\n",
       "\n",
       "| onsite &lt;int&gt; | hybrid &lt;int&gt; | fully_remote &lt;int&gt; |\n",
       "|---|---|---|\n",
       "| 126 | 92 | 370 |\n",
       "\n"
      ],
      "text/plain": [
       "  onsite hybrid fully_remote\n",
       "1 126    92     370         "
      ]
     },
     "metadata": {},
     "output_type": "display_data"
    }
   ],
   "source": [
    "ratio_value_count <- df %>% \n",
    "    summarise(onsite = sum(remote_ratio == 0),\n",
    "              hybrid = sum(remote_ratio == 50),\n",
    "              fully_remote = sum(remote_ratio == 100))\n",
    "              \n",
    "ratio_value_count"
   ]
  },
  {
   "cell_type": "code",
   "execution_count": 9,
   "id": "6da8261d-1cc5-494c-9070-46e85c964214",
   "metadata": {},
   "outputs": [
    {
     "data": {
      "text/html": [
       "<table class=\"dataframe\">\n",
       "<caption>A tibble: 6 × 5</caption>\n",
       "<thead>\n",
       "\t<tr><th scope=col>salary_in_usd</th><th scope=col>company_location</th><th scope=col>company_size</th><th scope=col>experience_level</th><th scope=col>fully_remote</th></tr>\n",
       "\t<tr><th scope=col>&lt;dbl&gt;</th><th scope=col>&lt;chr&gt;</th><th scope=col>&lt;chr&gt;</th><th scope=col>&lt;chr&gt;</th><th scope=col>&lt;lgl&gt;</th></tr>\n",
       "</thead>\n",
       "<tbody>\n",
       "\t<tr><td> 79833</td><td>DE</td><td>L</td><td>MI</td><td>FALSE</td></tr>\n",
       "\t<tr><td>260000</td><td>JP</td><td>S</td><td>SE</td><td>FALSE</td></tr>\n",
       "\t<tr><td>109024</td><td>GB</td><td>M</td><td>SE</td><td>FALSE</td></tr>\n",
       "\t<tr><td> 20000</td><td>HN</td><td>S</td><td>MI</td><td>FALSE</td></tr>\n",
       "\t<tr><td>150000</td><td>US</td><td>L</td><td>SE</td><td>FALSE</td></tr>\n",
       "\t<tr><td> 72000</td><td>US</td><td>L</td><td>EN</td><td> TRUE</td></tr>\n",
       "</tbody>\n",
       "</table>\n"
      ],
      "text/latex": [
       "A tibble: 6 × 5\n",
       "\\begin{tabular}{lllll}\n",
       " salary\\_in\\_usd & company\\_location & company\\_size & experience\\_level & fully\\_remote\\\\\n",
       " <dbl> & <chr> & <chr> & <chr> & <lgl>\\\\\n",
       "\\hline\n",
       "\t  79833 & DE & L & MI & FALSE\\\\\n",
       "\t 260000 & JP & S & SE & FALSE\\\\\n",
       "\t 109024 & GB & M & SE & FALSE\\\\\n",
       "\t  20000 & HN & S & MI & FALSE\\\\\n",
       "\t 150000 & US & L & SE & FALSE\\\\\n",
       "\t  72000 & US & L & EN &  TRUE\\\\\n",
       "\\end{tabular}\n"
      ],
      "text/markdown": [
       "\n",
       "A tibble: 6 × 5\n",
       "\n",
       "| salary_in_usd &lt;dbl&gt; | company_location &lt;chr&gt; | company_size &lt;chr&gt; | experience_level &lt;chr&gt; | fully_remote &lt;lgl&gt; |\n",
       "|---|---|---|---|---|\n",
       "|  79833 | DE | L | MI | FALSE |\n",
       "| 260000 | JP | S | SE | FALSE |\n",
       "| 109024 | GB | M | SE | FALSE |\n",
       "|  20000 | HN | S | MI | FALSE |\n",
       "| 150000 | US | L | SE | FALSE |\n",
       "|  72000 | US | L | EN |  TRUE |\n",
       "\n"
      ],
      "text/plain": [
       "  salary_in_usd company_location company_size experience_level fully_remote\n",
       "1  79833        DE               L            MI               FALSE       \n",
       "2 260000        JP               S            SE               FALSE       \n",
       "3 109024        GB               M            SE               FALSE       \n",
       "4  20000        HN               S            MI               FALSE       \n",
       "5 150000        US               L            SE               FALSE       \n",
       "6  72000        US               L            EN                TRUE       "
      ]
     },
     "metadata": {},
     "output_type": "display_data"
    }
   ],
   "source": [
    "remote_binary <- df %>% \n",
    "    mutate(fully_remote = (remote_ratio == 100)) %>% \n",
    "    select(-remote_ratio) \n",
    "\n",
    "head(remote_binary)"
   ]
  },
  {
   "cell_type": "code",
   "execution_count": null,
   "id": "bcbb0aa4-1f12-4a0e-a2a0-7272985c6047",
   "metadata": {},
   "outputs": [],
   "source": [
    "groups_means <- remote_binary %>%\n",
    "    group_by(fully_remote)%>%\n",
    "    summarise(mean = mean(salary_in_usd))\n",
    "\n",
    "groups_means"
   ]
  },
  {
   "cell_type": "code",
   "execution_count": 10,
   "id": "fb0375b5-00fd-4618-b106-cdaaca05cb63",
   "metadata": {},
   "outputs": [
    {
     "data": {
      "text/html": [
       "<table class=\"dataframe\">\n",
       "<caption>A tibble: 6 × 5</caption>\n",
       "<thead>\n",
       "\t<tr><th scope=col>salary_in_usd</th><th scope=col>company_location</th><th scope=col>company_size</th><th scope=col>experience_level</th><th scope=col>fully_remote</th></tr>\n",
       "\t<tr><th scope=col>&lt;dbl&gt;</th><th scope=col>&lt;chr&gt;</th><th scope=col>&lt;chr&gt;</th><th scope=col>&lt;chr&gt;</th><th scope=col>&lt;lgl&gt;</th></tr>\n",
       "</thead>\n",
       "<tbody>\n",
       "\t<tr><td> 79833</td><td>DE</td><td>L</td><td>MI</td><td>FALSE</td></tr>\n",
       "\t<tr><td>260000</td><td>JP</td><td>S</td><td>SE</td><td>FALSE</td></tr>\n",
       "\t<tr><td>109024</td><td>GB</td><td>M</td><td>SE</td><td>FALSE</td></tr>\n",
       "\t<tr><td> 20000</td><td>HN</td><td>S</td><td>MI</td><td>FALSE</td></tr>\n",
       "\t<tr><td>150000</td><td>US</td><td>L</td><td>SE</td><td>FALSE</td></tr>\n",
       "\t<tr><td> 35735</td><td>HU</td><td>L</td><td>MI</td><td>FALSE</td></tr>\n",
       "</tbody>\n",
       "</table>\n"
      ],
      "text/latex": [
       "A tibble: 6 × 5\n",
       "\\begin{tabular}{lllll}\n",
       " salary\\_in\\_usd & company\\_location & company\\_size & experience\\_level & fully\\_remote\\\\\n",
       " <dbl> & <chr> & <chr> & <chr> & <lgl>\\\\\n",
       "\\hline\n",
       "\t  79833 & DE & L & MI & FALSE\\\\\n",
       "\t 260000 & JP & S & SE & FALSE\\\\\n",
       "\t 109024 & GB & M & SE & FALSE\\\\\n",
       "\t  20000 & HN & S & MI & FALSE\\\\\n",
       "\t 150000 & US & L & SE & FALSE\\\\\n",
       "\t  35735 & HU & L & MI & FALSE\\\\\n",
       "\\end{tabular}\n"
      ],
      "text/markdown": [
       "\n",
       "A tibble: 6 × 5\n",
       "\n",
       "| salary_in_usd &lt;dbl&gt; | company_location &lt;chr&gt; | company_size &lt;chr&gt; | experience_level &lt;chr&gt; | fully_remote &lt;lgl&gt; |\n",
       "|---|---|---|---|---|\n",
       "|  79833 | DE | L | MI | FALSE |\n",
       "| 260000 | JP | S | SE | FALSE |\n",
       "| 109024 | GB | M | SE | FALSE |\n",
       "|  20000 | HN | S | MI | FALSE |\n",
       "| 150000 | US | L | SE | FALSE |\n",
       "|  35735 | HU | L | MI | FALSE |\n",
       "\n"
      ],
      "text/plain": [
       "  salary_in_usd company_location company_size experience_level fully_remote\n",
       "1  79833        DE               L            MI               FALSE       \n",
       "2 260000        JP               S            SE               FALSE       \n",
       "3 109024        GB               M            SE               FALSE       \n",
       "4  20000        HN               S            MI               FALSE       \n",
       "5 150000        US               L            SE               FALSE       \n",
       "6  35735        HU               L            MI               FALSE       "
      ]
     },
     "metadata": {},
     "output_type": "display_data"
    },
    {
     "data": {
      "text/html": [
       "97502.380733945"
      ],
      "text/latex": [
       "97502.380733945"
      ],
      "text/markdown": [
       "97502.380733945"
      ],
      "text/plain": [
       "[1] 97502"
      ]
     },
     "metadata": {},
     "output_type": "display_data"
    },
    {
     "data": {
      "text/html": [
       "122874.886486486"
      ],
      "text/latex": [
       "122874.886486486"
      ],
      "text/markdown": [
       "122874.886486486"
      ],
      "text/plain": [
       "[1] 122875"
      ]
     },
     "metadata": {},
     "output_type": "display_data"
    },
    {
     "name": "stdout",
     "output_type": "stream",
     "text": [
      "The sample mean of the fully-remote group is 97502 , and the sample mean of the non-fully-remote group is 122875"
     ]
    }
   ],
   "source": [
    "fully_remote <- remote_binary %>% \n",
    "    filter(fully_remote == FALSE)\n",
    "head(fully_remote)\n",
    "\n",
    "non_fully_remote <- remote_binary %>% \n",
    "    filter(fully_remote == TRUE)\n",
    "\n",
    "fully_remote_mean <- fully_remote %>% \n",
    "    summarise(mean = mean(salary_in_usd)) %>% \n",
    "    pull()\n",
    "\n",
    "non_fully_remote_mean <- non_fully_remote %>% \n",
    "    summarise(mean = mean(salary_in_usd)) %>% \n",
    "    pull()\n",
    "\n",
    "fully_remote_mean\n",
    "non_fully_remote_mean\n",
    "\n",
    "cat(\"The sample mean of the fully-remote group is\", fully_remote_mean, \", and the sample mean of the non-fully-remote group is\", round(non_fully_remote_mean, 5))"
   ]
  },
  {
   "cell_type": "code",
   "execution_count": 11,
   "id": "5393e916-f4f9-432a-9d51-2e5f371d21f2",
   "metadata": {},
   "outputs": [
    {
     "data": {
      "text/html": [
       "<table class=\"dataframe\">\n",
       "<caption>A tibble: 6 × 2</caption>\n",
       "<thead>\n",
       "\t<tr><th scope=col>replicate</th><th scope=col>stat</th></tr>\n",
       "\t<tr><th scope=col>&lt;int&gt;</th><th scope=col>&lt;dbl&gt;</th></tr>\n",
       "</thead>\n",
       "<tbody>\n",
       "\t<tr><td>1</td><td> 98086</td></tr>\n",
       "\t<tr><td>2</td><td>104547</td></tr>\n",
       "\t<tr><td>3</td><td> 92798</td></tr>\n",
       "\t<tr><td>4</td><td> 88954</td></tr>\n",
       "\t<tr><td>5</td><td> 98445</td></tr>\n",
       "\t<tr><td>6</td><td> 96901</td></tr>\n",
       "</tbody>\n",
       "</table>\n"
      ],
      "text/latex": [
       "A tibble: 6 × 2\n",
       "\\begin{tabular}{ll}\n",
       " replicate & stat\\\\\n",
       " <int> & <dbl>\\\\\n",
       "\\hline\n",
       "\t 1 &  98086\\\\\n",
       "\t 2 & 104547\\\\\n",
       "\t 3 &  92798\\\\\n",
       "\t 4 &  88954\\\\\n",
       "\t 5 &  98445\\\\\n",
       "\t 6 &  96901\\\\\n",
       "\\end{tabular}\n"
      ],
      "text/markdown": [
       "\n",
       "A tibble: 6 × 2\n",
       "\n",
       "| replicate &lt;int&gt; | stat &lt;dbl&gt; |\n",
       "|---|---|\n",
       "| 1 |  98086 |\n",
       "| 2 | 104547 |\n",
       "| 3 |  92798 |\n",
       "| 4 |  88954 |\n",
       "| 5 |  98445 |\n",
       "| 6 |  96901 |\n",
       "\n"
      ],
      "text/plain": [
       "  replicate stat  \n",
       "1 1          98086\n",
       "2 2         104547\n",
       "3 3          92798\n",
       "4 4          88954\n",
       "5 5          98445\n",
       "6 6          96901"
      ]
     },
     "metadata": {},
     "output_type": "display_data"
    },
    {
     "data": {
      "text/html": [
       "<table class=\"dataframe\">\n",
       "<caption>A tibble: 1 × 2</caption>\n",
       "<thead>\n",
       "\t<tr><th scope=col>lower_ci</th><th scope=col>upper_ci</th></tr>\n",
       "\t<tr><th scope=col>&lt;dbl&gt;</th><th scope=col>&lt;dbl&gt;</th></tr>\n",
       "</thead>\n",
       "<tbody>\n",
       "\t<tr><td>89118</td><td>106119</td></tr>\n",
       "</tbody>\n",
       "</table>\n"
      ],
      "text/latex": [
       "A tibble: 1 × 2\n",
       "\\begin{tabular}{ll}\n",
       " lower\\_ci & upper\\_ci\\\\\n",
       " <dbl> & <dbl>\\\\\n",
       "\\hline\n",
       "\t 89118 & 106119\\\\\n",
       "\\end{tabular}\n"
      ],
      "text/markdown": [
       "\n",
       "A tibble: 1 × 2\n",
       "\n",
       "| lower_ci &lt;dbl&gt; | upper_ci &lt;dbl&gt; |\n",
       "|---|---|\n",
       "| 89118 | 106119 |\n",
       "\n"
      ],
      "text/plain": [
       "  lower_ci upper_ci\n",
       "1 89118    106119  "
      ]
     },
     "metadata": {},
     "output_type": "display_data"
    },
    {
     "data": {
      "text/html": [
       "<table class=\"dataframe\">\n",
       "<caption>A tibble: 6 × 2</caption>\n",
       "<thead>\n",
       "\t<tr><th scope=col>replicate</th><th scope=col>stat</th></tr>\n",
       "\t<tr><th scope=col>&lt;int&gt;</th><th scope=col>&lt;dbl&gt;</th></tr>\n",
       "</thead>\n",
       "<tbody>\n",
       "\t<tr><td>1</td><td>122381</td></tr>\n",
       "\t<tr><td>2</td><td>123249</td></tr>\n",
       "\t<tr><td>3</td><td>123576</td></tr>\n",
       "\t<tr><td>4</td><td>124941</td></tr>\n",
       "\t<tr><td>5</td><td>124913</td></tr>\n",
       "\t<tr><td>6</td><td>127075</td></tr>\n",
       "</tbody>\n",
       "</table>\n"
      ],
      "text/latex": [
       "A tibble: 6 × 2\n",
       "\\begin{tabular}{ll}\n",
       " replicate & stat\\\\\n",
       " <int> & <dbl>\\\\\n",
       "\\hline\n",
       "\t 1 & 122381\\\\\n",
       "\t 2 & 123249\\\\\n",
       "\t 3 & 123576\\\\\n",
       "\t 4 & 124941\\\\\n",
       "\t 5 & 124913\\\\\n",
       "\t 6 & 127075\\\\\n",
       "\\end{tabular}\n"
      ],
      "text/markdown": [
       "\n",
       "A tibble: 6 × 2\n",
       "\n",
       "| replicate &lt;int&gt; | stat &lt;dbl&gt; |\n",
       "|---|---|\n",
       "| 1 | 122381 |\n",
       "| 2 | 123249 |\n",
       "| 3 | 123576 |\n",
       "| 4 | 124941 |\n",
       "| 5 | 124913 |\n",
       "| 6 | 127075 |\n",
       "\n"
      ],
      "text/plain": [
       "  replicate stat  \n",
       "1 1         122381\n",
       "2 2         123249\n",
       "3 3         123576\n",
       "4 4         124941\n",
       "5 5         124913\n",
       "6 6         127075"
      ]
     },
     "metadata": {},
     "output_type": "display_data"
    },
    {
     "data": {
      "text/html": [
       "<table class=\"dataframe\">\n",
       "<caption>A tibble: 1 × 2</caption>\n",
       "<thead>\n",
       "\t<tr><th scope=col>lower_ci</th><th scope=col>upper_ci</th></tr>\n",
       "\t<tr><th scope=col>&lt;dbl&gt;</th><th scope=col>&lt;dbl&gt;</th></tr>\n",
       "</thead>\n",
       "<tbody>\n",
       "\t<tr><td>116259</td><td>130191</td></tr>\n",
       "</tbody>\n",
       "</table>\n"
      ],
      "text/latex": [
       "A tibble: 1 × 2\n",
       "\\begin{tabular}{ll}\n",
       " lower\\_ci & upper\\_ci\\\\\n",
       " <dbl> & <dbl>\\\\\n",
       "\\hline\n",
       "\t 116259 & 130191\\\\\n",
       "\\end{tabular}\n"
      ],
      "text/markdown": [
       "\n",
       "A tibble: 1 × 2\n",
       "\n",
       "| lower_ci &lt;dbl&gt; | upper_ci &lt;dbl&gt; |\n",
       "|---|---|\n",
       "| 116259 | 130191 |\n",
       "\n"
      ],
      "text/plain": [
       "  lower_ci upper_ci\n",
       "1 116259   130191  "
      ]
     },
     "metadata": {},
     "output_type": "display_data"
    }
   ],
   "source": [
    "fully_remote_resample  <-  fully_remote %>%\n",
    "    specify(response = salary_in_usd) %>%\n",
    "    generate(reps = 1000, type = \"bootstrap\") %>%                        \n",
    "    calculate(stat = \"mean\") \n",
    "\n",
    "head(fully_remote_resample)\n",
    "\n",
    "fully_remote_percentile_ci <- fully_remote_resample %>% \n",
    "  get_confidence_interval(level = 0.95, type = \"percentile\") \n",
    "\n",
    "fully_remote_percentile_ci\n",
    "\n",
    "# fully_remote_standard_error_ci <- fully_remote_resample %>% \n",
    "#   get_confidence_interval(level = 0.95, type = \"se\", point_estimate = stat)\n",
    "\n",
    "non_fully_remote_resample  <-  non_fully_remote %>%\n",
    "    specify(response = salary_in_usd) %>%\n",
    "    generate(reps = 1000, type = \"bootstrap\") %>%                        \n",
    "    calculate(stat = \"mean\")\n",
    "    \n",
    "head(non_fully_remote_resample)\n",
    "\n",
    "non_fully_remote_percentile_ci <- non_fully_remote_resample %>% \n",
    "  get_confidence_interval(level = 0.95, type = \"percentile\") \n",
    "\n",
    "non_fully_remote_percentile_ci"
   ]
  },
  {
   "cell_type": "code",
   "execution_count": null,
   "id": "0f331e7a-bee4-4be5-a8a2-cc64740e08c5",
   "metadata": {},
   "outputs": [],
   "source": []
  },
  {
   "cell_type": "markdown",
   "id": "ed0ad3b4",
   "metadata": {},
   "source": [
    "### 2.3 Visualizations"
   ]
  },
  {
   "cell_type": "code",
   "execution_count": null,
   "id": "309f21ca-d3ee-495c-9443-5876143e11ac",
   "metadata": {},
   "outputs": [],
   "source": []
  },
  {
   "cell_type": "markdown",
   "id": "3c53adac",
   "metadata": {},
   "source": [
    "- Hi Ziya :)"
   ]
  },
  {
   "cell_type": "markdown",
   "id": "827b46d7",
   "metadata": {},
   "source": [
    "*Make sure to **interpret the results you obtain**. It’s not enough to just state what a 90% confidence interval is, for example.*\n",
    "\n",
    "*Ensure your tables and/or figures are labeled with a figure/table number.\n",
    "**Do you think one of bootstrapping or asymptotics is more appropriate than the other? Why or why not?** Explain why you think both methods gave you similar/different results, and whether you think one is more trustworthy than the other.*"
   ]
  },
  {
   "cell_type": "markdown",
   "id": "31ca8925",
   "metadata": {},
   "source": [
    "### 2.4 Results and interpretations"
   ]
  },
  {
   "cell_type": "markdown",
   "id": "977d7970",
   "metadata": {},
   "source": [
    "- Z & Y"
   ]
  },
  {
   "cell_type": "markdown",
   "id": "01d5cd87",
   "metadata": {},
   "source": [
    "# 3. Discussion\n",
    "*In this section, you’ll **interpret the results** you obtained in the previous section*\n",
    "***with respect to the main question/goal of your project.***\n",
    "- *Summarize what you found, and the implications/impact of your findings.*\n",
    "- *If relevant, discuss whether your results were what you expected to find.*\n",
    "- *Discuss future questions/research this study could lead to.*"
   ]
  },
  {
   "cell_type": "markdown",
   "id": "94dc9133",
   "metadata": {},
   "source": [
    "### 3.1 Findings and implications"
   ]
  },
  {
   "cell_type": "markdown",
   "id": "9130d50a",
   "metadata": {},
   "source": [
    "### 3.2 Expectations "
   ]
  },
  {
   "cell_type": "markdown",
   "id": "e0d24798",
   "metadata": {},
   "source": [
    "### 3.3 Future questions and research"
   ]
  },
  {
   "cell_type": "markdown",
   "id": "ddb9cba3",
   "metadata": {},
   "source": [
    "# 4. References\n",
    "*The same instructions for your proposal also applies here. You only need to **make changes if necessary (e.g., if feedback indicates so).***"
   ]
  },
  {
   "cell_type": "markdown",
   "id": "fb8399b1",
   "metadata": {},
   "source": [
    "“Ai-Jobs.net Salaries.” Salaries.ai, https://salaries.ai-jobs.net/. \n",
    "\n",
    "Bhatia, Ruchi. “Data Science Job Salaries.” Kaggle, 15 June 2022, https://www.kaggle.com/datasets/ruchi798/data-science-job-salaries. \n",
    "\n",
    "Brynjolfsson, Erik, et al. “Covid-19 and Remote Work: An Early Look at US Data.” 2020, https://doi.org/10.3386/w27344.\n",
    "\n",
    "Galanti, Teresa et al. “Work From Home During the COVID-19 Outbreak: The Impact on Employees' Remote Work Productivity, Engagement, and Stress.” Journal of occupational and environmental medicine vol. 63,7 (2021): e426-e432. doi:10.1097/JOM.0000000000002236"
   ]
  },
  {
   "cell_type": "code",
   "execution_count": null,
   "id": "67ced0be",
   "metadata": {},
   "outputs": [],
   "source": []
  }
 ],
 "metadata": {
  "kernelspec": {
   "display_name": "R",
   "language": "R",
   "name": "ir"
  },
  "language_info": {
   "codemirror_mode": "r",
   "file_extension": ".r",
   "mimetype": "text/x-r-source",
   "name": "R",
   "pygments_lexer": "r",
   "version": "4.0.5"
  }
 },
 "nbformat": 4,
 "nbformat_minor": 5
}
