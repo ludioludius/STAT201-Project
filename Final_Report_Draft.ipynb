{
 "cells": [
  {
   "cell_type": "markdown",
   "id": "25dddd20",
   "metadata": {},
   "source": [
    "# Deliverable 4: Final Report"
   ]
  },
  {
   "cell_type": "markdown",
   "id": "4fc2469b",
   "metadata": {},
   "source": [
    "# 1. Introduction\n"
   ]
  },
  {
   "cell_type": "markdown",
   "id": "af36c55d",
   "metadata": {},
   "source": [
    "Since the beginning of the covid-19 pandemic in 2020, remote work has been on the rise globally (Brynjolfsson, E. et al., 2020). This drastic change in the way companies operate poses numerous challenges and opportunities for both employers and employees. Given the potential increases in productivity (Galanti, Teresa et al., 2021) among remote workers and the obvious decrease in operating costs for companies, it would be insightful to see if these factors point to a difference in salaries among data science professionals. Since the nature of most data science jobs allows fully remote work, it would be informative to look at salary differences between fully-remote and conventional work.\n",
    "\n",
    "This raises an interesting question: **does salary differ between full-remote and conventional positions for full-time data science professionals?** We will provide an estimate of the mean salary for both groups(remote and conventional workers) and conduct a two-sample t-test in an attepmt to provide evidence for there being a difference between the two groups. Given the skewed nature of the salaries in our dataset, we will use the inter-quartile range to quantify the spread of the data. \n",
    "\n",
    "\n",
    "To answer our question, we discovered a dataset originally aggregated by [ai-jobs.net](https://salaries.ai-jobs.net/) through [Kaggle](https://www.kaggle.com/datasets/ruchi798/data-science-job-salaries). This dataset includes 607 observations with 11 factors: year, experience level, full/part-time, job titles, salary values in different currencies, employees location, remote ratio, company locations, and company sizes (more detials see 2.2).  We take the `salary_in_usd` as our response variables and take `remote_ratio` as our explanatory variable."
   ]
  },
  {
   "cell_type": "code",
   "execution_count": 44,
   "id": "05667508",
   "metadata": {},
   "outputs": [
    {
     "ename": "ERROR",
     "evalue": "Error in library(confintr): there is no package called ‘confintr’\n",
     "output_type": "error",
     "traceback": [
      "Error in library(confintr): there is no package called ‘confintr’\nTraceback:\n",
      "1. library(confintr)"
     ]
    }
   ],
   "source": [
    "library(readr)\n",
    "library(tidyr)\n",
    "library(infer)\n",
    "library(repr)\n",
    "library(dbplyr)\n",
    "library(tidyverse)\n",
    "library(cowplot)\n",
    "library(ggplot2)\n",
    "library(digest)\n",
    "library(lubridate)\n",
    "library(scales)\n",
    "library(broom)\n",
    "library(confintr)"
   ]
  },
  {
   "cell_type": "markdown",
   "id": "1a2b3c41",
   "metadata": {},
   "source": [
    "# 2. Methods and Results\n",
    "*Here is where you’ll include your work from the “Preliminary Results” in your proposal, along with the additional results you planned to conduct, as indicated in the “Methods: Plan” section of your proposal.* \n",
    "\n",
    "*Be sure to **incorporate feedback from the teaching team and your peers (as relevant)**, or **make any improvements based on your own improved understanding of the project** (now that more time has passed since the proposal).*\n",
    "\n",
    "\n",
    "\n",
    "*Specifically, in addition to what is requested in the “Preliminary Results” section of the proposal, we are looking for the following components:*\n",
    "\n",
    "- *Describe in written English the methods you used to perform your analysis from beginning to end that narrates the code the does the analysis.*\n",
    "- *Make sure to interpret the results you obtain. It’s not enough to just state what a 90% confidence interval is, for example.*\n",
    "- *Ensure your tables and/or figures are labeled with a figure/table number.*\n",
    "- *Do you think one of **bootstrapping or asymptotics is more appropriate than the other**? Why or why not? Explain why you think both methods gave you similar/different results, and whether you think one is more trustworthy than the other.*"
   ]
  },
  {
   "cell_type": "markdown",
   "id": "9708eff9",
   "metadata": {},
   "source": [
    "### 2.1 Preliminary results and improvements in plan"
   ]
  },
  {
   "cell_type": "markdown",
   "id": "90de27ae",
   "metadata": {},
   "source": [
    "- Hi Ayush :)"
   ]
  },
  {
   "cell_type": "markdown",
   "id": "798f30b1",
   "metadata": {},
   "source": [
    "*Specifically, in addition to what is requested in the “Preliminary Results” section of the proposal, we are looking for the following components:*\n",
    "\n",
    "***Describe in written English the methods you used** to perform your analysis from beginning to end that **narrates the code** the does the analysis.*"
   ]
  },
  {
   "cell_type": "markdown",
   "id": "44198e9e-aa5d-40ad-81b7-51f7c8537c81",
   "metadata": {},
   "source": [
    "- choose only mean and given up median for normality condition  \n",
    "- take them as two groups/populations to compare the difference\n",
    "- is the overall sample mean still meaningful and indicative? "
   ]
  },
  {
   "cell_type": "markdown",
   "id": "f5281d08",
   "metadata": {},
   "source": [
    "### 2.2 Methods and analysis"
   ]
  },
  {
   "cell_type": "code",
   "execution_count": 26,
   "id": "3ae3ac3f-9b76-4d60-9b90-af6815041e21",
   "metadata": {},
   "outputs": [
    {
     "name": "stderr",
     "output_type": "stream",
     "text": [
      "\u001b[1m\u001b[22mNew names:\n",
      "\u001b[36m•\u001b[39m `` -> `...1`\n",
      "\u001b[1mRows: \u001b[22m\u001b[34m607\u001b[39m \u001b[1mColumns: \u001b[22m\u001b[34m12\u001b[39m\n",
      "\u001b[36m──\u001b[39m \u001b[1mColumn specification\u001b[22m \u001b[36m────────────────────────────────────────────────────────\u001b[39m\n",
      "\u001b[1mDelimiter:\u001b[22m \",\"\n",
      "\u001b[31mchr\u001b[39m (7): experience_level, employment_type, job_title, salary_currency, empl...\n",
      "\u001b[32mdbl\u001b[39m (5): ...1, work_year, salary, salary_in_usd, remote_ratio\n",
      "\n",
      "\u001b[36mℹ\u001b[39m Use `spec()` to retrieve the full column specification for this data.\n",
      "\u001b[36mℹ\u001b[39m Specify the column types or set `show_col_types = FALSE` to quiet this message.\n"
     ]
    },
    {
     "name": "stdout",
     "output_type": "stream",
     "text": [
      "Rows: 607\n",
      "Columns: 12\n",
      "$ ...1               \u001b[3m\u001b[90m<dbl>\u001b[39m\u001b[23m 0, 1, 2, 3, 4, 5, 6, 7, 8, 9, 10, 11, 12, 13, 14, 1…\n",
      "$ work_year          \u001b[3m\u001b[90m<dbl>\u001b[39m\u001b[23m 2020, 2020, 2020, 2020, 2020, 2020, 2020, 2020, 202…\n",
      "$ experience_level   \u001b[3m\u001b[90m<chr>\u001b[39m\u001b[23m \"MI\", \"SE\", \"SE\", \"MI\", \"SE\", \"EN\", \"SE\", \"MI\", \"MI…\n",
      "$ employment_type    \u001b[3m\u001b[90m<chr>\u001b[39m\u001b[23m \"FT\", \"FT\", \"FT\", \"FT\", \"FT\", \"FT\", \"FT\", \"FT\", \"FT…\n",
      "$ job_title          \u001b[3m\u001b[90m<chr>\u001b[39m\u001b[23m \"Data Scientist\", \"Machine Learning Scientist\", \"Bi…\n",
      "$ salary             \u001b[3m\u001b[90m<dbl>\u001b[39m\u001b[23m 70000, 260000, 85000, 20000, 150000, 72000, 190000,…\n",
      "$ salary_currency    \u001b[3m\u001b[90m<chr>\u001b[39m\u001b[23m \"EUR\", \"USD\", \"GBP\", \"USD\", \"USD\", \"USD\", \"USD\", \"H…\n",
      "$ salary_in_usd      \u001b[3m\u001b[90m<dbl>\u001b[39m\u001b[23m 79833, 260000, 109024, 20000, 150000, 72000, 190000…\n",
      "$ employee_residence \u001b[3m\u001b[90m<chr>\u001b[39m\u001b[23m \"DE\", \"JP\", \"GB\", \"HN\", \"US\", \"US\", \"US\", \"HU\", \"US…\n",
      "$ remote_ratio       \u001b[3m\u001b[90m<dbl>\u001b[39m\u001b[23m 0, 0, 50, 0, 50, 100, 100, 50, 100, 50, 0, 0, 0, 10…\n",
      "$ company_location   \u001b[3m\u001b[90m<chr>\u001b[39m\u001b[23m \"DE\", \"JP\", \"GB\", \"HN\", \"US\", \"US\", \"US\", \"HU\", \"US…\n",
      "$ company_size       \u001b[3m\u001b[90m<chr>\u001b[39m\u001b[23m \"L\", \"S\", \"M\", \"S\", \"L\", \"L\", \"S\", \"L\", \"L\", \"S\", \"…\n"
     ]
    }
   ],
   "source": [
    "# Given the absence of an official API for R language from Kaggle, \n",
    "# we had to transfer the .csv file to Github for the required direct import process.\n",
    "\n",
    "ds_salaries <- read_csv(\"https://raw.githubusercontent.com/CalicoCalliope/ds_salaries_r/main/ds_salaries.csv\")\n",
    "\n",
    "glimpse(ds_salaries)"
   ]
  },
  {
   "cell_type": "code",
   "execution_count": 45,
   "id": "53f44a37-f30d-4190-89ae-fd84a4560cbb",
   "metadata": {},
   "outputs": [
    {
     "data": {
      "text/html": [
       "<table class=\"dataframe\">\n",
       "<caption>A tibble: 6 × 4</caption>\n",
       "<thead>\n",
       "\t<tr><th scope=col>salary_in_usd</th><th scope=col>remote_ratio</th><th scope=col>company_location</th><th scope=col>experience_level</th></tr>\n",
       "\t<tr><th scope=col>&lt;dbl&gt;</th><th scope=col>&lt;dbl&gt;</th><th scope=col>&lt;chr&gt;</th><th scope=col>&lt;chr&gt;</th></tr>\n",
       "</thead>\n",
       "<tbody>\n",
       "\t<tr><td> 79833</td><td>  0</td><td>DE</td><td>MI</td></tr>\n",
       "\t<tr><td>260000</td><td>  0</td><td>JP</td><td>SE</td></tr>\n",
       "\t<tr><td>109024</td><td> 50</td><td>GB</td><td>SE</td></tr>\n",
       "\t<tr><td> 20000</td><td>  0</td><td>HN</td><td>MI</td></tr>\n",
       "\t<tr><td>150000</td><td> 50</td><td>US</td><td>SE</td></tr>\n",
       "\t<tr><td> 72000</td><td>100</td><td>US</td><td>EN</td></tr>\n",
       "</tbody>\n",
       "</table>\n"
      ],
      "text/latex": [
       "A tibble: 6 × 4\n",
       "\\begin{tabular}{llll}\n",
       " salary\\_in\\_usd & remote\\_ratio & company\\_location & experience\\_level\\\\\n",
       " <dbl> & <dbl> & <chr> & <chr>\\\\\n",
       "\\hline\n",
       "\t  79833 &   0 & DE & MI\\\\\n",
       "\t 260000 &   0 & JP & SE\\\\\n",
       "\t 109024 &  50 & GB & SE\\\\\n",
       "\t  20000 &   0 & HN & MI\\\\\n",
       "\t 150000 &  50 & US & SE\\\\\n",
       "\t  72000 & 100 & US & EN\\\\\n",
       "\\end{tabular}\n"
      ],
      "text/markdown": [
       "\n",
       "A tibble: 6 × 4\n",
       "\n",
       "| salary_in_usd &lt;dbl&gt; | remote_ratio &lt;dbl&gt; | company_location &lt;chr&gt; | experience_level &lt;chr&gt; |\n",
       "|---|---|---|---|\n",
       "|  79833 |   0 | DE | MI |\n",
       "| 260000 |   0 | JP | SE |\n",
       "| 109024 |  50 | GB | SE |\n",
       "|  20000 |   0 | HN | MI |\n",
       "| 150000 |  50 | US | SE |\n",
       "|  72000 | 100 | US | EN |\n",
       "\n"
      ],
      "text/plain": [
       "  salary_in_usd remote_ratio company_location experience_level\n",
       "1  79833          0          DE               MI              \n",
       "2 260000          0          JP               SE              \n",
       "3 109024         50          GB               SE              \n",
       "4  20000          0          HN               MI              \n",
       "5 150000         50          US               SE              \n",
       "6  72000        100          US               EN              "
      ]
     },
     "metadata": {},
     "output_type": "display_data"
    },
    {
     "name": "stdout",
     "output_type": "stream",
     "text": [
      "Rows: 588\n",
      "Columns: 4\n",
      "$ salary_in_usd    \u001b[3m\u001b[90m<dbl>\u001b[39m\u001b[23m 79833, 260000, 109024, 20000, 150000, 72000, 190000, …\n",
      "$ remote_ratio     \u001b[3m\u001b[90m<dbl>\u001b[39m\u001b[23m 0, 0, 50, 0, 50, 100, 100, 50, 100, 50, 0, 0, 0, 100,…\n",
      "$ company_location \u001b[3m\u001b[90m<chr>\u001b[39m\u001b[23m \"DE\", \"JP\", \"GB\", \"HN\", \"US\", \"US\", \"US\", \"HU\", \"US\",…\n",
      "$ experience_level \u001b[3m\u001b[90m<chr>\u001b[39m\u001b[23m \"MI\", \"SE\", \"SE\", \"MI\", \"SE\", \"EN\", \"SE\", \"MI\", \"MI\",…\n"
     ]
    }
   ],
   "source": [
    "df <- ds_salaries %>%\n",
    "\n",
    "    # filter only fulltime position to create sample for the targeted population:\n",
    "    filter(employment_type==\"FT\") %>% \n",
    "\n",
    "    select(salary_in_usd,  # select converted salaries so all values are on the same scale\n",
    "           remote_ratio,  # select remote ratio as the explanatory variable\n",
    "           \n",
    "           # include following potential indicators for more in-depth interests and future questions:\n",
    "           company_location,  # shown in ISO 3166 country code\n",
    "           # company_size,  # S: < 50 employees, M: 50~250 employees, L: > 250 employees\n",
    "           experience_level)  # EN: Entry-level, MI: Mid-level, SE: Senior-level, EX: Executive-level\n",
    "\n",
    "head(df)\n",
    "glimpse(df)"
   ]
  },
  {
   "cell_type": "code",
   "execution_count": 28,
   "id": "ec54c431-1212-447e-80fa-2e067a7ac07a",
   "metadata": {},
   "outputs": [
    {
     "data": {
      "text/html": [
       "113468.073129252"
      ],
      "text/latex": [
       "113468.073129252"
      ],
      "text/markdown": [
       "113468.073129252"
      ],
      "text/plain": [
       "[1] 113468"
      ]
     },
     "metadata": {},
     "output_type": "display_data"
    },
    {
     "data": {
      "text/html": [
       "104196.5"
      ],
      "text/latex": [
       "104196.5"
      ],
      "text/markdown": [
       "104196.5"
      ],
      "text/plain": [
       "[1] 104196"
      ]
     },
     "metadata": {},
     "output_type": "display_data"
    }
   ],
   "source": [
    "sample_stats <- df %>% \n",
    "    summarise(mean = mean(salary_in_usd),\n",
    "             median = median (salary_in_usd))\n",
    "\n",
    "mean_overall<- sample_stats[1] %>% pull()\n",
    "median_overall <- sample_stats[2] %>% pull()\n",
    "\n",
    "mean_overall\n",
    "median_overall"
   ]
  },
  {
   "cell_type": "code",
   "execution_count": 29,
   "id": "0707e9ee-d342-4523-8a2a-f362b8f10db8",
   "metadata": {},
   "outputs": [
    {
     "name": "stderr",
     "output_type": "stream",
     "text": [
      "Warning message:\n",
      "“Removed 2 rows containing missing values (geom_bar).”\n"
     ]
    },
    {
     "data": {
      "image/png": "[encoded data removed]",
      "text/plain": [
       "plot without title"
      ]
     },
     "metadata": {
      "image/png": {
       "height": 240,
       "width": 960
      }
     },
     "output_type": "display_data"
    }
   ],
   "source": [
    "options(repr.plot.width = 16, repr.plot.height = 4)\n",
    "options(\"scipen\"=10, \"digits\"=4)\n",
    "\n",
    "all_salary_plot  <- df %>% \n",
    "    ggplot(aes(x = salary_in_usd)) + \n",
    "    geom_histogram(binwidth = 10000, colour = 'blue', fill = 'light blue') +\n",
    "    labs(title = \"Sample Distribution of Global Data Science Annual Salaries (2020 - 2022, all 607 observations)\",\n",
    "         x = 'annual salary in USD',\n",
    "         y = 'counts') + \n",
    "        theme(text = element_text(size = 16)) +\n",
    "    \n",
    "    # add in sample mean and sample meadian as reference:\n",
    "    geom_vline(xintercept = mean_overall, colour = 'red', size = 1, linetype = \"solid\") +\n",
    "        annotate(\"text\", x = mean_overall, y = 45,label = \"sample mean ≈ 113468\", color = \"red\", size=5, hjust = -0.1) +\n",
    "    geom_vline(xintercept = median_overall, colour = 'dark green', alpha = 0.66, size = 1, linetype = \"longdash\") +\n",
    "        annotate(\"text\", x = median_overall, y = 45, label = \"sample median ≈ 104197\", color = \"dark green\", alpha = 0.66, size=5, hjust = 1.2)+ \n",
    "\n",
    "    # refine the limits and breaks of the x and y scales:\n",
    "    scale_y_continuous(limits = c(0, 45), breaks = seq(0, 45, 5)) +\n",
    "    scale_x_continuous(limits = c(0, 600001), breaks = seq(0, 600001, 30000)) \n",
    "\n",
    "\n",
    "all_salary_plot "
   ]
  },
  {
   "cell_type": "markdown",
   "id": "69940455-83ad-4bd3-9853-5b05a1d7b2ce",
   "metadata": {},
   "source": [
    "Given the purpose of the key question and the distribution of `remote_ratio` of this dataset:"
   ]
  },
  {
   "cell_type": "code",
   "execution_count": 30,
   "id": "b00179f2-6124-400d-a50c-495110aad619",
   "metadata": {},
   "outputs": [
    {
     "data": {
      "text/html": [
       "<table class=\"dataframe\">\n",
       "<caption>A tibble: 1 × 3</caption>\n",
       "<thead>\n",
       "\t<tr><th scope=col>onsite</th><th scope=col>hybrid</th><th scope=col>fully_remote</th></tr>\n",
       "\t<tr><th scope=col>&lt;int&gt;</th><th scope=col>&lt;int&gt;</th><th scope=col>&lt;int&gt;</th></tr>\n",
       "</thead>\n",
       "<tbody>\n",
       "\t<tr><td>126</td><td>92</td><td>370</td></tr>\n",
       "</tbody>\n",
       "</table>\n"
      ],
      "text/latex": [
       "A tibble: 1 × 3\n",
       "\\begin{tabular}{lll}\n",
       " onsite & hybrid & fully\\_remote\\\\\n",
       " <int> & <int> & <int>\\\\\n",
       "\\hline\n",
       "\t 126 & 92 & 370\\\\\n",
       "\\end{tabular}\n"
      ],
      "text/markdown": [
       "\n",
       "A tibble: 1 × 3\n",
       "\n",
       "| onsite &lt;int&gt; | hybrid &lt;int&gt; | fully_remote &lt;int&gt; |\n",
       "|---|---|---|\n",
       "| 126 | 92 | 370 |\n",
       "\n"
      ],
      "text/plain": [
       "  onsite hybrid fully_remote\n",
       "1 126    92     370         "
      ]
     },
     "metadata": {},
     "output_type": "display_data"
    }
   ],
   "source": [
    "# Although remote_ration is a double<dbl>, it has only three values: \n",
    "# 0%(onsite), 50%(hybrid), 100% (fully remote).  \n",
    "\n",
    "ratio_value_count <- df %>% \n",
    "    summarise(onsite = sum(remote_ratio == 0),\n",
    "              hybrid = sum(remote_ratio == 50),\n",
    "              fully_remote = sum(remote_ratio == 100))\n",
    "              \n",
    "ratio_value_count"
   ]
  },
  {
   "cell_type": "markdown",
   "id": "c2f5b2ba-9f78-4b3e-af3c-221fabe7bf78",
   "metadata": {},
   "source": [
    "From here onward, we divide the data into two groups:\n",
    "- `fully_remote`\n",
    "- `non_fully_remote` or \"conventional\""
   ]
  },
  {
   "cell_type": "code",
   "execution_count": 31,
   "id": "b8d5cf6f-e302-444f-bca6-4dd97d1b7f9d",
   "metadata": {},
   "outputs": [
    {
     "data": {
      "text/html": [
       "<table class=\"dataframe\">\n",
       "<caption>A tibble: 6 × 4</caption>\n",
       "<thead>\n",
       "\t<tr><th scope=col>salary_in_usd</th><th scope=col>company_location</th><th scope=col>experience_level</th><th scope=col>fully_remote</th></tr>\n",
       "\t<tr><th scope=col>&lt;dbl&gt;</th><th scope=col>&lt;chr&gt;</th><th scope=col>&lt;chr&gt;</th><th scope=col>&lt;lgl&gt;</th></tr>\n",
       "</thead>\n",
       "<tbody>\n",
       "\t<tr><td> 79833</td><td>DE</td><td>MI</td><td>FALSE</td></tr>\n",
       "\t<tr><td>260000</td><td>JP</td><td>SE</td><td>FALSE</td></tr>\n",
       "\t<tr><td>109024</td><td>GB</td><td>SE</td><td>FALSE</td></tr>\n",
       "\t<tr><td> 20000</td><td>HN</td><td>MI</td><td>FALSE</td></tr>\n",
       "\t<tr><td>150000</td><td>US</td><td>SE</td><td>FALSE</td></tr>\n",
       "\t<tr><td> 72000</td><td>US</td><td>EN</td><td> TRUE</td></tr>\n",
       "</tbody>\n",
       "</table>\n"
      ],
      "text/latex": [
       "A tibble: 6 × 4\n",
       "\\begin{tabular}{llll}\n",
       " salary\\_in\\_usd & company\\_location & experience\\_level & fully\\_remote\\\\\n",
       " <dbl> & <chr> & <chr> & <lgl>\\\\\n",
       "\\hline\n",
       "\t  79833 & DE & MI & FALSE\\\\\n",
       "\t 260000 & JP & SE & FALSE\\\\\n",
       "\t 109024 & GB & SE & FALSE\\\\\n",
       "\t  20000 & HN & MI & FALSE\\\\\n",
       "\t 150000 & US & SE & FALSE\\\\\n",
       "\t  72000 & US & EN &  TRUE\\\\\n",
       "\\end{tabular}\n"
      ],
      "text/markdown": [
       "\n",
       "A tibble: 6 × 4\n",
       "\n",
       "| salary_in_usd &lt;dbl&gt; | company_location &lt;chr&gt; | experience_level &lt;chr&gt; | fully_remote &lt;lgl&gt; |\n",
       "|---|---|---|---|\n",
       "|  79833 | DE | MI | FALSE |\n",
       "| 260000 | JP | SE | FALSE |\n",
       "| 109024 | GB | SE | FALSE |\n",
       "|  20000 | HN | MI | FALSE |\n",
       "| 150000 | US | SE | FALSE |\n",
       "|  72000 | US | EN |  TRUE |\n",
       "\n"
      ],
      "text/plain": [
       "  salary_in_usd company_location experience_level fully_remote\n",
       "1  79833        DE               MI               FALSE       \n",
       "2 260000        JP               SE               FALSE       \n",
       "3 109024        GB               SE               FALSE       \n",
       "4  20000        HN               MI               FALSE       \n",
       "5 150000        US               SE               FALSE       \n",
       "6  72000        US               EN                TRUE       "
      ]
     },
     "metadata": {},
     "output_type": "display_data"
    }
   ],
   "source": [
    "remote_binary <- df %>% \n",
    "    mutate(fully_remote = (remote_ratio == 100)) %>% \n",
    "    select(-remote_ratio) \n",
    "head(remote_binary)"
   ]
  },
  {
   "cell_type": "code",
   "execution_count": 32,
   "id": "fb0375b5-00fd-4618-b106-cdaaca05cb63",
   "metadata": {},
   "outputs": [
    {
     "name": "stdout",
     "output_type": "stream",
     "text": [
      " The sample mean of the fully-remote group is 122875 USD, \n",
      " and the sample mean of the non-fully-remote group is 97502 USD."
     ]
    }
   ],
   "source": [
    "# 1. fully_remote: remote_ratio == 100, all 100%(fully-remote) \n",
    "fully_remote <- remote_binary %>% \n",
    "    filter(fully_remote == TRUE)\n",
    "# head(fully_remote)\n",
    "\n",
    "fully_remote_mean <- fully_remote %>% \n",
    "    summarise(mean = mean(salary_in_usd)) %>% \n",
    "    pull()\n",
    "\n",
    "\n",
    "# 2. non_fully_remote:  remote_ratio != 100, combine both 0%(onsite) and 50%(hybrid),\n",
    "non_fully_remote <- remote_binary %>% \n",
    "    filter(fully_remote == FALSE)\n",
    "# head(non_fully_remote)\n",
    "\n",
    "non_fully_remote_mean <- non_fully_remote %>% \n",
    "    summarise(mean = mean(salary_in_usd)) %>% \n",
    "    pull()\n",
    "\n",
    "\n",
    "cat(\" The sample mean of the fully-remote group is\", fully_remote_mean, \"USD,\",\"\\n\",\"and the sample mean of the non-fully-remote group is\", round(non_fully_remote_mean, 5), \"USD.\")\n"
   ]
  },
  {
   "cell_type": "code",
   "execution_count": 33,
   "id": "5393e916-f4f9-432a-9d51-2e5f371d21f2",
   "metadata": {},
   "outputs": [
    {
     "data": {
      "text/html": [
       "<table class=\"dataframe\">\n",
       "<caption>A tibble: 1 × 2</caption>\n",
       "<thead>\n",
       "\t<tr><th scope=col>lower_ci</th><th scope=col>upper_ci</th></tr>\n",
       "\t<tr><th scope=col>&lt;dbl&gt;</th><th scope=col>&lt;dbl&gt;</th></tr>\n",
       "</thead>\n",
       "<tbody>\n",
       "\t<tr><td>116524</td><td>130470</td></tr>\n",
       "</tbody>\n",
       "</table>\n"
      ],
      "text/latex": [
       "A tibble: 1 × 2\n",
       "\\begin{tabular}{ll}\n",
       " lower\\_ci & upper\\_ci\\\\\n",
       " <dbl> & <dbl>\\\\\n",
       "\\hline\n",
       "\t 116524 & 130470\\\\\n",
       "\\end{tabular}\n"
      ],
      "text/markdown": [
       "\n",
       "A tibble: 1 × 2\n",
       "\n",
       "| lower_ci &lt;dbl&gt; | upper_ci &lt;dbl&gt; |\n",
       "|---|---|\n",
       "| 116524 | 130470 |\n",
       "\n"
      ],
      "text/plain": [
       "  lower_ci upper_ci\n",
       "1 116524   130470  "
      ]
     },
     "metadata": {},
     "output_type": "display_data"
    },
    {
     "data": {
      "text/html": [
       "<table class=\"dataframe\">\n",
       "<caption>A tibble: 1 × 2</caption>\n",
       "<thead>\n",
       "\t<tr><th scope=col>lower_ci</th><th scope=col>upper_ci</th></tr>\n",
       "\t<tr><th scope=col>&lt;dbl&gt;</th><th scope=col>&lt;dbl&gt;</th></tr>\n",
       "</thead>\n",
       "<tbody>\n",
       "\t<tr><td>89081</td><td>105599</td></tr>\n",
       "</tbody>\n",
       "</table>\n"
      ],
      "text/latex": [
       "A tibble: 1 × 2\n",
       "\\begin{tabular}{ll}\n",
       " lower\\_ci & upper\\_ci\\\\\n",
       " <dbl> & <dbl>\\\\\n",
       "\\hline\n",
       "\t 89081 & 105599\\\\\n",
       "\\end{tabular}\n"
      ],
      "text/markdown": [
       "\n",
       "A tibble: 1 × 2\n",
       "\n",
       "| lower_ci &lt;dbl&gt; | upper_ci &lt;dbl&gt; |\n",
       "|---|---|\n",
       "| 89081 | 105599 |\n",
       "\n"
      ],
      "text/plain": [
       "  lower_ci upper_ci\n",
       "1 89081    105599  "
      ]
     },
     "metadata": {},
     "output_type": "display_data"
    },
    {
     "data": {
      "image/png": "[encoded data removed]",
      "text/plain": [
       "plot without title"
      ]
     },
     "metadata": {
      "image/png": {
       "height": 240,
       "width": 960
      }
     },
     "output_type": "display_data"
    },
    {
     "data": {
      "image/png": "[encoded data removed]",
      "text/plain": [
       "plot without title"
      ]
     },
     "metadata": {
      "image/png": {
       "height": 240,
       "width": 960
      }
     },
     "output_type": "display_data"
    }
   ],
   "source": [
    "# Construct 95% confidence intervals using percentile method with bootstraping\n",
    "\n",
    "# Fully-remote:\n",
    "\n",
    "fully_remote_resample  <-  fully_remote %>%\n",
    "    specify(response = salary_in_usd) %>%\n",
    "    generate(reps = 1000, type = \"bootstrap\") %>%                        \n",
    "    calculate(stat = \"mean\") \n",
    "# head(fully_remote_resample)\n",
    "\n",
    "fully_remote_percentile_ci <- fully_remote_resample %>% \n",
    "  get_confidence_interval(level = 0.95, type = \"percentile\") \n",
    "fully_remote_percentile_ci\n",
    "\n",
    "fully_remote_ci_plot <- \n",
    "    visualize(fully_remote_resample) + \n",
    "    shade_ci(endpoints = fully_remote_percentile_ci, color = \"hotpink\", fill = \"pink\", alpha = 0.66)\n",
    "fully_remote_ci_plot\n",
    "\n",
    "\n",
    "# Non-fully-remote:\n",
    "\n",
    "non_fully_remote_resample  <- non_fully_remote %>%\n",
    "    specify(response = salary_in_usd) %>%\n",
    "    generate(reps = 1000, type = \"bootstrap\") %>%                        \n",
    "    calculate(stat = \"mean\")    \n",
    "# head(non_fully_remote_resample)\n",
    "\n",
    "non_fully_remote_percentile_ci <- non_fully_remote_resample %>% \n",
    "  get_confidence_interval(level = 0.95, type = \"percentile\") \n",
    "non_fully_remote_percentile_ci\n",
    "\n",
    "non_fully_remote_ci_plot <- \n",
    "    visualize(non_fully_remote_resample) + \n",
    "    shade_ci(endpoints = non_fully_remote_percentile_ci, color = \"dark green\", fill = \"light green\", alpha = 0.48)\n",
    "non_fully_remote_ci_plot"
   ]
  },
  {
   "cell_type": "markdown",
   "id": "d28b9880-1770-4230-85b3-c09809b0497c",
   "metadata": {},
   "source": [
    "To improve:\n",
    "- covert to same scale with infer package\n",
    "- title and labels with infer package\n",
    "\n",
    "\n",
    "\n",
    "To write: \n",
    "- 95% confident that ...\n",
    "- However, \"Limitations of Confidence Interval:\" see notes."
   ]
  },
  {
   "cell_type": "markdown",
   "id": "0600431c-67bd-496c-8fb6-da99b35b410b",
   "metadata": {},
   "source": [
    "## Hypothesis Testing"
   ]
  },
  {
   "cell_type": "markdown",
   "id": "21aaabb3-b5b9-4f00-8722-11387fc59d17",
   "metadata": {},
   "source": [
    "### Boxplots"
   ]
  },
  {
   "cell_type": "code",
   "execution_count": 34,
   "id": "b03505aa-e930-408a-a9b3-4ddab448c995",
   "metadata": {},
   "outputs": [
    {
     "data": {
      "text/html": [
       "<table class=\"dataframe\">\n",
       "<caption>A tibble: 6 × 4</caption>\n",
       "<thead>\n",
       "\t<tr><th scope=col>salary_in_usd</th><th scope=col>company_location</th><th scope=col>experience_level</th><th scope=col>fully_remote</th></tr>\n",
       "\t<tr><th scope=col>&lt;dbl&gt;</th><th scope=col>&lt;chr&gt;</th><th scope=col>&lt;chr&gt;</th><th scope=col>&lt;lgl&gt;</th></tr>\n",
       "</thead>\n",
       "<tbody>\n",
       "\t<tr><td> 79833</td><td>DE</td><td>MI</td><td>FALSE</td></tr>\n",
       "\t<tr><td>260000</td><td>JP</td><td>SE</td><td>FALSE</td></tr>\n",
       "\t<tr><td>109024</td><td>GB</td><td>SE</td><td>FALSE</td></tr>\n",
       "\t<tr><td> 20000</td><td>HN</td><td>MI</td><td>FALSE</td></tr>\n",
       "\t<tr><td>150000</td><td>US</td><td>SE</td><td>FALSE</td></tr>\n",
       "\t<tr><td> 72000</td><td>US</td><td>EN</td><td> TRUE</td></tr>\n",
       "</tbody>\n",
       "</table>\n"
      ],
      "text/latex": [
       "A tibble: 6 × 4\n",
       "\\begin{tabular}{llll}\n",
       " salary\\_in\\_usd & company\\_location & experience\\_level & fully\\_remote\\\\\n",
       " <dbl> & <chr> & <chr> & <lgl>\\\\\n",
       "\\hline\n",
       "\t  79833 & DE & MI & FALSE\\\\\n",
       "\t 260000 & JP & SE & FALSE\\\\\n",
       "\t 109024 & GB & SE & FALSE\\\\\n",
       "\t  20000 & HN & MI & FALSE\\\\\n",
       "\t 150000 & US & SE & FALSE\\\\\n",
       "\t  72000 & US & EN &  TRUE\\\\\n",
       "\\end{tabular}\n"
      ],
      "text/markdown": [
       "\n",
       "A tibble: 6 × 4\n",
       "\n",
       "| salary_in_usd &lt;dbl&gt; | company_location &lt;chr&gt; | experience_level &lt;chr&gt; | fully_remote &lt;lgl&gt; |\n",
       "|---|---|---|---|\n",
       "|  79833 | DE | MI | FALSE |\n",
       "| 260000 | JP | SE | FALSE |\n",
       "| 109024 | GB | SE | FALSE |\n",
       "|  20000 | HN | MI | FALSE |\n",
       "| 150000 | US | SE | FALSE |\n",
       "|  72000 | US | EN |  TRUE |\n",
       "\n"
      ],
      "text/plain": [
       "  salary_in_usd company_location experience_level fully_remote\n",
       "1  79833        DE               MI               FALSE       \n",
       "2 260000        JP               SE               FALSE       \n",
       "3 109024        GB               SE               FALSE       \n",
       "4  20000        HN               MI               FALSE       \n",
       "5 150000        US               SE               FALSE       \n",
       "6  72000        US               EN                TRUE       "
      ]
     },
     "metadata": {},
     "output_type": "display_data"
    }
   ],
   "source": [
    "head(remote_binary)"
   ]
  },
  {
   "cell_type": "code",
   "execution_count": 35,
   "id": "0f331e7a-bee4-4be5-a8a2-cc64740e08c5",
   "metadata": {},
   "outputs": [
    {
     "data": {
      "text/html": [
       "<table class=\"dataframe\">\n",
       "<caption>A tibble: 1 × 1</caption>\n",
       "<thead>\n",
       "\t<tr><th scope=col>stat</th></tr>\n",
       "\t<tr><th scope=col>&lt;dbl&gt;</th></tr>\n",
       "</thead>\n",
       "<tbody>\n",
       "\t<tr><td>25373</td></tr>\n",
       "</tbody>\n",
       "</table>\n"
      ],
      "text/latex": [
       "A tibble: 1 × 1\n",
       "\\begin{tabular}{l}\n",
       " stat\\\\\n",
       " <dbl>\\\\\n",
       "\\hline\n",
       "\t 25373\\\\\n",
       "\\end{tabular}\n"
      ],
      "text/markdown": [
       "\n",
       "A tibble: 1 × 1\n",
       "\n",
       "| stat &lt;dbl&gt; |\n",
       "|---|\n",
       "| 25373 |\n",
       "\n"
      ],
      "text/plain": [
       "  stat \n",
       "1 25373"
      ]
     },
     "metadata": {},
     "output_type": "display_data"
    },
    {
     "data": {
      "text/html": [
       "<table class=\"dataframe\">\n",
       "<caption>A tibble: 6 × 2</caption>\n",
       "<thead>\n",
       "\t<tr><th scope=col>replicate</th><th scope=col>stat</th></tr>\n",
       "\t<tr><th scope=col>&lt;int&gt;</th><th scope=col>&lt;dbl&gt;</th></tr>\n",
       "</thead>\n",
       "<tbody>\n",
       "\t<tr><td>1</td><td>-4890</td></tr>\n",
       "\t<tr><td>2</td><td> 3937</td></tr>\n",
       "\t<tr><td>3</td><td> 6408</td></tr>\n",
       "\t<tr><td>4</td><td> 8742</td></tr>\n",
       "\t<tr><td>5</td><td>-7252</td></tr>\n",
       "\t<tr><td>6</td><td> 7550</td></tr>\n",
       "</tbody>\n",
       "</table>\n"
      ],
      "text/latex": [
       "A tibble: 6 × 2\n",
       "\\begin{tabular}{ll}\n",
       " replicate & stat\\\\\n",
       " <int> & <dbl>\\\\\n",
       "\\hline\n",
       "\t 1 & -4890\\\\\n",
       "\t 2 &  3937\\\\\n",
       "\t 3 &  6408\\\\\n",
       "\t 4 &  8742\\\\\n",
       "\t 5 & -7252\\\\\n",
       "\t 6 &  7550\\\\\n",
       "\\end{tabular}\n"
      ],
      "text/markdown": [
       "\n",
       "A tibble: 6 × 2\n",
       "\n",
       "| replicate &lt;int&gt; | stat &lt;dbl&gt; |\n",
       "|---|---|\n",
       "| 1 | -4890 |\n",
       "| 2 |  3937 |\n",
       "| 3 |  6408 |\n",
       "| 4 |  8742 |\n",
       "| 5 | -7252 |\n",
       "| 6 |  7550 |\n",
       "\n"
      ],
      "text/plain": [
       "  replicate stat \n",
       "1 1         -4890\n",
       "2 2          3937\n",
       "3 3          6408\n",
       "4 4          8742\n",
       "5 5         -7252\n",
       "6 6          7550"
      ]
     },
     "metadata": {},
     "output_type": "display_data"
    },
    {
     "name": "stderr",
     "output_type": "stream",
     "text": [
      "Warning message:\n",
      "“Please be cautious in reporting a p-value of 0. This result is an approximation based on the number of `reps` chosen in the `generate()` step. See `?get_p_value()` for more information.”\n"
     ]
    },
    {
     "data": {
      "text/html": [
       "<table class=\"dataframe\">\n",
       "<caption>A tibble: 1 × 1</caption>\n",
       "<thead>\n",
       "\t<tr><th scope=col>p_value</th></tr>\n",
       "\t<tr><th scope=col>&lt;dbl&gt;</th></tr>\n",
       "</thead>\n",
       "<tbody>\n",
       "\t<tr><td>0</td></tr>\n",
       "</tbody>\n",
       "</table>\n"
      ],
      "text/latex": [
       "A tibble: 1 × 1\n",
       "\\begin{tabular}{l}\n",
       " p\\_value\\\\\n",
       " <dbl>\\\\\n",
       "\\hline\n",
       "\t 0\\\\\n",
       "\\end{tabular}\n"
      ],
      "text/markdown": [
       "\n",
       "A tibble: 1 × 1\n",
       "\n",
       "| p_value &lt;dbl&gt; |\n",
       "|---|\n",
       "| 0 |\n",
       "\n"
      ],
      "text/plain": [
       "  p_value\n",
       "1 0      "
      ]
     },
     "metadata": {},
     "output_type": "display_data"
    }
   ],
   "source": [
    "#calculate observed test statistic \n",
    "obs_diff_in_means <- \n",
    "    remote_binary %>% \n",
    "    specify(formula = salary_in_usd ~ fully_remote) %>%\n",
    "    calculate(stat = \"diff in means\", order = c(\"TRUE\", \"FALSE\"))\n",
    "obs_diff_in_means\n",
    "\n",
    "# build the null distribution\n",
    "null_dist <-remote_binary  %>%\n",
    "    specify(formula = salary_in_usd ~ fully_remote) %>% \n",
    "    hypothesize(null = \"independence\") %>% \n",
    "    generate(reps = 10000, type = \"permute\") %>% \n",
    "    calculate(stat=\"diff in means\", order = c(\"TRUE\", \"FALSE\"))\n",
    "head(null_dist)\n",
    "\n",
    "# # visualization \n",
    "# options(repr.plot.width = 16, repr.plot.height = 6)\n",
    "# options(\"scipen\"=10, \"digits\"=4)\n",
    "\n",
    "# diff_in_medians_plot <-\n",
    "#     visualize(null_dist, bins = 10) + \n",
    "#     shade_p_value(obs_stat = obs_diff_in_means, direction = \"right\") +\n",
    "#     xlab(\"Difference in mean\") +\n",
    "#     theme(text = element_text(size = 20))\n",
    "# diff_in_medians_plot\n",
    "\n",
    "# get p value\n",
    "p_value <- null_dist %>% \n",
    "    get_p_value(obs_stat = obs_diff_in_means, direction = \"right\")\n",
    "p_value\n"
   ]
  },
  {
   "cell_type": "code",
   "execution_count": 36,
   "id": "35ce7a8e-b4de-4293-adba-be66e2859572",
   "metadata": {},
   "outputs": [
    {
     "data": {
      "text/html": [
       "<table class=\"dataframe\">\n",
       "<caption>A tibble: 1 × 10</caption>\n",
       "<thead>\n",
       "\t<tr><th scope=col>estimate</th><th scope=col>estimate1</th><th scope=col>estimate2</th><th scope=col>statistic</th><th scope=col>p.value</th><th scope=col>parameter</th><th scope=col>conf.low</th><th scope=col>conf.high</th><th scope=col>method</th><th scope=col>alternative</th></tr>\n",
       "\t<tr><th scope=col>&lt;dbl&gt;</th><th scope=col>&lt;dbl&gt;</th><th scope=col>&lt;dbl&gt;</th><th scope=col>&lt;dbl&gt;</th><th scope=col>&lt;dbl&gt;</th><th scope=col>&lt;dbl&gt;</th><th scope=col>&lt;dbl&gt;</th><th scope=col>&lt;dbl&gt;</th><th scope=col>&lt;chr&gt;</th><th scope=col>&lt;chr&gt;</th></tr>\n",
       "</thead>\n",
       "<tbody>\n",
       "\t<tr><td>25373</td><td>122875</td><td>97502</td><td>4.452</td><td>0.000005279</td><td>490.7</td><td>15980</td><td>Inf</td><td>Welch Two Sample t-test</td><td>greater</td></tr>\n",
       "</tbody>\n",
       "</table>\n"
      ],
      "text/latex": [
       "A tibble: 1 × 10\n",
       "\\begin{tabular}{llllllllll}\n",
       " estimate & estimate1 & estimate2 & statistic & p.value & parameter & conf.low & conf.high & method & alternative\\\\\n",
       " <dbl> & <dbl> & <dbl> & <dbl> & <dbl> & <dbl> & <dbl> & <dbl> & <chr> & <chr>\\\\\n",
       "\\hline\n",
       "\t 25373 & 122875 & 97502 & 4.452 & 0.000005279 & 490.7 & 15980 & Inf & Welch Two Sample t-test & greater\\\\\n",
       "\\end{tabular}\n"
      ],
      "text/markdown": [
       "\n",
       "A tibble: 1 × 10\n",
       "\n",
       "| estimate &lt;dbl&gt; | estimate1 &lt;dbl&gt; | estimate2 &lt;dbl&gt; | statistic &lt;dbl&gt; | p.value &lt;dbl&gt; | parameter &lt;dbl&gt; | conf.low &lt;dbl&gt; | conf.high &lt;dbl&gt; | method &lt;chr&gt; | alternative &lt;chr&gt; |\n",
       "|---|---|---|---|---|---|---|---|---|---|\n",
       "| 25373 | 122875 | 97502 | 4.452 | 0.000005279 | 490.7 | 15980 | Inf | Welch Two Sample t-test | greater |\n",
       "\n"
      ],
      "text/plain": [
       "  estimate estimate1 estimate2 statistic p.value     parameter conf.low\n",
       "1 25373    122875    97502     4.452     0.000005279 490.7     15980   \n",
       "  conf.high method                  alternative\n",
       "1 Inf       Welch Two Sample t-test greater    "
      ]
     },
     "metadata": {},
     "output_type": "display_data"
    }
   ],
   "source": [
    "t_test_results <- tidy(t.test(x = remote_binary %>% filter(fully_remote == \"TRUE\") %>% pull(salary_in_usd), \n",
    "                              y = remote_binary %>% filter(fully_remote == \"FALSE\") %>% pull(salary_in_usd),\n",
    "                              alternative = \"greater\"))\n",
    "\n",
    "t_test_results"
   ]
  },
  {
   "cell_type": "code",
   "execution_count": null,
   "id": "205637e8-ba06-41b2-924e-c8f7d160ecb8",
   "metadata": {},
   "outputs": [],
   "source": [
    "t_test_results"
   ]
  },
  {
   "cell_type": "markdown",
   "id": "c2c9198f-29ab-4a33-8871-64896a640a01",
   "metadata": {},
   "source": [
    "- very small p-value, strong evidence to reject H0\n",
    "- result in favour of hypothesis of big difference\n",
    "- but how big and where is the difference? \n",
    "- Using IQR to look closely into the differences\n"
   ]
  },
  {
   "cell_type": "code",
   "execution_count": 37,
   "id": "bf928994-1d76-4bac-ac94-0eb2471c6d27",
   "metadata": {},
   "outputs": [
    {
     "data": {
      "image/png": "[encoded data removed]",
      "text/plain": [
       "plot without title"
      ]
     },
     "metadata": {
      "image/png": {
       "height": 360,
       "width": 960
      }
     },
     "output_type": "display_data"
    }
   ],
   "source": [
    "options(repr.plot.width = 16, repr.plot.height = 6)\n",
    "options(\"scipen\"=10, \"digits\"=4)\n",
    "\n",
    "boxplots_all <- remote_binary %>%  \n",
    "    ggplot(aes(x = fully_remote, y = salary_in_usd, fill = fully_remote)) + \n",
    "    scale_fill_brewer(palette = \"Pastel2\") +\n",
    "    geom_boxplot() + \n",
    "    ylab(\"salary in USD\") +\n",
    "    ggtitle(\"Boxplots of salary values in USD between fully-remote and non-fully_remote groups\") +\n",
    "    theme(text = element_text(size=16)) +\n",
    "    # geom_hline(yintercept = median_overall, color=\"red\", size = 1, linetype = \"longdash\") \n",
    "    geom_hline(yintercept = mean_overall, color = \"darkolivegreen3\", size = 1, linetype = \"longdash\") +\n",
    "        annotate(\"text\", x = 0, y = mean_overall,label = \"overall sample mean\", color = \"darkolivegreen3\", size=5, hjust = -0.05, vjust = -0.5) +\n",
    "    geom_hline(yintercept = median_overall, color = \"aquamarine4\", size = 1, linetype = \"solid\") +\n",
    "        annotate(\"text\", x = 0, y = median_overall,label = \"overall sample median\", color = \"aquamarine4\", size=5, hjust = -0.05, vjust = 1.1)+\n",
    "\n",
    "    # refine the limits and breaks of the x and y scales:\n",
    "    scale_y_continuous(limits = c(0, 600000), breaks = seq(0, 600000, 100000)) \n",
    "\n",
    "\n",
    "boxplots_all"
   ]
  },
  {
   "cell_type": "code",
   "execution_count": 52,
   "id": "cc0c8d3c-c5d8-4d8a-8363-bc7e663facb8",
   "metadata": {},
   "outputs": [
    {
     "data": {
      "text/html": [
       "<table class=\"dataframe\">\n",
       "<caption>A tibble: 6 × 2</caption>\n",
       "<thead>\n",
       "\t<tr><th scope=col>replicate</th><th scope=col>IQR</th></tr>\n",
       "\t<tr><th scope=col>&lt;int&gt;</th><th scope=col>&lt;dbl&gt;</th></tr>\n",
       "</thead>\n",
       "<tbody>\n",
       "\t<tr><td>1</td><td>84668</td></tr>\n",
       "\t<tr><td>2</td><td>92995</td></tr>\n",
       "\t<tr><td>3</td><td>88026</td></tr>\n",
       "\t<tr><td>4</td><td>84228</td></tr>\n",
       "\t<tr><td>5</td><td>84600</td></tr>\n",
       "\t<tr><td>6</td><td>94051</td></tr>\n",
       "</tbody>\n",
       "</table>\n"
      ],
      "text/latex": [
       "A tibble: 6 × 2\n",
       "\\begin{tabular}{ll}\n",
       " replicate & IQR\\\\\n",
       " <int> & <dbl>\\\\\n",
       "\\hline\n",
       "\t 1 & 84668\\\\\n",
       "\t 2 & 92995\\\\\n",
       "\t 3 & 88026\\\\\n",
       "\t 4 & 84228\\\\\n",
       "\t 5 & 84600\\\\\n",
       "\t 6 & 94051\\\\\n",
       "\\end{tabular}\n"
      ],
      "text/markdown": [
       "\n",
       "A tibble: 6 × 2\n",
       "\n",
       "| replicate &lt;int&gt; | IQR &lt;dbl&gt; |\n",
       "|---|---|\n",
       "| 1 | 84668 |\n",
       "| 2 | 92995 |\n",
       "| 3 | 88026 |\n",
       "| 4 | 84228 |\n",
       "| 5 | 84600 |\n",
       "| 6 | 94051 |\n",
       "\n"
      ],
      "text/plain": [
       "  replicate IQR  \n",
       "1 1         84668\n",
       "2 2         92995\n",
       "3 3         88026\n",
       "4 4         84228\n",
       "5 5         84600\n",
       "6 6         94051"
      ]
     },
     "metadata": {},
     "output_type": "display_data"
    },
    {
     "name": "stderr",
     "output_type": "stream",
     "text": [
      "`stat_bin()` using `bins = 30`. Pick better value with `binwidth`.\n",
      "\n"
     ]
    },
    {
     "data": {
      "text/html": [
       "<table class=\"dataframe\">\n",
       "<caption>A tibble: 1 × 2</caption>\n",
       "<thead>\n",
       "\t<tr><th scope=col>lower_ci</th><th scope=col>upper_ci</th></tr>\n",
       "\t<tr><th scope=col>&lt;dbl&gt;</th><th scope=col>&lt;dbl&gt;</th></tr>\n",
       "</thead>\n",
       "<tbody>\n",
       "\t<tr><td>NA</td><td>NA</td></tr>\n",
       "</tbody>\n",
       "</table>\n"
      ],
      "text/latex": [
       "A tibble: 1 × 2\n",
       "\\begin{tabular}{ll}\n",
       " lower\\_ci & upper\\_ci\\\\\n",
       " <dbl> & <dbl>\\\\\n",
       "\\hline\n",
       "\t NA & NA\\\\\n",
       "\\end{tabular}\n"
      ],
      "text/markdown": [
       "\n",
       "A tibble: 1 × 2\n",
       "\n",
       "| lower_ci &lt;dbl&gt; | upper_ci &lt;dbl&gt; |\n",
       "|---|---|\n",
       "| NA | NA |\n",
       "\n"
      ],
      "text/plain": [
       "  lower_ci upper_ci\n",
       "1 NA       NA      "
      ]
     },
     "metadata": {},
     "output_type": "display_data"
    },
    {
     "data": {
      "image/png": "[encoded data removed]",
      "text/plain": [
       "plot without title"
      ]
     },
     "metadata": {
      "image/png": {
       "height": 240,
       "width": 960
      }
     },
     "output_type": "display_data"
    }
   ],
   "source": []
  },
  {
   "cell_type": "markdown",
   "id": "1ee8dd5a-c408-4ee3-b5bb-7c273fad43e8",
   "metadata": {},
   "source": [
    "~notice a big outlier?~\n",
    "    ~may affect results?~\n",
    "~executive position are not representative of population, would therefore remove?~"
   ]
  },
  {
   "cell_type": "code",
   "execution_count": 38,
   "id": "c6f32244-f629-43db-ae87-19d03ea5163b",
   "metadata": {},
   "outputs": [
    {
     "ename": "ERROR",
     "evalue": "Error in new_data_frame(list(xintercept = xintercept)): object 'lower_quantile_non_fully_remote' not found\n",
     "output_type": "error",
     "traceback": [
      "Error in new_data_frame(list(xintercept = xintercept)): object 'lower_quantile_non_fully_remote' not found\nTraceback:\n",
      "1. geom_vline(xintercept = lower_quantile_non_fully_remote, colour = \"aquamarine3\", \n .     size = 1, linetype = \"longdash\")",
      "2. new_data_frame(list(xintercept = xintercept))"
     ]
    }
   ],
   "source": [
    "options(repr.plot.width = 16, repr.plot.height = 4)\n",
    "options(\"scipen\"=10, \"digits\"=4)\n",
    "\n",
    "# non fully remote group:\n",
    "plot_IQR_non_fully_remote <- non_fully_remote %>%\n",
    "    ggplot(aes(x = salary_in_usd)) +\n",
    "    geom_histogram(binwidth = 5000, color = 'blue', fill = 'light blue') +\n",
    "    labs(title = \"Distribution of Conventional Data Science Annual Salaries (2020 - 2022)\",\n",
    "         x = 'annual salary in USD',\n",
    "         y = 'counts') + \n",
    "        theme(text = element_text(size = 16)) +\n",
    "\n",
    "    # add in coloured vertical lines with labels for group mean and group meadian as reference:\n",
    "    geom_vline(xintercept = lower_quantile_non_fully_remote, colour = 'aquamarine3', size = 1, linetype = \"longdash\") +\n",
    "        annotate(\"text\", x = lower_quantile_non_fully_remote, y = 13, label = \"Q1: 25%\", color = 'aquamarine3', size = 5, hjust = 1.1) +\n",
    "    geom_vline(xintercept = upper_quantile_non_fully_remote, colour = 'aquamarine3', size = 1, linetype = \"longdash\") +\n",
    "        annotate(\"text\", x = upper_quantile_non_fully_remote, y = 13, label = \"Q3: 75%\", color = 'aquamarine3', size = 5, hjust = -0.1) +\n",
    "    annotate(\"rect\", xmin = lower_quantile_non_fully_remote, xmax = upper_quantile_non_fully_remote, ymin = 0, ymax = Inf,\n",
    "             fill = \"aquamarine\",\n",
    "             alpha = 0.3) +\n",
    "    geom_vline(xintercept = median_non_fully_remote, colour = 'aquamarine4', size = 1, linetype = \"solid\") +\n",
    "        annotate(\"text\", x = median_non_fully_remote, y = 15, label = \"Q2:median\", color = 'aquamarine4', size=5, hjust = -0.1) +\n",
    "    \n",
    "    # # add grey vertical lines for sample mean and sample meadian from sections above:\n",
    "    # geom_vline(xintercept = 113468, colour = 'grey', size = 1, linetype = \"solid\") +\n",
    "    # geom_vline(xintercept = 104196, colour = 'grey', size = 1, linetype = \"longdash\") +\n",
    "\n",
    "   # refine the limits and breaks of the x and y scales:\n",
    "    scale_y_continuous(limits = c(0, 15), breaks = seq(0, 15, 5)) +\n",
    "    scale_x_continuous(limits = c(0, 600001), breaks = seq(0, 600001, 30000)) \n",
    "\n",
    "plot_IQR_non_fully_remote\n",
    "\n",
    "\n",
    "# fully remote group:\n",
    "remote_plot <- fully_remote %>%\n",
    "    ggplot(aes(x = salary_in_usd)) +\n",
    "    geom_histogram(binwidth = 5000, color = 'blue', fill = 'light blue') +\n",
    "    labs(title = \"Distribution of Fully Remote Data Science Annual Salaries (2020 - 2022)\",\n",
    "         x = 'annual salary in USD',\n",
    "         y = 'counts') + \n",
    "        theme(text = element_text(size = 16)) +\n",
    "\n",
    "\n",
    "    geom_vline(xintercept = lower_quantile_fully_remote, colour = 'aquamarine3', size = 1, linetype = \"longdash\") +\n",
    "        annotate(\"text\", x = lower_quantile_fully_remote, y = 18, label = \"Q1: 25%\", color = 'aquamarine3', size = 5, hjust = 1.1) +\n",
    "    geom_vline(xintercept = upper_quantile_fully_remote, colour = 'aquamarine3', size = 1, linetype = \"longdash\") +\n",
    "        annotate(\"text\", x = upper_quantile_fully_remote, y = 18, label = \"Q3: 75%\", color = 'aquamarine3', size = 5, hjust = -0.1) +\n",
    "    annotate(\"rect\", xmin = lower_quantile_fully_remote, xmax = upper_quantile_fully_remote, ymin = 0, ymax = Inf,\n",
    "             fill = \"aquamarine\",\n",
    "             alpha = 0.3) +\n",
    "    geom_vline(xintercept = median_fully_remote, colour = 'aquamarine4', size = 1, linetype = \"solid\") +\n",
    "        annotate(\"text\", x = median_fully_remote, y = 20, label = \"Q2:median\", color = 'aquamarine4', size=5, hjust = -0.1) +\n",
    "    \n",
    "\n",
    "\n",
    "    # # add in coloured vertical lines with labels for group mean and group meadian as reference:\n",
    "    # geom_vline(xintercept = 122874.89, colour = 'hot pink', size = 1, linetype = \"solid\") +\n",
    "    #     annotate(\"text\", x = 122874.89, y = 20, label = \"mean = 122874.89\", color = \"hot pink\", size = 5, hjust = 2.5) +\n",
    "    # geom_vline(xintercept = 115717, colour = '#00827f', alpha = 0.36, size = 1, linetype = \"longdash\") +\n",
    "    #     annotate(\"text\", x = 115717, y = 20, label = \"median = 115717\", color = '#00827f', alpha = 0.36, size=5, hjust = 3) +\n",
    "\n",
    "    # # add grey vertical lines for sample mean and sample meadian from sections above:\n",
    "    # geom_vline(xintercept = 113468, colour = 'grey', size = 1, linetype = \"solid\") +\n",
    "    # geom_vline(xintercept = 104196, colour = 'grey', size = 1, linetype = \"longdash\") +\n",
    "\n",
    "   # refine the limits and breaks of the x and y scales:\n",
    "    scale_y_continuous(limits = c(0, 20), breaks = seq(0, 20, 5)) +\n",
    "    scale_x_continuous(limits = c(0, 600001), breaks = seq(0, 600001, 30000)) \n",
    "\n",
    "remote_plot\n",
    "\n",
    "\n",
    "# The warning message is only caused by adjusting the y-axis breaks and limits, which does not affect calculation for analysis.\n",
    "# We double-checked the raw data, and there is no \"missing values\" for the two removed rows in the dataset itself.\n",
    "# This specific data visualization warning message will be dealt with within the report.\n"
   ]
  },
  {
   "cell_type": "markdown",
   "id": "3f408e2d-f20b-4c57-b8dd-cf4aee05010c",
   "metadata": {},
   "source": [
    "- hypothesis test suggest big difference, can't really tell from IQR.\n",
    "\n",
    "- Just knowing it's different/bigger is not quite informative for our interests.\n",
    "\n",
    "- does that difference differ in regions? what about gaps between payscales in different countries?"
   ]
  },
  {
   "cell_type": "code",
   "execution_count": null,
   "id": "8807bff8-38dd-4e52-85bc-fb95271cf282",
   "metadata": {},
   "outputs": [],
   "source": [
    "## original country means across population - need to be confirmed\n",
    "\n",
    "## within country cross remote\n",
    "us_remote_binary <- remote_binary %>% \n",
    "    filter(company_location == \"US\")\n",
    "# head(us_remote_binary)\n",
    "\n",
    "ca_remote_binary <- remote_binary %>% \n",
    "    filter(company_location == \"CA\")\n",
    "# head(ca_remote_binary)\n",
    "\n",
    "others_remote_binary <- remote_binary %>% \n",
    "    filter(company_location != \"CA\", \n",
    "           company_location !=\"US\")\n",
    "# head(others_remote_binary)\n",
    "\n",
    "\n",
    "#calculate observed test statistic \n",
    "us_obs_diff_in_means <- \n",
    "    us_remote_binary %>% \n",
    "    specify(formula = salary_in_usd ~ fully_remote) %>%\n",
    "    calculate(stat = \"diff in means\", order = c(\"TRUE\", \"FALSE\"))\n",
    "# us_obs_diff_in_means\n",
    "\n",
    "# build the null distribution\n",
    "us_null_dist <- us_remote_binary %>%\n",
    "    specify(formula = salary_in_usd ~ fully_remote) %>% \n",
    "    hypothesize(null = \"independence\") %>% \n",
    "    generate(reps = 10000, type = \"permute\") %>% \n",
    "    calculate(stat=\"diff in means\", order = c(\"TRUE\", \"FALSE\"))\n",
    "# head(us_null_dist)\n",
    "\n",
    "# # visualization \n",
    "# diff_in_medians_plot <-\n",
    "#     visualize(null_dist, bins = 10) + \n",
    "#     shade_p_value(obs_stat = obs_diff_in_means, direction = \"right\") +\n",
    "#     xlab(\"Difference in mean\") +\n",
    "#     theme(text = element_text(size = 20))\n",
    "# diff_in_medians_plot\n",
    "\n",
    "# get p value\n",
    "us_p_value <- us_null_dist %>% \n",
    "    get_p_value(obs_stat = us_obs_diff_in_means, direction = \"right\") %>%\n",
    "    pull()\n",
    "# us_p_value\n",
    "\n",
    "\n",
    "#calculate observed test statistic \n",
    "ca_obs_diff_in_means <- \n",
    "    ca_remote_binary %>% \n",
    "    specify(formula = salary_in_usd ~ fully_remote) %>%\n",
    "    calculate(stat = \"diff in means\", order = c(\"TRUE\", \"FALSE\"))\n",
    "# ca_obs_diff_in_means\n",
    "\n",
    "# build the null distribution\n",
    "ca_null_dist <- ca_remote_binary %>%\n",
    "    specify(formula = salary_in_usd ~ fully_remote) %>% \n",
    "    hypothesize(null = \"independence\") %>% \n",
    "    generate(reps = 10000, type = \"permute\") %>% \n",
    "    calculate(stat=\"diff in means\", order = c(\"TRUE\", \"FALSE\"))\n",
    "# head(ca_null_dist)\n",
    "\n",
    "# # visualization \n",
    "# diff_in_medians_plot <-\n",
    "#     visualize(null_dist, bins = 10) + \n",
    "#     shade_p_value(obs_stat = obs_diff_in_means, direction = \"right\") +\n",
    "#     xlab(\"Difference in mean\") +\n",
    "#     theme(text = element_text(size = 20))\n",
    "# diff_in_medians_plot\n",
    "\n",
    "# get p value\n",
    "ca_p_value <- ca_null_dist %>% \n",
    "    get_p_value(obs_stat = ca_obs_diff_in_means, direction = \"right\") %>%\n",
    "    pull()\n",
    "# ca_p_value\n",
    "\n",
    "\n",
    "#calculate observed test statistic \n",
    "others_obs_diff_in_means <- \n",
    "    others_remote_binary %>% \n",
    "    specify(formula = salary_in_usd ~ fully_remote) %>%\n",
    "    calculate(stat = \"diff in means\", order = c(\"TRUE\", \"FALSE\"))\n",
    "# obs_diff_in_means\n",
    "\n",
    "# build the null distribution\n",
    "others_null_dist <- others_remote_binary %>%\n",
    "    specify(formula = salary_in_usd ~ fully_remote) %>% \n",
    "    hypothesize(null = \"independence\") %>% \n",
    "    generate(reps = 10000, type = \"permute\") %>% \n",
    "    calculate(stat=\"diff in means\", order = c(\"TRUE\", \"FALSE\"))\n",
    "# head(others_null_dist)\n",
    "\n",
    "# # visualization \n",
    "# diff_in_medians_plot <-\n",
    "#     visualize(null_dist, bins = 10) + \n",
    "#     shade_p_value(obs_stat = obs_diff_in_means, direction = \"right\") +\n",
    "#     xlab(\"Difference in mean\") +\n",
    "#     theme(text = element_text(size = 20))\n",
    "# diff_in_medians_plot\n",
    "\n",
    "# get p value\n",
    "others_p_value <- others_null_dist %>% \n",
    "    get_p_value(obs_stat = others_obs_diff_in_means, direction = \"right\") %>%\n",
    "    pull()\n",
    "# others_p_value\n",
    "\n",
    "cat(\" p-value for US region:\", us_p_value, \"\\n\", \"p-value for Canada region:\", ca_p_value, \"\\n\", \"p-value for other countires:\", others_p_value)\n"
   ]
  },
  {
   "cell_type": "markdown",
   "id": "6e2e97b9-0b29-4a08-8b3a-779a6f6e0bd2",
   "metadata": {},
   "source": [
    "\n",
    "- given obvious differences among different regions and clear outliers in each group, choose to use IQR instead of repeated hypothesis testing to conduct more in-depth investigations about how salaries differ between fully-remote and conventional groups among different regions"
   ]
  },
  {
   "cell_type": "code",
   "execution_count": null,
   "id": "1e7ee77f-dd57-473a-bb5c-c8f3b333491d",
   "metadata": {},
   "outputs": [],
   "source": [
    "## Inter-quartile range:\n",
    "\n",
    "# non fully remote group:\n",
    "lower_quantile_non_fully_remote <- \n",
    "    non_fully_remote %>% \n",
    "    pull(salary_in_usd) %>% \n",
    "    quantile(0.25)\n",
    "lower_quantile_non_fully_remote\n",
    "\n",
    "upper_quantile_non_fully_remote <- \n",
    "    non_fully_remote %>% \n",
    "    pull(salary_in_usd) %>% \n",
    "    quantile(0.75)\n",
    "upper_quantile_non_fully_remote\n",
    "\n",
    "median_non_fully_remote <- non_fully_remote %>% \n",
    "    summarise(median = median(salary_in_usd)) %>% \n",
    "    pull()\n",
    "median_non_fully_remote\n",
    "\n",
    "\n",
    "# fully remote group:\n",
    "lower_quantile_fully_remote <- \n",
    "    fully_remote %>% \n",
    "    pull(salary_in_usd) %>% \n",
    "    quantile(0.25)\n",
    "lower_quantile_fully_remote\n",
    "\n",
    "upper_quantile_fully_remote <- \n",
    "    fully_remote %>% \n",
    "    pull(salary_in_usd) %>% \n",
    "    quantile(0.75)\n",
    "upper_quantile_fully_remote\n",
    "\n",
    "median_fully_remote <- fully_remote %>% \n",
    "    summarise(median = median(salary_in_usd)) %>% \n",
    "    pull()\n",
    "median_fully_remote"
   ]
  },
  {
   "cell_type": "markdown",
   "id": "2074cecf-b52a-440e-ad07-d9d1dee64b43",
   "metadata": {},
   "source": [
    "- look into countries to check potential regional payscale differences\n",
    "- US, majority of data, advanced in data science, so need to check as a single group\n",
    "- Canada is most relevant to both authors and readers, so will also investigate as a single group\n",
    "- re-group the rest of the countires for comparison. "
   ]
  },
  {
   "cell_type": "code",
   "execution_count": null,
   "id": "bda28cf4-a881-451e-a5af-cb3839bbd4b2",
   "metadata": {},
   "outputs": [],
   "source": [
    "# remote_binary_region_groups <- remote_binary[\"company_location\"][remote_binary[\"company_location\"] != c(\"US\",\"CA\") ] <- \"Others\"\n",
    "\n",
    "tally_remote_binary <- remote_binary %>%\n",
    "    group_by(company_location) %>%\n",
    "    summarise(total = length(company_location))\n",
    "tally_remote_binary\n",
    "    \n",
    "\n",
    "# Duplicate original cleaned dataframe to re-assigned region groups\n",
    "remote_binary_region_groups <- remote_binary\n",
    "\n",
    "# Re-categorize countries into US, Canada, and Others\n",
    "# remote_binary_region_groups[\"company_location\"][remote_binary[\"company_location\"] != c(\"US\", \"CA\") ] <- \"Others\"\n",
    "remote_binary_region_groups[\"company_location\"][remote_binary_region_groups[\"company_location\"] != \"US\" & remote_binary_region_groups[\"company_location\"] != \"CA\"] <- \"Others\"\n",
    "# glimpse(remote_binary_region_groups)\n",
    "# head(remote_binary_region_groups)\n",
    "# remote_binary_region_groups\n",
    "\n",
    "tally_remote_binary_region_groups <- remote_binary_region_groups %>%\n",
    "    group_by(company_location) %>%\n",
    "    summarise(total = length(company_location))\n",
    "tally_remote_binary_region_groups\n",
    "\n",
    "# remote_binary_region_groups %>%\n",
    "#     filter(company_location != \"US\") %>%\n",
    "#     filter(company_location != \"Others\") \n",
    "# remote_binary_region_groups\n",
    "\n",
    "\n",
    "# df[\"group_b\"][df[\"group_b\"] == 11] <- 77"
   ]
  },
  {
   "cell_type": "code",
   "execution_count": null,
   "id": "8310d868-0d19-41ff-93a8-f71f020fe647",
   "metadata": {},
   "outputs": [],
   "source": [
    "boxplots_remote_regions <- remote_binary_region_groups %>%  \n",
    "    ggplot(aes(x = fully_remote, y = salary_in_usd, fill = company_location)) + \n",
    "    scale_fill_brewer(palette = \"Pastel1\") +\n",
    "    geom_boxplot() + \n",
    "    xlab(\"fully remote\") +\n",
    "    ylab(\"salary in USD\") +\n",
    "    ggtitle(\"Boxplots of salary values in USD between remote groups for US, Canada, and others countries\") +\n",
    "    theme(text = element_text(size=18)) +\n",
    "    # geom_hline(yintercept = median_overall, color=\"red\", size = 1, linetype = \"longdash\") \n",
    "    geom_hline(yintercept = mean_overall, color = \"darkolivegreen3\", size = 1, linetype = \"longdash\") +\n",
    "        annotate(\"text\", x = 0, y = mean_overall,label = \"overall sample mean\", color = \"darkolivegreen3\", size=5, hjust = -0.05, vjust = -0.5) +\n",
    "    geom_hline(yintercept = median_overall, color = \"aquamarine4\", size = 1, linetype = \"solid\") +\n",
    "        annotate(\"text\", x = 0, y = median_overall,label = \"overall sample median\", color = \"aquamarine4\", size=5, hjust = -0.05, vjust = 1.1)\n",
    "\n",
    "boxplots_remote_regions"
   ]
  },
  {
   "cell_type": "code",
   "execution_count": 39,
   "id": "49b5eaef-124f-4499-9681-c5f8ff6d037b",
   "metadata": {},
   "outputs": [
    {
     "data": {
      "image/png": "[encoded data removed]",
      "text/plain": [
       "plot without title"
      ]
     },
     "metadata": {
      "image/png": {
       "height": 240,
       "width": 960
      }
     },
     "output_type": "display_data"
    }
   ],
   "source": [
    "boxplots_regions_remote <- remote_binary_region_groups %>%  \n",
    "    ggplot(aes(x = company_location, y = salary_in_usd, fill = fully_remote)) + \n",
    "    scale_fill_brewer(palette = \"Pastel2\") +\n",
    "    geom_boxplot() + \n",
    "    xlab(\"regions\") +\n",
    "    ylab(\"salary in USD\") +\n",
    "    ggtitle(\"Boxplots of salary values in USD between remote groups for US, Canada, and others countries\") +\n",
    "    theme(text = element_text(size=18)) +\n",
    "    # geom_hline(yintercept = median_overall, color=\"red\", size = 1, linetype = \"longdash\") \n",
    "    geom_hline(yintercept = mean_overall, color = \"darkolivegreen3\", size = 1, linetype = \"longdash\") +\n",
    "        annotate(\"text\", x = 0, y = mean_overall,label = \"overall sample mean\", color = \"darkolivegreen3\", size=5, hjust = -0.05, vjust = -0.5) +\n",
    "    geom_hline(yintercept = median_overall, color = \"aquamarine4\", size = 1, linetype = \"solid\") +\n",
    "        annotate(\"text\", x = 0, y = median_overall,label = \"overall sample median\", color = \"aquamarine4\", size=5, hjust = -0.05, vjust = 1.1)\n",
    "\n",
    "boxplots_regions_remote"
   ]
  },
  {
   "cell_type": "code",
   "execution_count": 43,
   "id": "ff4b4a70-59c6-4ba6-aaf0-0d80ec0bded9",
   "metadata": {},
   "outputs": [
    {
     "ename": "ERROR",
     "evalue": "Error in ci_IQR(., salary_in_USD, probs = c(0.25, 0.75), type = \"bootstrap\", : could not find function \"ci_IQR\"\n",
     "output_type": "error",
     "traceback": [
      "Error in ci_IQR(., salary_in_USD, probs = c(0.25, 0.75), type = \"bootstrap\", : could not find function \"ci_IQR\"\nTraceback:\n",
      "1. df %>% ci_IQR(salary_in_USD, probs = c(0.25, 0.75), type = \"bootstrap\", \n .     R = 9999)"
     ]
    }
   ],
   "source": [
    "overall_IQR <- df %>% \n",
    "    ci_IQR(salary_in_USD,\n",
    "    probs = c(0.25, 0.75),\n",
    "    type = \"bootstrap\",\n",
    "    # boot_type = c(\"bca\", \"perc\", \"norm\", \"basic\"),\n",
    "    R = 9999)\n"
   ]
  },
  {
   "cell_type": "code",
   "execution_count": 18,
   "id": "06e3efb8-1314-4a54-8b39-a35e21d671bf",
   "metadata": {},
   "outputs": [],
   "source": [
    "# ## change mean to median \n",
    "\n",
    "# # hypothesis test (two group)\n",
    "# # make the remote_ratio column two categories, so that it is easier to work with\n",
    "# # remote_binary <- df %>% \n",
    "# #     mutate(full_remote = (remote_ratio == 100)) %>% \n",
    "# #     select(-remote_ratio)\n",
    "# # head(remote_binary)\n",
    "\n",
    "# #calculate observed test statistic \n",
    "# obs_diff_in_meds <- remote_binary %>% \n",
    "#     specify(formula = salary_in_usd ~ fully_remote) %>%\n",
    "#     calculate(stat = \"diff in medians\", order = c(\"TRUE\", \"FALSE\"))\n",
    "# obs_diff_in_meds\n",
    "\n",
    "# # build the null distribution\n",
    "# null_dist_meds <- remote_binary  %>%\n",
    "#     specify(formula = salary_in_usd ~ fully_remote) %>% \n",
    "#     hypothesize(null = \"independence\") %>% \n",
    "#     generate(reps = 10000, type = \"permute\") %>% \n",
    "#     calculate(stat = \"diff in medians\", order = c(\"TRUE\", \"FALSE\"))\n",
    "# head(null_dist_meds)\n",
    "\n",
    "# # # visualization \n",
    "# # diff_in_medians_plot <-\n",
    "# #     visualize(null_dist, bins = 10) + \n",
    "# #     shade_p_value(obs_stat = obs_diff_in_means, direction = \"right\") +\n",
    "# #     xlab(\"Difference in mean\") +\n",
    "# #     theme(text = element_text(size = 20))\n",
    "# # diff_in_medians_plot\n",
    "\n",
    "# # get p value\n",
    "# p_value_meds <- null_dist_meds %>% \n",
    "#     get_p_value(obs_stat = obs_diff_in_meds, direction = \"right\")\n",
    "# p_value_meds\n"
   ]
  },
  {
   "cell_type": "markdown",
   "id": "3c53adac",
   "metadata": {},
   "source": [
    "- Hi Ziya :)"
   ]
  },
  {
   "cell_type": "markdown",
   "id": "827b46d7",
   "metadata": {},
   "source": [
    "*Make sure to **interpret the results you obtain**. It’s not enough to just state what a 90% confidence interval is, for example.*\n",
    "\n",
    "*Ensure your tables and/or figures are labeled with a figure/table number.\n",
    "**Do you think one of bootstrapping or asymptotics is more appropriate than the other? Why or why not?** Explain why you think both methods gave you similar/different results, and whether you think one is more trustworthy than the other.*"
   ]
  },
  {
   "cell_type": "markdown",
   "id": "31ca8925",
   "metadata": {},
   "source": [
    "### 2.4 Results and interpretations"
   ]
  },
  {
   "cell_type": "markdown",
   "id": "977d7970",
   "metadata": {},
   "source": [
    "- Z & Y"
   ]
  },
  {
   "cell_type": "markdown",
   "id": "01d5cd87",
   "metadata": {},
   "source": [
    "# 3. Discussion\n",
    "*In this section, you’ll **interpret the results** you obtained in the previous section*\n",
    "***with respect to the main question/goal of your project.***\n",
    "- *Summarize what you found, and the implications/impact of your findings.*\n",
    "- *If relevant, discuss whether your results were what you expected to find.*\n",
    "- *Discuss future questions/research this study could lead to.*"
   ]
  },
  {
   "cell_type": "markdown",
   "id": "94dc9133",
   "metadata": {},
   "source": [
    "### 3.1 Findings and implications"
   ]
  },
  {
   "cell_type": "markdown",
   "id": "9130d50a",
   "metadata": {},
   "source": [
    "### 3.2 Expectations "
   ]
  },
  {
   "cell_type": "markdown",
   "id": "e0d24798",
   "metadata": {},
   "source": [
    "### 3.3 Future questions and research"
   ]
  },
  {
   "cell_type": "markdown",
   "id": "ddb9cba3",
   "metadata": {},
   "source": [
    "# 4. References\n",
    "*The same instructions for your proposal also applies here. You only need to **make changes if necessary (e.g., if feedback indicates so).***"
   ]
  },
  {
   "cell_type": "markdown",
   "id": "fb8399b1",
   "metadata": {},
   "source": [
    "“Ai-Jobs.net Salaries.” Salaries.ai, https://salaries.ai-jobs.net/. \n",
    "\n",
    "Bhatia, Ruchi. “Data Science Job Salaries.” Kaggle, 15 June 2022, https://www.kaggle.com/datasets/ruchi798/data-science-job-salaries. \n",
    "\n",
    "Brynjolfsson, Erik, et al. “Covid-19 and Remote Work: An Early Look at US Data.” 2020, https://doi.org/10.3386/w27344.\n",
    "\n",
    "Galanti, Teresa et al. “Work From Home During the COVID-19 Outbreak: The Impact on Employees' Remote Work Productivity, Engagement, and Stress.” Journal of occupational and environmental medicine vol. 63,7 (2021): e426-e432. doi:10.1097/JOM.0000000000002236"
   ]
  },
  {
   "cell_type": "code",
   "execution_count": null,
   "id": "67ced0be",
   "metadata": {},
   "outputs": [],
   "source": []
  }
 ],
 "metadata": {
  "kernelspec": {
   "display_name": "R",
   "language": "R",
   "name": "ir"
  },
  "language_info": {
   "codemirror_mode": "r",
   "file_extension": ".r",
   "mimetype": "text/x-r-source",
   "name": "R",
   "pygments_lexer": "r",
   "version": "4.0.5"
  }
 },
 "nbformat": 4,
 "nbformat_minor": 5
}
