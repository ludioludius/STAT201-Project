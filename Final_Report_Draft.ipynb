{
 "cells": [
  {
   "cell_type": "markdown",
   "id": "25dddd20",
   "metadata": {},
   "source": [
    "# Deliverable 4: Final Report"
   ]
  },
  {
   "cell_type": "markdown",
   "id": "4fc2469b",
   "metadata": {},
   "source": [
    "# 1. Introduction\n"
   ]
  },
  {
   "cell_type": "markdown",
   "id": "af36c55d",
   "metadata": {},
   "source": [
    "Since the beginning of the covid-19 pandemic in 2020, remote work has been on the rise globally (Brynjolfsson, E. et al., 2020). This drastic change in the way companies operate poses numerous challenges and opportunities for both employers and employees. Given the potential increases in productivity (Galanti, Teresa et al., 2021) among remote workers and the obvious decrease in operating costs for companies, it would be insightful to see if these factors point to a difference in salaries among data science professionals. Since the nature of most data science jobs allows fully remote work, it would be informative to look at salary differences between fully-remote and conventional work.\n",
    "\n",
    "This raises an interesting question: **does salary differ between full-remote and conventional positions for full-time data science professionals?** We will provide an estimate of the mean salary for both groups(remote and conventional workers) and conduct a two-sample t-test in an attepmt to provide evidence for there being a difference between the two groups. Given the skewed nature of the salaries in our dataset, we will use the inter-quartile range to quantify the spread of the data. \n",
    "\n",
    "\n",
    "To answer our question, we discovered a dataset originally aggregated by [ai-jobs.net](https://salaries.ai-jobs.net/) through [Kaggle](https://www.kaggle.com/datasets/ruchi798/data-science-job-salaries). This dataset includes 607 observations with 11 factors: year, experience level, full/part-time, job titles, salary values in different currencies, employees location, remote ratio, company locations, and company sizes (more detials see 2.2).  We take the `salary_in_usd` as our response variables and take `remote_ratio` as our explanatory variable."
   ]
  },
  {
   "cell_type": "code",
   "execution_count": 1,
   "id": "05667508",
   "metadata": {},
   "outputs": [
    {
     "name": "stderr",
     "output_type": "stream",
     "text": [
      "── \u001b[1mAttaching packages\u001b[22m ─────────────────────────────────────── tidyverse 1.3.0 ──\n",
      "\n",
      "\u001b[32m✔\u001b[39m \u001b[34mggplot2\u001b[39m 3.3.6     \u001b[32m✔\u001b[39m \u001b[34mdplyr  \u001b[39m 1.0.9\n",
      "\u001b[32m✔\u001b[39m \u001b[34mtibble \u001b[39m 3.1.7     \u001b[32m✔\u001b[39m \u001b[34mstringr\u001b[39m 1.4.0\n",
      "\u001b[32m✔\u001b[39m \u001b[34mpurrr  \u001b[39m 0.3.4     \u001b[32m✔\u001b[39m \u001b[34mforcats\u001b[39m 0.5.1\n",
      "\n",
      "── \u001b[1mConflicts\u001b[22m ────────────────────────────────────────── tidyverse_conflicts() ──\n",
      "\u001b[31m✖\u001b[39m \u001b[34mdplyr\u001b[39m::\u001b[32mfilter()\u001b[39m masks \u001b[34mstats\u001b[39m::filter()\n",
      "\u001b[31m✖\u001b[39m \u001b[34mdplyr\u001b[39m::\u001b[32mident()\u001b[39m  masks \u001b[34mdbplyr\u001b[39m::ident()\n",
      "\u001b[31m✖\u001b[39m \u001b[34mdplyr\u001b[39m::\u001b[32mlag()\u001b[39m    masks \u001b[34mstats\u001b[39m::lag()\n",
      "\u001b[31m✖\u001b[39m \u001b[34mdplyr\u001b[39m::\u001b[32msql()\u001b[39m    masks \u001b[34mdbplyr\u001b[39m::sql()\n",
      "\n",
      "\n",
      "Attaching package: ‘lubridate’\n",
      "\n",
      "\n",
      "The following object is masked from ‘package:cowplot’:\n",
      "\n",
      "    stamp\n",
      "\n",
      "\n",
      "The following objects are masked from ‘package:base’:\n",
      "\n",
      "    date, intersect, setdiff, union\n",
      "\n",
      "\n",
      "\n",
      "Attaching package: ‘scales’\n",
      "\n",
      "\n",
      "The following object is masked from ‘package:purrr’:\n",
      "\n",
      "    discard\n",
      "\n",
      "\n",
      "The following object is masked from ‘package:readr’:\n",
      "\n",
      "    col_factor\n",
      "\n",
      "\n"
     ]
    }
   ],
   "source": [
    "library(readr)\n",
    "library(tidyr)\n",
    "library(infer)\n",
    "library(repr)\n",
    "library(dbplyr)\n",
    "library(tidyverse)\n",
    "library(cowplot)\n",
    "library(ggplot2)\n",
    "library(digest)\n",
    "library(lubridate)\n",
    "library(scales)"
   ]
  },
  {
   "cell_type": "markdown",
   "id": "1a2b3c41",
   "metadata": {},
   "source": [
    "# 2. Methods and Results\n",
    "*Here is where you’ll include your work from the “Preliminary Results” in your proposal, along with the additional results you planned to conduct, as indicated in the “Methods: Plan” section of your proposal.* \n",
    "\n",
    "*Be sure to **incorporate feedback from the teaching team and your peers (as relevant)**, or **make any improvements based on your own improved understanding of the project** (now that more time has passed since the proposal).*\n",
    "\n"
   ]
  },
  {
   "cell_type": "markdown",
   "id": "9708eff9",
   "metadata": {},
   "source": [
    "### 2.1 Preliminary results and improvements in plan"
   ]
  },
  {
   "cell_type": "markdown",
   "id": "90de27ae",
   "metadata": {},
   "source": [
    "- Hi Ayush :)"
   ]
  },
  {
   "cell_type": "markdown",
   "id": "798f30b1",
   "metadata": {},
   "source": [
    "*Specifically, in addition to what is requested in the “Preliminary Results” section of the proposal, we are looking for the following components:*\n",
    "\n",
    "***Describe in written English the methods you used** to perform your analysis from beginning to end that **narrates the code** the does the analysis.*"
   ]
  },
  {
   "cell_type": "markdown",
   "id": "f5281d08",
   "metadata": {},
   "source": [
    "### 2.2 Methods and analysis"
   ]
  },
  {
   "cell_type": "markdown",
   "id": "4f082be7",
   "metadata": {},
   "source": [
    "- Hi Yvonne Ayushi and Ziya :)"
   ]
  },
  {
   "cell_type": "markdown",
   "id": "ed0ad3b4",
   "metadata": {},
   "source": [
    "### 2.3 Visualizations"
   ]
  },
  {
   "cell_type": "markdown",
   "id": "3c53adac",
   "metadata": {},
   "source": [
    "- Hi Ziya :)"
   ]
  },
  {
   "cell_type": "markdown",
   "id": "827b46d7",
   "metadata": {},
   "source": [
    "*Make sure to **interpret the results you obtain**. It’s not enough to just state what a 90% confidence interval is, for example.*\n",
    "\n",
    "*Ensure your tables and/or figures are labeled with a figure/table number.\n",
    "**Do you think one of bootstrapping or asymptotics is more appropriate than the other? Why or why not?** Explain why you think both methods gave you similar/different results, and whether you think one is more trustworthy than the other.*"
   ]
  },
  {
   "cell_type": "markdown",
   "id": "31ca8925",
   "metadata": {},
   "source": [
    "### 2.4 Results and interpretations"
   ]
  },
  {
   "cell_type": "markdown",
   "id": "977d7970",
   "metadata": {},
   "source": [
    "- Z & Y"
   ]
  },
  {
   "cell_type": "markdown",
   "id": "01d5cd87",
   "metadata": {},
   "source": [
    "# 3. Discussion\n",
    "*In this section, you’ll **interpret the results** you obtained in the previous section*\n",
    "***with respect to the main question/goal of your project.***\n",
    "- *Summarize what you found, and the implications/impact of your findings.*\n",
    "- *If relevant, discuss whether your results were what you expected to find.*\n",
    "- *Discuss future questions/research this study could lead to.*"
   ]
  },
  {
   "cell_type": "markdown",
   "id": "94dc9133",
   "metadata": {},
   "source": [
    "### 3.1 Findings and implications"
   ]
  },
  {
   "cell_type": "markdown",
   "id": "9130d50a",
   "metadata": {},
   "source": [
    "### 3.2 Expectations "
   ]
  },
  {
   "cell_type": "markdown",
   "id": "e0d24798",
   "metadata": {},
   "source": [
    "### 3.3 Future questions and research"
   ]
  },
  {
   "cell_type": "markdown",
   "id": "ddb9cba3",
   "metadata": {},
   "source": [
    "# 4. References\n",
    "*The same instructions for your proposal also applies here. You only need to **make changes if necessary (e.g., if feedback indicates so).***"
   ]
  },
  {
   "cell_type": "markdown",
   "id": "fb8399b1",
   "metadata": {},
   "source": [
    "“Ai-Jobs.net Salaries.” Salaries.ai, https://salaries.ai-jobs.net/. \n",
    "\n",
    "Bhatia, Ruchi. “Data Science Job Salaries.” Kaggle, 15 June 2022, https://www.kaggle.com/datasets/ruchi798/data-science-job-salaries. \n",
    "\n",
    "Brynjolfsson, Erik, et al. “Covid-19 and Remote Work: An Early Look at US Data.” 2020, https://doi.org/10.3386/w27344.\n",
    "\n",
    "Galanti, Teresa et al. “Work From Home During the COVID-19 Outbreak: The Impact on Employees' Remote Work Productivity, Engagement, and Stress.” Journal of occupational and environmental medicine vol. 63,7 (2021): e426-e432. doi:10.1097/JOM.0000000000002236"
   ]
  },
  {
   "cell_type": "code",
   "execution_count": null,
   "id": "67ced0be",
   "metadata": {},
   "outputs": [],
   "source": []
  }
 ],
 "metadata": {
  "kernelspec": {
   "display_name": "R",
   "language": "R",
   "name": "ir"
  },
  "language_info": {
   "codemirror_mode": "r",
   "file_extension": ".r",
   "mimetype": "text/x-r-source",
   "name": "R",
   "pygments_lexer": "r",
   "version": "4.0.5"
  }
 },
 "nbformat": 4,
 "nbformat_minor": 5
}
